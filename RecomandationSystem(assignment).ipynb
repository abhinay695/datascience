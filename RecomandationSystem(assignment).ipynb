{
 "cells": [
  {
   "cell_type": "markdown",
   "id": "ad1eabf0-d206-4ca3-bddd-7043164e8338",
   "metadata": {},
   "source": [
    "# Recommendation System"
   ]
  },
  {
   "cell_type": "markdown",
   "id": "24e36434-74d3-495d-9cc1-2792357a30dc",
   "metadata": {},
   "source": [
    "Recommendation System\n",
    "\n",
    "Data Description:\n",
    "\n",
    "Unique ID of each anime.\n",
    "    \n",
    "Anime title.\n",
    "    \n",
    "Anime broadcast type, such as TV, OVA, etc.\n",
    "\n",
    "anime genre.\n",
    "    \n",
    "The number of episodes of each anime.\n",
    "    \n",
    "The average rating for each anime compared to the number of users who gave ratings.\n",
    "\n",
    "\n",
    "Number of community members for each anime.\n",
    "                           \n",
    "Objective:\n",
    "                           \n",
    "The objective of this assignment is to implement a recommendation system using cosine similarity on an anime dataset.\n",
    "                           \n",
    "Dataset:\n",
    "                           \n",
    "Use the Anime Dataset which contains information about various anime, including their titles, genres,No.of episodes and user ratings etc.\n",
    "\n",
    "Tasks:\n",
    "\n",
    "Data Preprocessing:\n",
    "\n",
    "Load the dataset into a suitable data structure (e.g., pandas DataFrame).\n",
    "                           \n",
    "Handle missing values, if any.\n",
    "                           \n",
    "Explore the dataset to understand its structure and attributes.\n",
    "\n",
    "Feature Extraction:\n",
    "\n",
    "Decide on the features that will be used for computing similarity (e.g., genres, user ratings).\n",
    "                           \n",
    "Convert categorical features into numerical representations if necessary.\n",
    "                           \n",
    "Normalize numerical features if required.\n",
    "\n",
    "Recommendation System:\n",
    "\n",
    "Design a function to recommend anime based on cosine similarity.\n",
    "    \n",
    "Given a target anime, recommend a list of similar anime based on cosine similarity scores.\n",
    "    \n",
    "Experiment with different threshold values for similarity scores to adjust the recommendation list size.\n",
    "\n",
    "Evaluation:\n",
    "\n",
    "Split the dataset into training and testing sets.\n",
    "    \n",
    "Evaluate the recommendation system using appropriate metrics such as precision, recall, and F1-score.\n",
    "    \n",
    "Analyze the performance of the recommendation system and identify areas of improvement.\n",
    "\n",
    "Interview Questions:\n",
    "    \n",
    "1. Can you explain the difference between user-based and item-based collaborative filtering?\n",
    "    \n",
    "2. What is collaborative filtering, and how does it work?"
   ]
  },
  {
   "cell_type": "markdown",
   "id": "f545fcc8-6284-43c4-9921-00c6ab3c847d",
   "metadata": {},
   "source": [
    "# Dataset:"
   ]
  },
  {
   "cell_type": "markdown",
   "id": "634b8a74-9e13-4cc4-b4b0-bd63874e6adb",
   "metadata": {},
   "source": [
    "# Data Preprocessing:\n"
   ]
  },
  {
   "cell_type": "code",
   "execution_count": 6,
   "id": "3e7391ae-bb40-43f4-ab04-07be1bf5a337",
   "metadata": {},
   "outputs": [
    {
     "data": {
      "text/html": [
       "<div>\n",
       "<style scoped>\n",
       "    .dataframe tbody tr th:only-of-type {\n",
       "        vertical-align: middle;\n",
       "    }\n",
       "\n",
       "    .dataframe tbody tr th {\n",
       "        vertical-align: top;\n",
       "    }\n",
       "\n",
       "    .dataframe thead th {\n",
       "        text-align: right;\n",
       "    }\n",
       "</style>\n",
       "<table border=\"1\" class=\"dataframe\">\n",
       "  <thead>\n",
       "    <tr style=\"text-align: right;\">\n",
       "      <th></th>\n",
       "      <th>anime_id</th>\n",
       "      <th>name</th>\n",
       "      <th>genre</th>\n",
       "      <th>type</th>\n",
       "      <th>episodes</th>\n",
       "      <th>rating</th>\n",
       "      <th>members</th>\n",
       "    </tr>\n",
       "  </thead>\n",
       "  <tbody>\n",
       "    <tr>\n",
       "      <th>0</th>\n",
       "      <td>32281</td>\n",
       "      <td>Kimi no Na wa.</td>\n",
       "      <td>Drama, Romance, School, Supernatural</td>\n",
       "      <td>Movie</td>\n",
       "      <td>1</td>\n",
       "      <td>9.37</td>\n",
       "      <td>200630</td>\n",
       "    </tr>\n",
       "    <tr>\n",
       "      <th>1</th>\n",
       "      <td>5114</td>\n",
       "      <td>Fullmetal Alchemist: Brotherhood</td>\n",
       "      <td>Action, Adventure, Drama, Fantasy, Magic, Mili...</td>\n",
       "      <td>TV</td>\n",
       "      <td>64</td>\n",
       "      <td>9.26</td>\n",
       "      <td>793665</td>\n",
       "    </tr>\n",
       "    <tr>\n",
       "      <th>2</th>\n",
       "      <td>28977</td>\n",
       "      <td>Gintama°</td>\n",
       "      <td>Action, Comedy, Historical, Parody, Samurai, S...</td>\n",
       "      <td>TV</td>\n",
       "      <td>51</td>\n",
       "      <td>9.25</td>\n",
       "      <td>114262</td>\n",
       "    </tr>\n",
       "    <tr>\n",
       "      <th>3</th>\n",
       "      <td>9253</td>\n",
       "      <td>Steins;Gate</td>\n",
       "      <td>Sci-Fi, Thriller</td>\n",
       "      <td>TV</td>\n",
       "      <td>24</td>\n",
       "      <td>9.17</td>\n",
       "      <td>673572</td>\n",
       "    </tr>\n",
       "    <tr>\n",
       "      <th>4</th>\n",
       "      <td>9969</td>\n",
       "      <td>Gintama&amp;#039;</td>\n",
       "      <td>Action, Comedy, Historical, Parody, Samurai, S...</td>\n",
       "      <td>TV</td>\n",
       "      <td>51</td>\n",
       "      <td>9.16</td>\n",
       "      <td>151266</td>\n",
       "    </tr>\n",
       "    <tr>\n",
       "      <th>...</th>\n",
       "      <td>...</td>\n",
       "      <td>...</td>\n",
       "      <td>...</td>\n",
       "      <td>...</td>\n",
       "      <td>...</td>\n",
       "      <td>...</td>\n",
       "      <td>...</td>\n",
       "    </tr>\n",
       "    <tr>\n",
       "      <th>12289</th>\n",
       "      <td>9316</td>\n",
       "      <td>Toushindai My Lover: Minami tai Mecha-Minami</td>\n",
       "      <td>Hentai</td>\n",
       "      <td>OVA</td>\n",
       "      <td>1</td>\n",
       "      <td>4.15</td>\n",
       "      <td>211</td>\n",
       "    </tr>\n",
       "    <tr>\n",
       "      <th>12290</th>\n",
       "      <td>5543</td>\n",
       "      <td>Under World</td>\n",
       "      <td>Hentai</td>\n",
       "      <td>OVA</td>\n",
       "      <td>1</td>\n",
       "      <td>4.28</td>\n",
       "      <td>183</td>\n",
       "    </tr>\n",
       "    <tr>\n",
       "      <th>12291</th>\n",
       "      <td>5621</td>\n",
       "      <td>Violence Gekiga David no Hoshi</td>\n",
       "      <td>Hentai</td>\n",
       "      <td>OVA</td>\n",
       "      <td>4</td>\n",
       "      <td>4.88</td>\n",
       "      <td>219</td>\n",
       "    </tr>\n",
       "    <tr>\n",
       "      <th>12292</th>\n",
       "      <td>6133</td>\n",
       "      <td>Violence Gekiga Shin David no Hoshi: Inma Dens...</td>\n",
       "      <td>Hentai</td>\n",
       "      <td>OVA</td>\n",
       "      <td>1</td>\n",
       "      <td>4.98</td>\n",
       "      <td>175</td>\n",
       "    </tr>\n",
       "    <tr>\n",
       "      <th>12293</th>\n",
       "      <td>26081</td>\n",
       "      <td>Yasuji no Pornorama: Yacchimae!!</td>\n",
       "      <td>Hentai</td>\n",
       "      <td>Movie</td>\n",
       "      <td>1</td>\n",
       "      <td>5.46</td>\n",
       "      <td>142</td>\n",
       "    </tr>\n",
       "  </tbody>\n",
       "</table>\n",
       "<p>12294 rows × 7 columns</p>\n",
       "</div>"
      ],
      "text/plain": [
       "       anime_id                                               name  \\\n",
       "0         32281                                     Kimi no Na wa.   \n",
       "1          5114                   Fullmetal Alchemist: Brotherhood   \n",
       "2         28977                                           Gintama°   \n",
       "3          9253                                        Steins;Gate   \n",
       "4          9969                                      Gintama&#039;   \n",
       "...         ...                                                ...   \n",
       "12289      9316       Toushindai My Lover: Minami tai Mecha-Minami   \n",
       "12290      5543                                        Under World   \n",
       "12291      5621                     Violence Gekiga David no Hoshi   \n",
       "12292      6133  Violence Gekiga Shin David no Hoshi: Inma Dens...   \n",
       "12293     26081                   Yasuji no Pornorama: Yacchimae!!   \n",
       "\n",
       "                                                   genre   type episodes  \\\n",
       "0                   Drama, Romance, School, Supernatural  Movie        1   \n",
       "1      Action, Adventure, Drama, Fantasy, Magic, Mili...     TV       64   \n",
       "2      Action, Comedy, Historical, Parody, Samurai, S...     TV       51   \n",
       "3                                       Sci-Fi, Thriller     TV       24   \n",
       "4      Action, Comedy, Historical, Parody, Samurai, S...     TV       51   \n",
       "...                                                  ...    ...      ...   \n",
       "12289                                             Hentai    OVA        1   \n",
       "12290                                             Hentai    OVA        1   \n",
       "12291                                             Hentai    OVA        4   \n",
       "12292                                             Hentai    OVA        1   \n",
       "12293                                             Hentai  Movie        1   \n",
       "\n",
       "       rating  members  \n",
       "0        9.37   200630  \n",
       "1        9.26   793665  \n",
       "2        9.25   114262  \n",
       "3        9.17   673572  \n",
       "4        9.16   151266  \n",
       "...       ...      ...  \n",
       "12289    4.15      211  \n",
       "12290    4.28      183  \n",
       "12291    4.88      219  \n",
       "12292    4.98      175  \n",
       "12293    5.46      142  \n",
       "\n",
       "[12294 rows x 7 columns]"
      ]
     },
     "execution_count": 6,
     "metadata": {},
     "output_type": "execute_result"
    }
   ],
   "source": [
    "import pandas as pd\n",
    "df=pd.read_csv(\"C:\\\\DS assignments\\\\anime.csv\")\n",
    "df"
   ]
  },
  {
   "cell_type": "code",
   "execution_count": 7,
   "id": "e618bf88-6d5f-4f3b-8480-96f55f6d6a9a",
   "metadata": {},
   "outputs": [
    {
     "data": {
      "text/plain": [
       "12294"
      ]
     },
     "execution_count": 7,
     "metadata": {},
     "output_type": "execute_result"
    }
   ],
   "source": [
    "len(df.anime_id.unique())"
   ]
  },
  {
   "cell_type": "code",
   "execution_count": 8,
   "id": "be797dda-5279-4008-9ac5-e053df54b367",
   "metadata": {},
   "outputs": [
    {
     "data": {
      "text/plain": [
       "rating\n",
       "6.00    141\n",
       "7.00     99\n",
       "6.50     90\n",
       "6.25     84\n",
       "5.00     76\n",
       "       ... \n",
       "3.47      1\n",
       "3.71      1\n",
       "3.87      1\n",
       "3.91      1\n",
       "3.14      1\n",
       "Name: count, Length: 598, dtype: int64"
      ]
     },
     "execution_count": 8,
     "metadata": {},
     "output_type": "execute_result"
    }
   ],
   "source": [
    "df['rating'].value_counts()"
   ]
  },
  {
   "cell_type": "code",
   "execution_count": 9,
   "id": "30c4cc65-06d5-45c2-8456-83c21eb7c009",
   "metadata": {},
   "outputs": [
    {
     "data": {
      "text/plain": [
       "<Axes: >"
      ]
     },
     "execution_count": 9,
     "metadata": {},
     "output_type": "execute_result"
    },
    {
     "data": {
      "image/png": "[encoded data removed]",
      "text/plain": [
       "<Figure size 640x480 with 1 Axes>"
      ]
     },
     "metadata": {},
     "output_type": "display_data"
    }
   ],
   "source": [
    "df['rating'].hist()"
   ]
  },
  {
   "cell_type": "code",
   "execution_count": 10,
   "id": "12efd428-e020-49ea-a90d-99d321ffb4e8",
   "metadata": {},
   "outputs": [
    {
     "data": {
      "text/plain": [
       "anime_id      0\n",
       "name          0\n",
       "genre        62\n",
       "type         25\n",
       "episodes      0\n",
       "rating      230\n",
       "members       0\n",
       "dtype: int64"
      ]
     },
     "execution_count": 10,
     "metadata": {},
     "output_type": "execute_result"
    }
   ],
   "source": [
    "\n",
    "# Checking for missing values\n",
    "df.isnull().sum()\n",
    "\n"
   ]
  },
  {
   "cell_type": "code",
   "execution_count": 11,
   "id": "6d4d84e4-40be-40da-8c96-13fa92c83bf2",
   "metadata": {},
   "outputs": [],
   "source": [
    "df.dropna(inplace=True)\n"
   ]
  },
  {
   "cell_type": "code",
   "execution_count": 12,
   "id": "cb04d457-70fd-4d59-892b-0abbed175cf6",
   "metadata": {},
   "outputs": [
    {
     "name": "stdout",
     "output_type": "stream",
     "text": [
      "<class 'pandas.core.frame.DataFrame'>\n",
      "Index: 12017 entries, 0 to 12293\n",
      "Data columns (total 7 columns):\n",
      " #   Column    Non-Null Count  Dtype  \n",
      "---  ------    --------------  -----  \n",
      " 0   anime_id  12017 non-null  int64  \n",
      " 1   name      12017 non-null  object \n",
      " 2   genre     12017 non-null  object \n",
      " 3   type      12017 non-null  object \n",
      " 4   episodes  12017 non-null  object \n",
      " 5   rating    12017 non-null  float64\n",
      " 6   members   12017 non-null  int64  \n",
      "dtypes: float64(1), int64(2), object(4)\n",
      "memory usage: 751.1+ KB\n",
      "None\n"
     ]
    }
   ],
   "source": [
    "# Exploring the dataset to understand its structure and attributes.\n",
    "\n",
    "\n",
    "# Display basic information about the dataset\n",
    "print(df.info())\n",
    "\n"
   ]
  },
  {
   "cell_type": "code",
   "execution_count": 13,
   "id": "e171c827-3031-4971-a96c-c8bd0d5d6236",
   "metadata": {},
   "outputs": [
    {
     "name": "stdout",
     "output_type": "stream",
     "text": [
      "           anime_id        rating       members\n",
      "count  12017.000000  12017.000000  1.201700e+04\n",
      "mean   13638.001165      6.478264  1.834888e+04\n",
      "std    11231.076675      1.023857  5.537250e+04\n",
      "min        1.000000      1.670000  1.200000e+01\n",
      "25%     3391.000000      5.890000  2.250000e+02\n",
      "50%     9959.000000      6.570000  1.552000e+03\n",
      "75%    23729.000000      7.180000  9.588000e+03\n",
      "max    34519.000000     10.000000  1.013917e+06\n"
     ]
    }
   ],
   "source": [
    "#Summary statistics of numerical columns\n",
    "print(df.describe())\n",
    "\n"
   ]
  },
  {
   "cell_type": "code",
   "execution_count": 14,
   "id": "1dd2ac83-6bc1-4086-a3a6-71ae1498dfcd",
   "metadata": {},
   "outputs": [
    {
     "name": "stdout",
     "output_type": "stream",
     "text": [
      "   anime_id                              name  \\\n",
      "0     32281                    Kimi no Na wa.   \n",
      "1      5114  Fullmetal Alchemist: Brotherhood   \n",
      "2     28977                          Gintama°   \n",
      "3      9253                       Steins;Gate   \n",
      "4      9969                     Gintama&#039;   \n",
      "\n",
      "                                               genre   type episodes  rating  \\\n",
      "0               Drama, Romance, School, Supernatural  Movie        1    9.37   \n",
      "1  Action, Adventure, Drama, Fantasy, Magic, Mili...     TV       64    9.26   \n",
      "2  Action, Comedy, Historical, Parody, Samurai, S...     TV       51    9.25   \n",
      "3                                   Sci-Fi, Thriller     TV       24    9.17   \n",
      "4  Action, Comedy, Historical, Parody, Samurai, S...     TV       51    9.16   \n",
      "\n",
      "   members  \n",
      "0   200630  \n",
      "1   793665  \n",
      "2   114262  \n",
      "3   673572  \n",
      "4   151266  \n"
     ]
    }
   ],
   "source": [
    "# Checking the first few rows of the dataset\n",
    "print(df.head())\n",
    "\n"
   ]
  },
  {
   "cell_type": "code",
   "execution_count": 15,
   "id": "85e9449b-b34e-41a5-bc7a-319b36c9baec",
   "metadata": {},
   "outputs": [
    {
     "name": "stdout",
     "output_type": "stream",
     "text": [
      "Unique values in name: ['Kimi no Na wa.' 'Fullmetal Alchemist: Brotherhood' 'Gintama°' ...\n",
      " 'Violence Gekiga David no Hoshi'\n",
      " 'Violence Gekiga Shin David no Hoshi: Inma Densetsu'\n",
      " 'Yasuji no Pornorama: Yacchimae!!']\n",
      "Unique values in genre: ['Drama, Romance, School, Supernatural'\n",
      " 'Action, Adventure, Drama, Fantasy, Magic, Military, Shounen'\n",
      " 'Action, Comedy, Historical, Parody, Samurai, Sci-Fi, Shounen' ...\n",
      " 'Action, Comedy, Hentai, Romance, Supernatural' 'Hentai, Sports'\n",
      " 'Hentai, Slice of Life']\n",
      "Unique values in type: ['Movie' 'TV' 'OVA' 'Special' 'Music' 'ONA']\n",
      "Unique values in episodes: ['1' '64' '51' '24' '10' '148' '110' '13' '201' '25' '22' '75' '4' '26'\n",
      " '12' '27' '43' '74' '37' '2' '11' '99' 'Unknown' '39' '101' '47' '50'\n",
      " '62' '33' '112' '23' '3' '94' '6' '8' '14' '7' '40' '15' '203' '77' '291'\n",
      " '120' '102' '96' '38' '79' '175' '103' '70' '153' '45' '5' '21' '63' '52'\n",
      " '28' '145' '36' '69' '60' '178' '114' '35' '61' '34' '109' '20' '9' '49'\n",
      " '366' '97' '48' '78' '358' '155' '104' '113' '54' '167' '161' '42' '142'\n",
      " '31' '373' '220' '46' '195' '17' '1787' '73' '147' '127' '16' '19' '98'\n",
      " '150' '76' '53' '124' '29' '115' '224' '44' '58' '93' '154' '92' '67'\n",
      " '172' '86' '30' '276' '59' '72' '330' '41' '105' '128' '137' '56' '55'\n",
      " '65' '243' '193' '18' '191' '180' '91' '192' '66' '182' '32' '164' '100'\n",
      " '296' '694' '95' '68' '117' '151' '130' '87' '170' '119' '84' '108' '156'\n",
      " '140' '331' '305' '300' '510' '200' '88' '1471' '526' '143' '726' '136'\n",
      " '1818' '237' '1428' '365' '163' '283' '71' '260' '199' '225' '312' '240'\n",
      " '1306' '1565' '773' '1274' '90' '475' '263' '83' '85' '1006' '80' '162'\n",
      " '132' '141' '125']\n"
     ]
    }
   ],
   "source": [
    "#Exploring unique values in categorical columns\n",
    "for col in df.select_dtypes(include='object'):\n",
    "  print(f\"Unique values in {col}: {df[col].unique()}\")\n"
   ]
  },
  {
   "cell_type": "markdown",
   "id": "64c38de5-c632-4498-8b93-43c08097b268",
   "metadata": {},
   "source": [
    "# Feature Extraction:"
   ]
  },
  {
   "cell_type": "code",
   "execution_count": 16,
   "id": "960bce45-6e1a-49f1-8fd4-2f6f307de450",
   "metadata": {},
   "outputs": [],
   "source": [
    "#Deciding on the features that will be used for computing similarity (e.g., genres, user ratings).\n",
    "\n",
    "# For anime similarity, we'll use genres and rating.\n",
    "# These features capture the essence of the anime and how it's perceived.\n",
    "\n",
    "# We'll preprocess the 'genre' column to create a list of genres for each anime.\n",
    "df['genre'] = df['genre'].str.split(', ')\n",
    "\n",
    "# We'll also fill any missing ratings with the average rating to handle potential gaps.\n",
    "df['rating'].fillna(df['rating'].mean(), inplace=True)\n"
   ]
  },
  {
   "cell_type": "code",
   "execution_count": 17,
   "id": "125aa311-6a9c-4d3b-8c0c-2069a66f2517",
   "metadata": {},
   "outputs": [],
   "source": [
    "# Converting categorical features into numerical representations if necessary\n",
    "\n",
    "from sklearn.preprocessing import MultiLabelBinarizer\n",
    "\n",
    "# Convert genres to numerical representation\n",
    "mlb = MultiLabelBinarizer()\n",
    "genre_encoded = mlb.fit_transform(df['genre'])\n",
    "genre_df = pd.DataFrame(genre_encoded, columns=mlb.classes_)\n",
    "\n",
    "# Concatenate genre features with the original DataFrame\n",
    "df = pd.concat([df, genre_df], axis=1)\n"
   ]
  },
  {
   "cell_type": "code",
   "execution_count": 18,
   "id": "92df7c3b-b136-4767-a028-f375a1279bde",
   "metadata": {},
   "outputs": [],
   "source": [
    "# Normalizing numerical features if required\n",
    "\n",
    "from sklearn.preprocessing import MinMaxScaler\n",
    "\n",
    "# Select numerical columns to normalize (excluding 'anime_id' and binary genre columns)\n",
    "numerical_cols = ['rating', 'members']\n",
    "\n",
    "# Initialize scaler\n",
    "scaler = MinMaxScaler()\n",
    "\n",
    "# Fit and transform the selected columns\n",
    "df[numerical_cols] = scaler.fit_transform(df[numerical_cols])\n"
   ]
  },
  {
   "cell_type": "markdown",
   "id": "816dea76-bfb4-426a-a70e-e6aa6f887605",
   "metadata": {},
   "source": [
    "# Recommendation System:"
   ]
  },
  {
   "cell_type": "code",
   "execution_count": 19,
   "id": "612c5f57-6c3b-445f-9722-d3d02651e59f",
   "metadata": {},
   "outputs": [],
   "source": [
    "# Designing a function to recommend anime based on cosine similarity.\n",
    "\n",
    "from sklearn.metrics.pairwise import cosine_similarity\n",
    "\n",
    "def recommend_anime(anime_name, df, top_n=10):\n",
    "  \"\"\"\n",
    "  Recommends anime based on cosine similarity.\n",
    "\n",
    "  Args:\n",
    "    anime_name: Name of the anime to get recommendations for.\n",
    "    df: DataFrame containing anime data.\n",
    "    top_n: Number of recommendations to return.\n",
    "\n",
    "  Returns:\n",
    "    List of recommended anime names.\n",
    "  \"\"\"\n",
    "\n",
    "  # Check if the anime exists in the dataset\n",
    "  if anime_name not in df['name'].values:\n",
    "    print(f\"Anime '{anime_name}' not found in the dataset.\")\n",
    "    return []\n",
    "\n",
    "  # Get the index of the anime\n",
    "  index = df[df['name'] == anime_name].index[0]\n",
    "\n",
    "  # Calculate cosine similarity with all other anime\n",
    "  similarity_scores = cosine_similarity(df.iloc[index, 4:].values.reshape(1, -1), df.iloc[:, 4:])[0]\n",
    "\n",
    "  # Sort anime by similarity and get the top N (excluding the input anime itself)\n",
    "  sorted_indices = similarity_scores.argsort()[::-1][1:top_n+1]\n",
    "  recommended_anime = df.iloc[sorted_indices]['name'].tolist()\n",
    "\n",
    "  return recommended_anime\n"
   ]
  },
  {
   "cell_type": "code",
   "execution_count": 20,
   "id": "1f96e452-819d-4192-9c21-a28e3c0daec2",
   "metadata": {},
   "outputs": [],
   "source": [
    "# Normalizing numerical features if required\n",
    "import numpy as np\n",
    "from sklearn.preprocessing import MinMaxScaler\n",
    "\n",
    "# Select numerical columns to normalize (excluding 'anime_id' and binary genre columns)\n",
    "numerical_cols = ['rating', 'members', 'episodes']  # Explicitly list numerical columns\n",
    "\n",
    "# Initialize scaler\n",
    "scaler = MinMaxScaler()\n",
    "\n",
    "# Handle non-numerical values (e.g., replace 'Unknown' with NaN and then fill NaNs)\n",
    "df[numerical_cols] = df[numerical_cols].replace('Unknown', np.nan)\n",
    "# Convert columns to numeric, coercing errors to NaN\n",
    "df[numerical_cols] = df[numerical_cols].apply(pd.to_numeric, errors='coerce')\n",
    "df[numerical_cols] = df[numerical_cols].fillna(df[numerical_cols].mean()) # Fill NaNs with the mean of each column\n",
    "\n",
    "# Fit and transform the selected columns\n",
    "df[numerical_cols] = scaler.fit_transform(df[numerical_cols])"
   ]
  },
  {
   "cell_type": "code",
   "execution_count": 21,
   "id": "aa67d400-b0f1-4d2e-b907-23895c43d8ff",
   "metadata": {},
   "outputs": [
    {
     "name": "stdout",
     "output_type": "stream",
     "text": [
      "rating      0\n",
      "members     0\n",
      "episodes    0\n",
      "dtype: int64\n"
     ]
    }
   ],
   "source": [
    "#Normalizng numerical features if required\n",
    "import numpy as np\n",
    "from sklearn.preprocessing import MinMaxScaler\n",
    "\n",
    "# Select numerical columns to normalize (excluding 'anime_id' and binary genre columns)\n",
    "numerical_cols = ['rating', 'members', 'episodes']  # Explicitly list numerical columns\n",
    "\n",
    "# Initialize scaler\n",
    "scaler = MinMaxScaler()\n",
    "\n",
    "# Handle non-numerical values (e.g., replace 'Unknown' with NaN and then fill NaNs)\n",
    "df[numerical_cols] = df[numerical_cols].replace('Unknown', np.nan)\n",
    "# Convert columns to numeric, coercing errors to NaN\n",
    "df[numerical_cols] = df[numerical_cols].apply(pd.to_numeric, errors='coerce')\n",
    "# Fill NaNs with the mean of each column\n",
    "df[numerical_cols] = df[numerical_cols].fillna(df[numerical_cols].mean())\n",
    "\n",
    "# Fit and transform the selected columns\n",
    "df[numerical_cols] = scaler.fit_transform(df[numerical_cols])\n",
    "\n",
    "# Verify that there are no NaNs remaining (Optional but recommended)\n",
    "print(df[numerical_cols].isnull().sum())"
   ]
  },
  {
   "cell_type": "code",
   "execution_count": 22,
   "id": "0e65f9d9-748e-44b9-a3e3-15ae2bc613ae",
   "metadata": {},
   "outputs": [
    {
     "name": "stdout",
     "output_type": "stream",
     "text": [
      "rating      0\n",
      "members     0\n",
      "episodes    0\n",
      "dtype: int64\n"
     ]
    }
   ],
   "source": [
    "# Normalizing numerical features if required\n",
    "import numpy as np\n",
    "from sklearn.preprocessing import MinMaxScaler\n",
    "\n",
    "# Select numerical columns to normalize (excluding 'anime_id' and binary genre columns)\n",
    "numerical_cols = ['rating', 'members', 'episodes']  # Explicitly list numerical columns\n",
    "\n",
    "# Initialize scaler\n",
    "scaler = MinMaxScaler()\n",
    "\n",
    "# Handle non-numerical values (e.g., replace 'Unknown' with NaN and then fill NaNs)\n",
    "df[numerical_cols] = df[numerical_cols].replace('Unknown', np.nan)\n",
    "# Convert columns to numeric, coercing errors to NaN\n",
    "df[numerical_cols] = df[numerical_cols].apply(pd.to_numeric, errors='coerce')\n",
    "# Fill NaNs with the mean of each column\n",
    "df[numerical_cols] = df[numerical_cols].fillna(df[numerical_cols].mean())\n",
    "\n",
    "# Fit and transform the selected columns\n",
    "df[numerical_cols] = scaler.fit_transform(df[numerical_cols])\n",
    "\n",
    "# Verify that there are no NaNs remaining (Optional but recommended)\n",
    "print(df[numerical_cols].isnull().sum())\n",
    "\n",
    "# --- In the recommend_anime function ---\n",
    "\n",
    "def recommend_anime(anime_name, df, top_n=10):\n",
    "  \"\"\"\n",
    "  Recommends anime based on cosine similarity.\n",
    "\n",
    "  Args:\n",
    "    anime_name: Name of the anime to get recommendations for.\n",
    "    df: DataFrame containing anime data.\n",
    "    top_n: Number of recommendations to return.\n",
    "\n",
    "  Returns:\n",
    "    List of recommended anime names.\n",
    "  \"\"\"\n",
    "\n",
    "  # Check if the anime exists in the dataset\n",
    "  if anime_name not in df['name'].values:\n",
    "    print(f\"Anime '{anime_name}' not found in the dataset.\")\n",
    "    return []\n",
    "\n",
    "  # Get the index of the anime\n",
    "  index = df[df['name'] == anime_name].index[0]\n",
    "\n",
    "  # --- Fill any remaining NaNs in the relevant row ---\n",
    "  df.iloc[index, 4:] = df.iloc[index, 4:].fillna(0)  # Replace NaNs with 0 for the target anime row\n",
    "\n",
    "  # Calculate cosine similarity with all other anime\n",
    "  similarity_scores = cosine_similarity(df.iloc[index, 4:].values.reshape(1, -1), df.iloc[:, 4:])[0]\n",
    "\n",
    "  # Sort anime by similarity and get the top N (excluding the input anime itself)\n",
    "  sorted_indices = similarity_scores.argsort()[::-1][1:top_n+1]\n",
    "  recommended_anime = df.iloc[sorted_indices]['name'].tolist()\n",
    "\n",
    "  return recommended_anime"
   ]
  },
  {
   "cell_type": "code",
   "execution_count": 23,
   "id": "04797793-ae6e-40b9-9d40-a0a1ddaaff23",
   "metadata": {},
   "outputs": [
    {
     "name": "stdout",
     "output_type": "stream",
     "text": [
      "rating      0\n",
      "members     0\n",
      "episodes    0\n",
      "dtype: int64\n"
     ]
    }
   ],
   "source": [
    "#Normalizing numerical features if required\n",
    "import numpy as np\n",
    "from sklearn.preprocessing import MinMaxScaler\n",
    "\n",
    "# Select numerical columns to normalize (excluding 'anime_id' and binary genre columns)\n",
    "numerical_cols = ['rating', 'members', 'episodes']  # Explicitly list numerical columns\n",
    "\n",
    "# Initialize scaler\n",
    "scaler = MinMaxScaler()\n",
    "\n",
    "# Handle non-numerical values (e.g., replace 'Unknown' with NaN and then fill NaNs)\n",
    "df[numerical_cols] = df[numerical_cols].replace('Unknown', np.nan)\n",
    "# Convert columns to numeric, coercing errors to NaN\n",
    "df[numerical_cols] = df[numerical_cols].apply(pd.to_numeric, errors='coerce')\n",
    "# Fill NaNs with the mean of each column\n",
    "df[numerical_cols] = df[numerical_cols].fillna(df[numerical_cols].mean())\n",
    "\n",
    "# Fit and transform the selected columns\n",
    "df[numerical_cols] = scaler.fit_transform(df[numerical_cols])\n",
    "\n",
    "# Verify that there are no NaNs remaining (Optional but recommended)\n",
    "print(df[numerical_cols].isnull().sum())\n",
    "\n",
    "# --- In the recommend_anime function ---\n",
    "\n",
    "def recommend_anime(anime_name, df, top_n=10):\n",
    "  \"\"\"\n",
    "  Recommends anime based on cosine similarity.\n",
    "\n",
    "  Args:\n",
    "    anime_name: Name of the anime to get recommendations for.\n",
    "    df: DataFrame containing anime data.\n",
    "    top_n: Number of recommendations to return.\n",
    "\n",
    "  Returns:\n",
    "    List of recommended anime names.\n",
    "  \"\"\"\n",
    "\n",
    "  # Check if the anime exists in the dataset\n",
    "  if anime_name not in df['name'].values:\n",
    "    print(f\"Anime '{anime_name}' not found in the dataset.\")\n",
    "    return []\n",
    "\n",
    "  # Get the index of the anime\n",
    "  index = df[df['name'] == anime_name].index[0]\n",
    "\n",
    "  # --- Fill any remaining NaNs in the entire DataFrame ---\n",
    "  df = df.fillna(0)  # Replace all NaNs with 0 in the DataFrame\n",
    "\n",
    "  # Calculate cosine similarity with all other anime\n",
    "  similarity_scores = cosine_similarity(df.iloc[index, 4:].values.reshape(1, -1), df.iloc[:, 4:])[0]\n",
    "\n",
    "  # Sort anime by similarity and get the top N (excluding the input anime itself)\n",
    "  sorted_indices = similarity_scores.argsort()[::-1][1:top_n+1]\n",
    "  recommended_anime = df.iloc[sorted_indices]['name'].tolist()\n",
    "\n",
    "  return recommended_anime"
   ]
  },
  {
   "cell_type": "code",
   "execution_count": 24,
   "id": "a3cf2f05-1753-489d-bcaf-5c3705ff59fd",
   "metadata": {},
   "outputs": [
    {
     "name": "stdout",
     "output_type": "stream",
     "text": [
      "['Death Note Rewrite', 'Higurashi no Naku Koro ni Kai', 'Mousou Dairinin', 'Higurashi no Naku Koro ni', 'Mirai Nikki (TV)']\n"
     ]
    }
   ],
   "source": [
    "#Giving a target anime, recommend a list of similar anime based on cosine similarity scores.\n",
    "\n",
    "# Example usage:\n",
    "recommendations = recommend_anime(\"Death Note\", df, top_n=5)\n",
    "print(recommendations)\n"
   ]
  },
  {
   "cell_type": "code",
   "execution_count": 25,
   "id": "8683e380-8d9d-4036-9bd6-33e9b661789d",
   "metadata": {},
   "outputs": [
    {
     "name": "stdout",
     "output_type": "stream",
     "text": [
      "High Threshold Recommendations: ['Death Note Rewrite', 'Higurashi no Naku Koro ni Kai', 'Mousou Dairinin', 'Higurashi no Naku Koro ni']\n",
      "Low Threshold Recommendations: ['Death Note Rewrite', 'Higurashi no Naku Koro ni Kai', 'Mousou Dairinin', 'Higurashi no Naku Koro ni', 'Mirai Nikki (TV)', 'Higurashi no Naku Koro ni Rei', 'Jigoku Shoujo Mitsuganae', 'Yakushiji Ryouko no Kaiki Jikenbo', 'Mouse', 'Where is Mama']\n"
     ]
    }
   ],
   "source": [
    "# Experimenting with different threshold values for similarity scores to adjust the recommendation list size.\n",
    "\n",
    "def recommend_anime(anime_name, df, top_n=10, similarity_threshold=0.5):\n",
    "  \"\"\"\n",
    "  Recommends anime based on cosine similarity with a threshold.\n",
    "\n",
    "  Args:\n",
    "    anime_name: Name of the anime to get recommendations for.\n",
    "    df: DataFrame containing anime data.\n",
    "    top_n: Maximum number of recommendations to return.\n",
    "    similarity_threshold: Minimum similarity score to consider.\n",
    "\n",
    "  Returns:\n",
    "    List of recommended anime names.\n",
    "  \"\"\"\n",
    "\n",
    "  if anime_name not in df['name'].values:\n",
    "    print(f\"Anime '{anime_name}' not found in the dataset.\")\n",
    "    return []\n",
    "\n",
    "  index = df[df['name'] == anime_name].index[0]\n",
    "  df = df.fillna(0)\n",
    "\n",
    "  similarity_scores = cosine_similarity(df.iloc[index, 4:].values.reshape(1, -1), df.iloc[:, 4:])[0]\n",
    "\n",
    "  # Filter recommendations based on similarity threshold\n",
    "  recommended_indices = [i for i in similarity_scores.argsort()[::-1][1:] if similarity_scores[i] >= similarity_threshold]\n",
    "\n",
    "  # Return up to top_n recommendations\n",
    "  recommended_anime = df.iloc[recommended_indices[:top_n]]['name'].tolist()\n",
    "\n",
    "  return recommended_anime\n",
    "\n",
    "# Example usage with different thresholds:\n",
    "recommendations_high_threshold = recommend_anime(\"Death Note\", df, top_n=10, similarity_threshold=0.8)\n",
    "print(\"High Threshold Recommendations:\", recommendations_high_threshold)\n",
    "\n",
    "recommendations_low_threshold = recommend_anime(\"Death Note\", df, top_n=10, similarity_threshold=0.2)\n",
    "print(\"Low Threshold Recommendations:\", recommendations_low_threshold)\n"
   ]
  },
  {
   "cell_type": "code",
   "execution_count": 26,
   "id": "23de5af6-1329-411e-a26c-a9dad08863fb",
   "metadata": {},
   "outputs": [
    {
     "name": "stdout",
     "output_type": "stream",
     "text": [
      "Training set shape: (9827, 45) (9827,)\n",
      "Testing set shape: (2457, 45) (2457,)\n"
     ]
    }
   ],
   "source": [
    "#Splitting the dataset into training and testing sets.\n",
    "\n",
    "from sklearn.model_selection import train_test_split\n",
    "\n",
    "# Assuming you want to predict 'rating' based on other features\n",
    "X = df.drop(['rating', 'name', 'genre', 'type', 'anime_id'], axis=1)  # Features\n",
    "y = df['rating']  # Target variable\n",
    "\n",
    "# Split the data into training and testing sets (e.g., 80% train, 20% test)\n",
    "X_train, X_test, y_train, y_test = train_test_split(X, y, test_size=0.2, random_state=42)\n",
    "\n",
    "print(\"Training set shape:\", X_train.shape, y_train.shape)\n",
    "print(\"Testing set shape:\", X_test.shape, y_test.shape)\n"
   ]
  },
  {
   "cell_type": "code",
   "execution_count": 27,
   "id": "fc64e872-931b-4ace-8f42-5a3d9d1a4ec4",
   "metadata": {},
   "outputs": [],
   "source": [
    "#from sklearn.metrics import precision_score, recall_score, f1_score\n",
    "\n",
    "def evaluate_recommendations(df, test_users, top_n=10):\n",
    "  \"\"\"\n",
    "  Evaluates the recommendation system using precision, recall, and F1-score.\n",
    "\n",
    "  Args:\n",
    "    df: DataFrame containing anime data.\n",
    "    test_users: List of anime names to use for testing.\n",
    "    top_n: Number of recommendations to consider.\n",
    "\n",
    "  Returns:\n",
    "    Tuple containing precision, recall, and F1-score.\n",
    "  \"\"\"\n",
    "\n",
    "  all_recommended = []\n",
    "  all_relevant = []\n",
    "\n",
    "  for anime_name in test_users:\n",
    "    recommended = recommend_anime(anime_name, df, top_n=top_n)\n",
    "    # Here, you'll need to define how to determine 'relevant' anime for each test user\n",
    "    # This could involve user history, ratings, or other criteria\n",
    "    relevant = [] # Replace with your logic to get relevant anime\n",
    "    # Example: If you have a column 'watched' indicating watched anime:\n",
    "    # relevant = df[df['watched'] == 1]['name'].tolist()\n",
    "\n",
    "    all_recommended.extend(recommended)\n",
    "    all_relevant.extend(relevant)\n",
    "\n",
    "  # Converting to binary relevance (1 if recommended and relevant, 0 otherwise)\n",
    "  y_true = [1 if anime in all_relevant else 0 for anime in all_recommended]\n",
    "  y_pred = [1] * len(all_recommended)  # All recommended are considered positive predictions\n",
    "\n",
    "  precision = precision_score(y_true, y_pred)\n",
    "  recall = recall_score(y_true, y_pred)\n",
    "  f1 = f1_score(y_true, y_pred)\n",
    "\n",
    "  return precision"
   ]
  },
  {
   "cell_type": "code",
   "execution_count": 28,
   "id": "768487c2-53f9-4e02-9f0e-6569820cbf0c",
   "metadata": {},
   "outputs": [],
   "source": [
    "def get_relevant_anime(anime_name, df):\n",
    "  genres = df[df['name'] == anime_name]['genre'].iloc[0]\n",
    "  # Ensure genres is a list for iteration, handling potential float values\n",
    "  if not isinstance(genres, list):\n",
    "    genres = [genres]\n",
    "  relevant = df[df['genre'].apply(lambda x: any(item in x for item in genres) if isinstance(x, list) else False)]['name'].tolist()\n",
    "  return relevant"
   ]
  },
  {
   "cell_type": "code",
   "execution_count": 30,
   "id": "c758098f-5b7d-42a8-9b5a-190a4d6693ec",
   "metadata": {},
   "outputs": [
    {
     "name": "stdout",
     "output_type": "stream",
     "text": [
      "['Kimi no Na wa.', 'Steins;Gate', 'Clannad: After Story', 'Sen to Chihiro no Kamikakushi', 'Mushishi Zoku Shou 2nd Season', 'One Punch Man', 'Suzumiya Haruhi no Shoushitsu', 'Monogatari Series: Second Season', 'Mushishi Zoku Shou', 'Mushishi', 'Natsume Yuujinchou Go', 'Mushishi Zoku Shou: Suzu no Shizuku', 'Natsume Yuujinchou Shi', 'Fate/Zero 2nd Season', 'Kizumonogatari II: Nekketsu-hen', 'Monster', 'Death Note', 'Kara no Kyoukai 5: Mujun Rasen', 'Natsume Yuujinchou San', 'Ping Pong The Animation', 'Mushishi Special: Hihamukage', 'Boku dake ga Inai Machi', 'Yojouhan Shinwa Taikei', 'Kamisama Hajimemashita: Kako-hen', 'Rainbow: Nisha Rokubou no Shichinin', 'Re:Zero kara Hajimeru Isekai Seikatsu', 'Zoku Natsume Yuujinchou', 'Ano Hi Mita Hana no Namae wo Bokutachi wa Mada Shiranai.', 'Steins;Gate Movie: Fuka Ryouiki no Déjà vu', 'Hotarubi no Mori e', 'JoJo no Kimyou na Bouken: Stardust Crusaders 2nd Season', 'Hellsing Ultimate', 'Kiseijuu: Sei no Kakuritsu', 'Bakemono no Ko', 'Ghost in the Shell: Stand Alone Complex 2nd GIG', 'JoJo no Kimyou na Bouken: Diamond wa Kudakenai', 'Kara no Kyoukai 7: Satsujin Kousatsu (Kou)', 'Mob Psycho 100', 'Baccano!', 'Mushishi Zoku Shou: Odoro no Michi', 'Shinsekai yori', 'Fate/Zero', 'JoJo no Kimyou na Bouken (TV)', 'Mahou Shoujo Madoka★Magica', 'Psycho-Pass', 'Mahou Shoujo Madoka★Magica Movie 3: Hangyaku no Monogatari', 'Mahou Shoujo Madoka★Magica Movie 2: Eien no Monogatari', 'Mononoke', 'Noragami Aragoto', 'Tonari no Totoro', 'Ghost in the Shell: Stand Alone Complex', 'No Game No Life', 'Shingeki no Kyojin: Kuinaki Sentaku', 'Steins;Gate: Oukoubakko no Poriomania', 'Fate/stay night: Unlimited Blade Works 2nd Season', 'Kizumonogatari I: Tekketsu-hen', 'Neon Genesis Evangelion: The End of Evangelion', 'Owarimonogatari', 'Detective Conan Movie 06: The Phantom of Baker Street', 'Fate/stay night: Unlimited Blade Works', 'Nanatsu no Taizai', 'Natsume Yuujinchou', 'Higurashi no Naku Koro ni Kai', 'Kuroshitsuji: Book of Murder', 'One Outs', 'Berserk', 'Cowboy Bebop: Tengoku no Tobira', 'Natsume Yuujinchou: Itsuka Yuki no Hi ni', 'NHK ni Youkoso!', 'Angel Beats!', 'Bakemonogatari', 'Bungou Stray Dogs 2nd Season', 'Detective Conan Movie 13: The Raven Chaser', 'Durarara!!', 'InuYasha: Kanketsu-hen', 'Kuroshitsuji: Book of Circus', 'Little Busters!: Refrain', 'Saint Seiya: The Lost Canvas - Meiou Shinwa 2', 'Kotonoha no Niwa', 'Kyoukai no Kanata Movie: I&#039;ll Be Here - Mirai-hen', 'Omoide no Marnie', 'Ghost in the Shell', 'Steins;Gate: Kyoukaimenjou no Missing Link - Divide By Zero', 'xxxHOLiC Kei', 'Berserk: Ougon Jidai-hen III - Kourin', 'Death Parade', 'Gyakkyou Burai Kaiji: Ultimate Survivor', 'Detective Conan Movie 20: The Darkest Nightmare', 'Fate/stay night: Unlimited Blade Works - Prologue', 'Neon Genesis Evangelion', 'xxxHOLiC Rou', 'Mahou Shoujo Madoka★Magica Movie 1: Hajimari no Monogatari', 'Clannad', 'Kami nomi zo Shiru Sekai: Megami-hen', 'Baccano! Specials', 'Detective Conan Movie 14: The Lost Ship in the Sky', 'Gyakkyou Burai Kaiji: Hakairoku-hen', 'Kaiba', 'Saiki Kusuo no Ψ-nan (TV)', 'Kamisama Hajimemashita◎', 'Gankutsuou', 'Zankyou no Terror', 'Darker than Black: Kuro no Keiyakusha', 'Detective Conan', 'Detective Conan Movie 05: Countdown to Heaven', 'JoJo no Kimyou na Bouken: Stardust Crusaders', 'Saint Seiya: The Lost Canvas - Meiou Shinwa', 'Detective Conan Movie 08: Magician of the Silver Sky', 'Durarara!!x2 Ketsu', 'Gosick', 'Perfect Blue', 'Tsubasa: Shunraiki', 'Ghost in the Shell: Stand Alone Complex - Solid State Society', 'Shoujo Kakumei Utena', 'Detective Conan Movie 10: Requiem of the Detectives', 'Kara no Kyoukai 3: Tsuukaku Zanryuu', 'Nisemonogatari', 'Tsukimonogatari', 'Ano Hi Mita Hana no Namae wo Bokutachi wa Mada Shiranai. Movie', 'Dennou Coil', 'Ghost in the Shell: Stand Alone Complex - The Laughing Man', 'Hikaru no Go', 'Kokoro Connect: Michi Random', 'ef: A Tale of Melodies.', 'Detective Conan Movie 18: The Sniper from Another Dimension', 'Higurashi no Naku Koro ni', 'Hyouka', 'Kanon (2006)', 'Noragami', 'Persona 3 the Movie 4: Winter of Rebirth', 'xxxHOLiC Shunmuki', 'Zetsuen no Tempest', 'Detective Conan Movie 03: The Last Wizard of the Century', 'Detective Conan Movie 04: Captured in Her Eyes', 'Hanada Shounen-shi', 'Juuni Kokuki', 'Phantom: Requiem for the Phantom', 'Akira', 'Durarara!!x2 Shou', 'Nurarihyon no Mago: Sennen Makyou', 'Paprika', 'Detective Conan Movie 15: Quarter of Silence', 'Kamisama Hajimemashita', 'Kara no Kyoukai: Mirai Fukuin', 'Ushio to Tora (TV) 2nd Season', 'Wolf&#039;s Rain OVA', 'Ajin 2nd Season', 'City Hunter 2', 'Durarara!!x2 Ten', 'ef: A Tale of Memories.', 'Ghost in the Shell 2.0', 'Kami nomi zo Shiru Sekai II', 'Tiger &amp; Bunny', 'Hanamonogatari', 'Tekkon Kinkreet', 'xxxHOLiC', 'Danganronpa 3: The End of Kibougamine Gakuen - Kibou-hen', 'Berserk: Ougon Jidai-hen II - Doldrey Kouryaku', 'Darker than Black: Kuro no Keiyakusha Gaiden', 'Kuuchuu Buranko', 'Full Moon wo Sagashite', 'Grisaia no Rakuen', 'Jigoku Shoujo Futakomori', 'Mawaru Penguindrum', 'Soul Eater', 'Haibane Renmei', 'Mirai Nikki (TV)', 'Tokyo Ghoul', 'Colorful (Movie)', 'Detective Conan OVA 09: The Stranger in 10 Years...', 'Kuroshitsuji', 'Nekomonogatari: Kuro', 'Strike the Blood II', 'Suzumiya Haruhi no Yuuutsu', 'Kara no Kyoukai 4: Garan no Dou', 'Lupin III vs. Detective Conan: The Movie', 'Beelzebub', 'Death Billiards', 'Durarara!! Specials', 'Overlord', 'Takarajima', 'xxxHOLiC Movie: Manatsu no Yoru no Yume', 'Ergo Proxy', 'Higashi no Eden', 'Kono Subarashii Sekai ni Shukufuku wo!', 'Hakuouki Movie 2: Shikon Soukyuu', 'Kara no Kyoukai 2: Satsujin Kousatsu (Zen)', 'Touhai Densetsu Akagi: Yami ni Maiorita Tensai', 'Carnival Phantasm', 'Kokoro Connect', 'Tiger &amp; Bunny Movie 2: The Rising', 'City Hunter', 'Detective Conan Movie 02: The Fourteenth Target', 'Kamisama Hajimemashita OVA', 'Serial Experiments Lain', 'Shiki', 'Detective Conan Movie 01: The Timed Skyscraper', 'Detective Conan Movie 07: Crossroad in the Ancient Capital', 'Ghost Hunt', 'Kindaichi Shounen no Jikenbo (TV)', 'Bleach', 'City Hunter 3', 'Danganronpa 3: The End of Kibougamine Gakuen - Zetsubou-hen', 'Detective Conan Movie 08: Time Travel of the Silver Sky', 'Detective Conan OVA 10: Kid in Trap Island', 'Kami nomi zo Shiru Sekai', 'Kyousou Giga (TV)', 'Psycho-Pass Movie', 'Tasogare Otome x Amnesia', 'Detective Conan Movie 09: Strategy Above the Depths', 'Detective Conan Movie 12: Full Score of Fear', 'Hakuouki Movie 1: Kyoto Ranbu', 'K: Missing Kings', 'Little Busters!: EX', 'Ghost in the Shell 2: Innocence', 'Hoozuki no Reitetsu OVA', 'Shiki Specials', 'Wolf&#039;s Rain', 'Ao no Exorcist', 'Claymore', 'Detective Conan: Episode One - Chiisaku Natta Meitantei', 'Ghost in the Shell: Stand Alone Complex - Solid State Society 3D', 'Pandora Hearts', 'Berserk: Ougon Jidai-hen I - Haou no Tamago', 'City Hunter &#039;91', 'Master Keaton OVA', 'Yamada-kun to 7-nin no Majo (TV)', 'Aoi Bungaku Series', 'Persona 3 the Movie 2: Midsummer Knight&#039;s Dream', 'Tegamibachi Reverse', 'InuYasha', 'InuYasha: Kuroi Tessaiga', 'InuYasha: Tenka Hadou no Ken', 'Lupin III vs. Detective Conan', 'Another', 'Ao no Exorcist Movie', 'Binbougami ga!', 'Durarara!!x2 Shou: Watashi no Kokoro wa Nabe Moyou', 'Kyoukai no Kanata', 'Mind Game', 'The Law of Ueki', 'Danganronpa 3: The End of Kibougamine Gakuen - Mirai-hen', 'Jin-Rou', 'Sora no Otoshimono: Tokeijikake no Angeloid', 'Tantei Gakuen Q', 'Detective Conan Movie 16: The Eleventh Striker', 'Hellsing I: Digest for Freaks', 'Nurarihyon no Mago OVA', 'One Punch Man Specials', 'Sora no Otoshimono: Forte', 'Detective Conan Movie 10: Promo Special', 'Elfen Lied', 'Kami nomi zo Shiru Sekai: Tenri-hen', 'Mahou Sensei Negima! Mou Hitotsu no Sekai', 'Mondaiji-tachi ga Isekai kara Kuru Sou Desu yo?', 'Nanatsu no Taizai OVA', 'One Punch Man: Road to Hero', 'Ajin Part 1: Shoudou', 'Change!! Getter Robo: Sekai Saigo no Hi', 'Death Note Rewrite', 'Detective Conan Movie 17: Private Eye in the Distant Sea', 'Hoozuki no Reitetsu', 'Memories', 'Owari no Seraph: Nagoya Kessen-hen', 'Mobile Police Patlabor 2: The Movie', 'Persona 3 the Movie 1: Spring of Birth', 'Shaman King', 'Bokurano', 'Detective Conan: Conan vs. Kid - Shark &amp; Jewel', 'Hakkenden: Touhou Hakken Ibun 2nd Season', 'K: Return of Kings', 'Kochira Katsushikaku Kameari Kouenmae Hashutsujo (TV)', 'Jigoku Shoujo Mitsuganae', 'Kara no Kyoukai 1: Fukan Fuukei', 'Kubikiri Cycle: Aoiro Savant to Zaregototsukai', 'Blood+', 'Chrno Crusade', 'Huyao Xiao Hongniang: Wangquan Fugui', 'The Disappearance of Conan Edogawa: The Worst Two Days in History', 'Tokyo Ravens', 'Angel Beats! Specials', 'Denpa-teki na Kanojo', 'Higashi no Eden Soushuuhen: Air Communication', 'Inu x Boku SS Special', 'Jigoku Shoujo', 'Panty &amp; Stocking with Garterbelt', 'Ranma ½ Super', 'Shakugan no Shana II (Second)', 'Towa no Quon 6: Towa no Quon', 'Ajin', 'Ga-Rei: Zero', 'Higashi no Eden Movie II: Paradise Lost', 'Kore wa Zombie Desu ka? of the Dead', 'Kyoukai no Kanata: Shinonome', 'Lupin III: Episode 0 &quot;First Contact&quot;', 'Momo e no Tegami', 'Nurarihyon no Mago', 'R.O.D OVA', 'Texhnolyze', 'Koyomimonogatari', 'Shingeki no Bahamut: Genesis', 'Bungou Stray Dogs', 'Detective Conan Movie 19: The Hellfire Sunflowers', 'Hakuouki Hekketsuroku', 'Mahouka Koukou no Rettousei', 'Majin Tantei Nougami Neuro', 'Master Keaton', 'Tegamibachi', 'Towa no Quon 4: Guren no Shoushin', 'Bleach Movie 4: Jigoku-hen', 'Detective Conan Movie 09: Promo Special', 'InuYasha: Kagami no Naka no Mugenjo', 'Kanojo to Kanojo no Neko: Everything Flows', 'Kara no Kyoukai Remix: Gate of Seventh Heaven', 'Kino no Tabi: The Beautiful World - Tou no Kuni', 'Kyoukai no Kanata Movie: I&#039;ll Be Here - Kako-hen', 'World Trigger', 'Detective Conan: Black History', 'Higashi no Eden Movie I: The King of Eden', 'Kekkai Sensen', 'Mousou Dairinin', 'Persona 3 the Movie 3: Falling Down', 'Shakugan no Shana', 'UN-GO: Inga-ron', 'GetBackers', 'K', 'Kuroshitsuji II Specials', 'Shakugan no Shana III (Final)', 'Durarara!!x2 Ketsu: Dufufufu!!', 'Kara no Kyoukai 6: Boukyaku Rokuon', 'Mobile Police Patlabor: On Television', 'Noblesse: Awakening', 'Towa no Quon 5: Souzetsu no Raifuku', 'Zhen Hun Jie', 'Aa! Megami-sama!: Tatakau Tsubasa', 'Gakkou no Kaidan', 'Gakkougurashi!', 'Gensoumaden Saiyuuki', 'Mirai Nikki Redial', 'Natsume Yuujinchou: Nyanko-sensei to Hajimete no Otsukai', 'Shounen Onmyouji', 'Tokyo Ghoul: &quot;Jack&quot;', 'Ushio to Tora (TV)', 'Arslan Senki (TV): Fuujin Ranbu', 'Ghost in the Shell: Arise - Border:2 Ghost Whispers', 'Imawa no Kuni no Alice (OVA)', 'Kamisama no Memochou', 'Ling Qi', 'Ranma ½: Akumu! Shunmin Kou', 'Tsubasa Chronicle 2nd Season', 'Yondemasu yo, Azazel-san.', 'Aa! Megami-sama!: Sorezore no Tsubasa', 'Gugure! Kokkuri-san', 'Inu x Boku SS', 'Layton Kyouju to Eien no Utahime', 'Moyashimon', 'Zettai Karen Children: The Unlimited - Hyoubu Kyousuke', 'Ajin OVA', 'Basilisk: Kouga Ninpou Chou', 'Btooom!', 'Mahou Sensei Negima! Shiroki Tsubasa Ala Alba', 'Persona 4 the Animation', 'Sora no Otoshimono', 'Aura: Maryuuin Kouga Saigo no Tatakai', 'Detective Conan Magic File 4: Osaka Okonomiyaki Odyssey', 'Fantastic Children', 'Ghost in the Shell (2015)', 'Grisaia no Kajitsu', 'Juubee Ninpuuchou', 'Kore wa Zombie Desu ka?', 'Tsubasa Chronicle', 'Bleach Movie 3: Fade to Black - Kimi no Na wo Yobu', 'Detective Conan Magic File 2: Kudou Shinichi - The Case of the Mysterious Wall and the Black Lab', 'Detective Conan: Conan vs. Kid - Jet Black Sniper', 'Durarara!!x2 Ten: Onoroke Chakapoko', 'Konjiki no Gash Bell!!', 'Mobile Suit Gundam Wing: Operation Meteor', 'Shion no Ou', 'Aa! Megami-sama! Movie', 'Detective Conan: Black History 2', 'Flying Witch', 'Jigoku Sensei Nube', 'Nijuu Mensou no Musume', 'Owari no Seraph', 'Yondemasu yo, Azazel-san. Z', 'Aa! Megami-sama!: Sorezore no Tsubasa Specials', 'Detective Conan OVA 04: Conan and Kid and Crystal Mother', 'Ghost in the Shell: Arise - Border:1 Ghost Pain', 'Hakuouki OVA', 'Hellsing', 'Kore wa Zombie Desu ka? of the Dead OVA', 'Little Busters!', 'Ningen Shikkaku: Director&#039;s Cut-ban', 'Sayonara Zetsubou Sensei Special', 'Towa no Quon 3: Mugen no Renza', 'Yondemasu yo, Azazel-san. (TV)', '&quot;Bungaku Shoujo&quot; Movie', 'Angel Beats!: Another Epilogue', 'Hakuouki Reimeiroku', 'Mardock Scramble: The First Compression', 'Rokka no Yuusha', 'Sora no Otoshimono: Project Pink', 'Darker than Black: Ryuusei no Gemini', 'Gallery Fake', 'InuYasha: Guren no Houraijima', 'Metropolis', 'Naruto: Shippuuden Movie 5 - Blood Prison', 'Shigofumi', 'Yozakura Quartet: Tsuki ni Naku', 'Yuusha Keisatsu J-Decker', 'Aa! Megami-sama! (TV) Specials', 'Casshern Sins', 'Golgo 13 (TV)', 'Mobile Police Patlabor: The New Files', 'Tokyo Ghoul: &quot;Pinto&quot;', 'Yozakura Quartet: Hana no Uta', 'Bleach Movie 2: The DiamondDust Rebellion - Mou Hitotsu no Hyourinmaru', 'Detective Conan Movie 11: Jolly Roger in the Deep Azure', 'Ghost in the Shell: Arise - Border:4 Ghost Stands Alone', 'Kamichu! Specials', 'Otome Youkai Zakuro', 'Persona 4 the Animation: No One is Alone', 'Psycho-Pass 2', 'City Hunter: Ai to Shukumei no Magnum', 'Hikaru no Go Special', 'Kemonozume', 'Mobile Police Patlabor: The Movie', 'Mugen no Ryvius', 'Noblesse: Pamyeol-ui Sijak', 'Shinreigari: Ghost Hound', 'Taiho Shichau zo (1996)', 'Brave Story', 'Fate/stay night', 'Fate/stay night Movie: Unlimited Blade Works', 'Detective Conan Magic File 3: Shinichi and Ran - Memories of Mahjong Tiles and Tanabata', 'Hakkenden: Touhou Hakken Ibun', 'Hakuouki', 'Kore wa Zombie Desu ka? OVA', 'Mardock Scramble: The Third Exhaust', 'The Big O', 'Carnival Phantasm EX Season', 'City Hunter: The Secret Service', 'Detective Conan OVA 06: Follow the Vanished Diamond! Conan &amp; Heiji vs. Kid!', 'Higurashi no Naku Koro ni Rei', 'Kara no Kyoukai: Mirai Fukuin - Extra Chorus', 'Nihon Animator Mihonichi', 'Tasogare Otome x Amnesia: Taima Otome', 'Blood Lad', 'City Hunter: Hyakuman Dollar no Inbou', 'ef: A Tale of Memories. - Recollections', 'Gunslinger Girl', 'Kuroshitsuji II', 'Lodoss-tou Senki', 'RahXephon', 'Tegamibachi: Hikari to Ao no Gensou Yawa', 'Tiger &amp; Bunny Movie 1: The Beginning', 'Kamisama no Inai Nichiyoubi', 'Sankarea', 'Towa no Quon 1: Utakata no Kaben', 'Towa no Quon 2: Konton no Ranbu', 'Trinity Seven OVA', 'UN-GO', 'Vampire Knight Guilty', 'Fuse: Teppou Musume no Torimonochou', 'Ghost in the Shell: Arise - Border:3 Ghost Tears', 'Harmonie', 'Kamikaze Kaitou Jeanne', 'Kanojo to Kanojo no Neko', 'Nanatsu no Taizai: Seisen no Shirushi', 'Persona 4 the Animation: The Factor of Hope', 'Selector Spread WIXOSS', 'Taiho Shichau zo: Second Season', 'Tokyo Ghoul √A', 'Ajin Part 2: Shoutotsu', 'Busou Renkin', 'City Hunter: Bay City Wars', 'Detective Conan Bonus File: Fantasista Flower', 'Detective Conan OVA 11: A Secret Order from London', 'Garo: Honoo no Kokuin', 'Kamichu!', 'Mirai Nikki', 'Neon Genesis Evangelion: Death &amp; Rebirth', 'Taiho Shichau zo', 'Another: The Other - Inga', 'Karakuri Zoushi Ayatsuri Sakon', 'Kindaichi Shounen no Jikenbo Returns 2nd Season', 'Mardock Scramble: The Second Combustion', 'Mnemosyne: Mnemosyne no Musume-tachi', 'Ranma ½: Chou Musabetsu Kessen! Ranma Team vs. Densetsu no Houou', 'Yuu☆Yuu☆Hakusho: Eizou Hakusho II', 'Danganronpa: Kibou no Gakuen to Zetsubou no Koukousei The Animation', 'Sakurako-san no Ashimoto ni wa Shitai ga Umatteiru', 'Shakugan no Shana S', 'Air', 'Carnival Phantasm: HibiChika Special', 'Gensoumaden Saiyuuki Movie: Requiem - Erabarezaru Mono e no Chinkonka', 'Re:␣Hamatora', 'Shigofumi Special', 'Youkai Watch Movie 1: Tanjou no Himitsu da Nyan!', 'Yuu☆Yuu☆Hakusho: Eizou Hakusho', 'Air in Summer', 'Asura Cryin&#039; 2', 'Detective Conan Magic File 5: Niigata - Tokyo Omiyage Capriccio', 'Futatsu no Spica', 'Hana to Alice: Satsujin Jiken', 'JoJo no Kimyou na Bouken', 'Lupin III: Walther P-38', 'Shinrei Tantei Yakumo', 'Slayers Special', 'Yozakura Quartet: Hoshi no Umi', 'Zettai Karen Children', 'Fukigen na Mononokean', 'Hentai Ouji to Warawanai Neko.', 'Highschool of the Dead', 'Meitantei Holmes', 'Mobile Police Patlabor', 'Nekojiru-sou', 'Shakugan no Shana Movie', 'Speed Grapher', 'Aa! Megami-sama! (2011)', 'Aa! Megami-sama! (TV)', 'Cuticle Tantei Inaba', 'Hakuouki Reimeiroku Tokuten Disc', 'Hikaru no Go: New Year Special', 'Natsu no Arashi! Akinaichuu', 'Shin Taketori Monogatari: 1000-nen Joou', 'Shuangsheng Lingtan', 'Beelzebub Specials', 'Black Bullet', 'C: The Money of Soul and Possibility Control', 'Fate/stay night: Unlimited Blade Works 2nd Season - Sunny Day', 'Nabari no Ou', 'Strike the Blood', 'Strike the Blood: Valkyria no Oukoku-hen', 'Trinity Blood', 'Ao no Exorcist: Kuro no Iede', 'Detective Conan OVA 02: 16 Suspects', 'Ginga Tetsudou no Yoru', 'Kannagi', 'Kekkai Sensen: Ousama no Restaurant no Ousama', 'Naruto: Shippuuden Movie 2 - Kizuna', 'Ou Dorobou Jing in Seventh Heaven', 'Robotics;Notes', 'Slayers Excellent', 'Trinity Seven', 'Himitsu: The Revelation', 'Kami nomi zo Shiru Sekai: 4-nin to Idol', 'Kindaichi Shounen no Jikenbo Returns', 'Matantei Loki Ragnarok', 'Phi Brain: Kami no Puzzle - Orpheus Order-hen', 'Phi Brain: Kami no Puzzle - Shukuteki! Rätsel-hen', 'Slayers Gorgeous', 'Taiho Shichau zo The Movie', 'Tokyo Majin Gakuen Kenpucho: Tou Dai Ni Maku', 'Aa! Megami-sama!', 'Aoyama Goushou Tanpenshuu', 'Hamatora The Animation', 'Jyu Oh Sei', 'Konjiki no Gash Bell!!: 101 Banme no Mamono', 'Noir', 'Petshop of Horrors', 'Selector Infected WIXOSS', 'Harukanaru Toki no Naka de: Maihitoyo', 'Inukami!', 'Mondaiji-tachi ga Isekai kara Kuru Sou Desu yo?: Onsen Manyuuki', 'Natsu no Arashi!', 'Vampire Knight', 'Air Movie', 'Genius Party', 'Kaidan Restaurant', 'Kuroshitsuji Picture Drama', 'Rumiko Takahashi Anthology', 'Sankarea: Wagahai mo... Zombie de Aru...', 'Shaman King Specials', 'Angel Heart', 'Ayashi no Ceres', 'Bakemonogatari Recap', 'Detective Conan OVA 07: A Challenge from Agasa! Agasa vs. Conan and the Detective Boys', 'Hiiro no Kakera Dai Ni Shou', 'Spiral: Suiri no Kizuna', 'Detective Conan OVA 01: Conan vs. Kid vs. Yaiba', 'Detective Conan OVA 05: The Target is Kogoro! The Detective Boys&#039; Secret Investigation', 'Hellsing: The Dawn', 'Sola', 'Yamada-kun to 7-nin no Majo', 'Higurashi no Naku Koro ni Kaku: Outbreak', 'Karneval (TV)', 'Le Chevalier D&#039;Eon', 'Natsuyuki Rendezvous', 'Witch Hunter Robin', 'Zettai Karen Children OVA: Aitazousei! Ubawareta Mirai?', 'Ajin Part 3: Shougeki', 'Kindaichi Shounen no Jikenbo Specials', 'Owari no Seraph: Owaranai Seraph', 'Sankarea OVA', 'Subete ga F ni Naru: The Perfect Insider', 'Beelzebub: Hirotta Akachan wa Daimaou!?', 'Dantalian no Shoka', 'Elfen Lied Special', 'Fuujin Monogatari', 'Gugure! Kokkuri-san Specials', 'HeatGuy J', 'Inou-Battle wa Nichijou-kei no Naka de', 'Koi Kaze', 'Lupin III: Honoo no Kioku - Tokyo Crisis', 'Tactics', 'Umineko no Naku Koro ni', '11-nin Iru!', 'Blood-C: The Last Dark', 'Ghost in the Shell: Arise - Alternative Architecture', 'Mouryou no Hako', 'Rokujouma no Shinryakusha!? (TV)', 'Ryuugajou Nanana no Maizoukin (TV)', '.hack//The Movie: Sekai no Mukou ni', 'El Cazador de la Bruja', 'Gakusen Toshi Asterisk 2nd Season', 'Gantz:O', 'Higurashi no Naku Koro ni Special: Nekogoroshi-hen', 'Inferno Cop', 'Kamigami no Asobi', 'Kuroshitsuji Recap', 'Nazo no Kanojo X: Nazo no Natsu Matsuri', 'Phi Brain: Kami no Puzzle', 'Blood Lad: Wagahai wa Neko de wa Nai', 'Detective Conan OVA 03: Conan and Heiji and the Vanished Boy', 'Gensoumaden Saiyuuki OVA', 'Tokyo Majin Gakuen Kenpucho: Tou', 'Wagaya no Oinari-sama.', 'Detective Conan OVA 08: High School Girl Detective Sonoko Suzuki&#039;s Case Files', 'HeatGuy J Special', 'Jigoku Sensei Nube OVA', 'Selector Destructed WIXOSS Movie', 'Taiho Shichau zo: Full Throttle', 'Tantei Opera Milky Holmes Dai 2 Maku', 'Tenjou-jin to Akuto-jin Saigo no Tatakai', 'Gantz 2nd Stage', 'Hi no Tori', 'Kara no Kyoukai: Shuushou', 'Kikoushi Enma', 'Kochira Katsushikaku Kameari Kouenmae Hashutsujo The Movie', 'Black Blood Brothers', 'Dead Leaves', 'Inari, Konkon, Koi Iroha.', 'Onmyou Taisenki', 'Sarusuberi: Miss Hokusai', 'Senkaiden Houshin Engi', 'Sentou Yousei Yukikaze', 'Suzumiya Haruhi no Yuuutsu (2009)', 'Boogiepop wa Warawanai: Boogiepop Phantom', 'Cyber City Oedo 808', 'Gantz', 'Ghost Sweeper GS Mikami', 'Gunsmith Cats', 'Kanon', 'Kaze no Youjinbou', 'Kyougoku Natsuhiko: Kousetsu Hyaku Monogatari', 'Persona 5 the Animation: The Day Breakers', 'Taiho Shichau zo: Nagisa no Koutsuu Yuudou', 'Ao no Exorcist: Ura Ex', 'Fate/Zero Remix', 'Kyoukai no Rinne (TV) 2nd Season', 'Vampire Hunter D', 'Dororo to Hyakkimaru', 'Kaitou Joker 2nd Season', 'Kyousou Giga (2012)', 'Moyashimon Returns', 'Tenchi Muyou! GXP', 'Dantalian no Shoka: Ibarahime', 'Gakuen Senki Muryou', 'Ibara no Ou', 'Konjiki no Gash Bell!!: Mecha Vulkan no Raishuu', 'Wasurenagumo', 'Yuugo: Koushounin', 'Concrete Revolutio: Choujin Gensou - The Last Song', 'Dirty Pair OVA', 'Gingitsune', 'Aku no Hana', 'Appleseed Alpha', 'Dirty Pair', 'JoJo no Kimyou na Bouken: Adventure', 'Red Garden', 'Witch Craft Works', 'Appleseed (Movie)', 'Bleach: Memories in the Rain', 'Cat&#039;s Eye', 'Harmony', 'Kaibutsu Oujo (OVA)', 'Mekakucity Actors', 'Negima!?', 'Yami Shibai', 'Armitage III', 'Dance in the Vampire Bund', 'Fw:Hamatora', 'Makai Ouji: Devils and Realist', 'Sousei no Aquarion', 'Supernatural The Animation', 'Devilman: Tanjou-hen', 'Dirty Pair: The Movie', 'Garo Movie: Divine Flame', 'Loveless', 'Mokke', 'Omamori Himari', 'Yakushiji Ryouko no Kaiki Jikenbo', 'Yuri Kuma Arashi', 'Zombie-Loan Specials', 'Armitage III: Poly-Matrix', 'Harukanaru Toki no Naka de: Hachiyou Shou', 'Kindaichi Shounen no Jikenbo', 'Rental Magica', 'Tenjou Tenge: The Ultimate Fight', 'Inukami! The Movie: Tokumei Reiteki Sousakan Karina Shirou!', 'Kannagi: Moshimo Kannagi ga Attara...', 'Madlax', 'Mahou Shoujo Ikusei Keikaku', 'Naruto Movie 1: Dai Katsugeki!! Yuki Hime Shinobu Houjou Dattebayo!', 'Taiho Shichau zo Special', 'Taiho Shichau zo: Full Throttle Special', 'Asatte no Houkou.', 'Bomberman Jetters', 'Dirty Pair: Lovely Angels yori Ai wo Komete', 'Hakuouki Hekketsuroku Episode 0', 'Hellsing: Psalm of Darkness', 'Kaibutsu Oujo', 'Mermaid Forest', 'Punch Line', 'RahXephon: Pluralitas Concentio', 'Riding Bean', 'Seiken Tsukai no World Break', 'Seikimatsu Occult Gakuin', 'Sousei no Aquarion OVA', 'Street Fighter II V', 'Tenjou Tenge: The Past Chapter', 'Choujigen Game Neptune The Animation', 'D.C.S.S: Da Capo Second Season', 'Detective Conan: Happy New Year Special', 'Honoo no Mirage: Minagiwa no Hangyakusha', 'Jitsu wa Watashi wa', 'Owari no Seraph: Kyuuketsuki Shahar', 'Seirei Tsukai no Blade Dance', 'Wata no Kuni Hoshi', '.hack//Sign', 'Detective Conan OVA 12: The Miracle of Excalibur', 'Devilman: Yochou Sirene-hen', 'Gakusen Toshi Asterisk', 'Kamisama Dolls', 'Blue Seed', 'Monochrome Factor', 'Robotica*Robotics', 'Corpse Party: Tortured Souls - Bougyakusareta Tamashii no Jukyou', 'Kaibutsu Oujo: Konsui Oujo', 'Kaitou Joker 4th Season', 'Servamp', 'Shikabane Hime: Kuro Special', 'Switch', 'Gosick Recap', 'Lupin III: Hemingway Paper no Nazo', 'Mahou Sensei Negima!', 'Sousei no Onmyouji', 'Tezuka Osamu no Buddha: Akai Sabaku yo! Utsukushiku', 'Tezuka Osamu no Buddha: Owarinaki Tabi', 'Vassalord.', 'Asura Cryin&#039;', 'Kono Danshi, Uchuujin to Tatakaemasu.', 'Shingetsutan Tsukihime', 'Dai Mahou Touge', 'Furusato Saisei: Nihon no Mukashibanashi', 'Gokukoku no Brynhildr', 'Itsuka Tenma no Kuro Usagi OVA', 'Kaitou Joker 3rd Season', 'Lupin III: Lupin vs. Fukusei-ningen', 'Macademi Wasshoi!', 'Mokke Specials', 'Night Walker: Mayonaka no Tantei', 'Youkai Watch Movie 2: Enma Daiou to Itsutsu no Monogatari da Nyan!', 'Gakkou no Kaidan: Kubinashi Rider!! Shi no Noroi', 'Mermaid&#039;s Scar', 'Saibi', 'Yumekui Merry', 'Beet the Vandel Buster', 'Devil Survivor 2 The Animation', 'Dominion', 'Gegege no Kitarou (1968)', 'Hyper Police', 'Monkey King: Hero Is Back', 'Natsu-iro Kiseki', 'New Dominion Tank Police', 'Sola Specials', 'Zettai Shounen', 'Zombie-Loan', 'Bleach: The Sealed Sword Frenzy', 'CLAMP Gakuen Tanteidan', 'Code Geass: Hangyaku no Lelouch - Kiseki no Birthday Picture Drama', 'Kannazuki no Miko', 'Shinigami no Ballad.', 'Taimadou Gakuen 35 Shiken Shoutai', 'Tantei Opera Milky Holmes: Summer Special', 'Aa! Megami-sama!: Chichaitte Koto wa Benri da ne', 'Amatsuki', 'Kindaichi Shounen no Jikenbo Returns 2nd Season: Akechi Keibu no Jikenbo', 'Kindaichi Shounen no Jikenbo: Kuromajutsu Satsujin Jiken-hen', 'Manie-Manie: Meikyuu Monogatari', 'Shisha no Teikoku', 'Tantei Opera Milky Holmes', 'Tokyo Mew Mew', 'Code:Breaker', 'Dwaejiui Wang', 'Lostorage Incited WIXOSS', 'Mizu no Kotoba', 'Musaigen no Phantom World', 'Ani*Kuri15', 'Detective Conan: The Fugitive Kogorou Mouri', 'Fate/stay night TV Reproduction', 'Gregory Horror Show: The Second Guest', 'Kakurenbo', 'Samurai Deeper Kyou', 'Tenpou Ibun: Ayakashi Ayashi', 'Blood: The Last Vampire', 'Coo: Tooi Umi kara Kita Coo', 'Fate/Prototype', 'Hakaba Kitarou', 'Kamisama no Inai Nichiyoubi: Kioku', 'Lupin III: Touhou Kenbunroku - Another Page', 'Mermaid Forest OVA', 'Seigi wo Aisuru Mono Gekkou Kamen', 'Zetman', 'Cossette no Shouzou', 'Kindaichi Shounen no Jikenbo: Satsuriku no Deep Blue', 'Manga Sarutobi Sasuke', 'Tenpou Ibun: Ayakashi Ayashi - Ayashi Shinkyoku', 'Kochira Katsushikaku Kameari Kouenmae Hashutsujo The Movie 2: UFO Shuurai! Tornado Daisakusen', 'Kuro no Sumika: Chronus', 'Mahou Shoujo Madoka★Magica: Concept Movie', 'Megazone 23', 'Naruto Movie 2: Dai Gekitotsu! Maboroshi no Chiteiiseki Dattebayo!', 'Owari no Seraph: The Beginning of the End', 'Da Yu Hai Tang', 'Hidan no Aria Special', 'Kyoukai no Rinne (TV)', 'Kyousou Giga', 'Zettai Karen Children Gentei Kaikin!! OVA Chou Sakidori Special!!', 'Kami nomi zo Shiru Sekai: Flag 0', 'Koko wa Green Wood', 'Dakara Boku wa, H ga Dekinai.', 'Dirty Pair: Bouryaku no 005-bin', 'Tenchi Muyou!: Galaxy Police Mihoshi Space Adventure', 'X OVA', 'Yozakura Quartet', 'Agatha Christie no Meitantei Poirot to Marple', 'Inari, Konkon, Koi Iroha.: Inari, Konkon, Semishigure.', 'Youkai Watch', 'Suteki Tantei Labyrinth', 'Blade of the Immortal', 'Dragon Crisis!', 'Jigoku Sensei Nube: Kyoufu no Natsu Yasumi! Asashi no Uni no Gensetsu', 'Tayutama: Kiss on My Deity', 'Tytania', 'Devilman Lady', 'Kaitou Joker', 'Mirai Keisatsu Urashiman', 'Mobile Police Patlabor: WXIII', 'Code:Breaker OVA', 'Fortune Arterial: Akai Yakusoku', 'Jigoku Sensei Nube: Gozen 0 toki Nube Shisu', 'Mahou Sensei Negima! Introduction Film', 'Nishi no Yoki Majo: Astraea Testament', 'Tansu Warashi.', 'Tokyo Ravens: Kon ga Oshiete Moshi Agemasu! Maru Wakari Tokyo Ravens', 'C³ Special', 'Gregory Horror Show', 'Kanon Kazahana', 'Kidou Senkan Nadesico: The Prince of Darkness', 'Mahou Sensei Negima! Anime Final', 'Pupipo!', 'Wangpai Yushi', 'Amaenaide yo!! Katsu!!', 'Master Mosquiton', 'Moon Pride', 'Sora no Otoshimono Final: Eternal My Master', 'Witch Craft Works OVA', 'Blood-C: Special Edition', 'C³', 'Harukanaru Toki no Naka de 3: Owarinaki Unmei', 'Hiiro no Kakera', 'Inaka Isha', 'Night Head Genesis', 'Concrete Revolutio: Choujin Gensou', 'Fantascope: Tylostoma', 'Garo: Honoo no Kokuin - Home', 'Haunted Junction', 'Hikari to Mizu no Daphne', 'Saijaku Muhai no Bahamut', 'Bakuretsu Hunters', 'Chibi☆Devi!', 'Dirty Pair Flash 2', 'Hamatora The Animation: Saishuukai Chokuzen! Mao ga Okuru Soushuuhen Special', 'Kono Naka ni Hitori, Imouto ga Iru!', 'Shakugan no Shana: Friagne to Marianne no Naze Nani Shana! Nandemo Shitsumonbako!', 'Gegege no Kitarou (1971)', 'Tsukumo', 'Itsuka Tenma no Kuro Usagi', 'Nobunagun', 'Nyanpire The Animation', 'Re-Kan!', 'Beet the Vandel Buster Excellion', 'Dirty Pair Flash', 'Gyakuten Saiban 6 Prologue', 'Jigoku Sensei Nube (Movie)', 'Kaibutsu Oujo (OVA) Specials', 'Kaiketsu Jouki Tanteidan', 'Kyoukai no Kanata: Mini Theater', 'Mobile Police Patlabor Reboot', 'Seikon no Qwaser', 'Tokyo Babylon', 'Amaenaide yo!!: Yasumanaide yo!!', 'Berserk (2016)', 'Cyborg 009 VS Devilman', 'Hurricane Polymar', 'Kekkai Sensen: Soresaemo Saitei de Saikou na Hibi', 'Monster Extra', 'Ribbon no Kishi', 'Tekken: Blood Vengeance', 'Wagaya no Oinari-sama. Specials', 'Full Moon wo Sagashite: Kawaii Kawaii Daibouken', 'Gilgamesh', 'Gregory Horror Show: The Last Train', 'Harukanaru Toki no Naka de 2: Shiroki Ryuu no Miko', 'Appleseed', 'Gegege no Kitarou (1996)', 'Konjiki no Gash Bell!!: Hashire Gash!! Ubawareta Umagon', 'Loveless Specials', 'Mirai Nikki (TV): Ura Mirai Nikki', 'Skull Man', 'Absolute Duo', 'Amaenaide yo!! Katsu!!: Damasarenaide yo!!', 'Esper Mami', 'Juubee Ninpuuchou: Ryuuhougyoku-hen', 'Kanamewo', 'Kindaichi Shounen no Jikenbo: Shinigami Byouin Satsujin Jiken', 'Mezzo DSA', 'Occultic;Nine', 'Rokujouma no Shinryakusha!?', 'Seirei Tsukai no Blade Dance Specials', 'Tamala 2010: A Punk Cat in Space', 'Betterman', 'Gegege no Kitarou (1985)', 'Highschool of the Dead: Drifters of the Dead', 'Lupin III: Green vs. Red', 'Digimon Savers: Agumon! Gaomon! Lalamon! Bakuretsu! Jougai Last Battle!', 'Mouryou no Hako Special', 'Musaigen no Phantom World Special', 'Nekogami Yaoyorozu: Ohanami Ghostbusters', 'Souryuuden', 'Umi Monogatari: Anata ga Ite Kureta Koto', 'E&#039;s Otherwise', 'Persona 4 the Golden Animation', 'Ranpo Kitan: Game of Laplace', 'Takarajima Memorial: Yuunagi to Yobareta Otoko', '.hack//Liminality', 'Amazing Nuts!', 'Blue Dragon: Tenkai no Shichi Ryuu', 'Gasaraki', 'Honoo no Mirage', 'Kanokon', 'Sasami-san@Ganbaranai', 'Appleseed XIII Remix Movie 1: Yuigon', 'Blood-C', 'Fusha no Sha', 'Ghost in the Shell: The New Movie Virtual Reality Diver', 'KO Seiki Beast Sanjuushi', 'Meitantei Holmes: Aoi Ruby no Maki / Kaitei no Zaihou no Maki', 'Nekogami Yaoyorozu', 'Yami to Boushi to Hon no Tabibito', 'Chrno Crusade: Az demo Wakaru Chrno Crusade Kouza', 'Dirty Pair Flash 3', 'Ghost in the Shell: Arise - Another Mission', 'Harukanaru Toki no Naka de: Hachiyou Shou OVA', 'M3: Sono Kuroki Hagane', 'Naisho no Tsubomi', '.hack//Intermezzo', 'Burn Up Excess', 'Dance with Devils', 'Kyousou Giga (TV) Recaps', 'Master Mosquiton 99', 'Qualidea Code', 'Shakugan no Shana: Friagne to Marianne no Naze Nani Shana! Nandemo Shitsumonbako! 2', 'Taiho Shichau zo in America', 'Tokkou', 'Touka Gettan', 'Umi Monogatari: Anata ga Ite Kureta Koto - Shinjiau Kokoro', 'Anemone', 'Karakuri no Kimi', 'Parasite Dolls', 'RESTOL: Special Rescue Team', 'Rewrite', 'Seikon no Qwaser II', 'Yoroshiku Mechadock', 'Amon: Devilman Mokushiroku', 'Appleseed XIII Remix Movie 2: Yogen', 'Fake', 'Ginga Tetsudou no Yoru: Fantasy Railroad in the Stars', 'Inu to Hasami wa Tsukaiyou', 'Nurarihyon no Mago: Sennen Makyou Recaps', 'X/1999', 'Amaenaide yo!!', 'Crying Freeman', 'Hitori no Shita: The Outcast', 'Interlude', 'Nurarihyon no Mago: Jump Super Anime Tour Special', 'RahXephon Specials', 'Rokka no Yuusha Picture Drama', 'Honto ni Atta! Reibai Sensei', 'Take Your Way', 'Dirty Pair no Ooshoubu: Nolandia no Nazo', 'Dororon Enma-kun Meeramera', 'Jie Mo Ren', 'Joou Heika no Petite Angie', 'Kishin Douji Zenki Gaiden: Anki Kitan', 'Ryuugajou Nanana no Maizoukin', 'Miami Guns', 'Onigamiden', 'Tokyo ESP', 'Trickster: Edogawa Ranpo &quot;Shounen Tanteidan&quot; yori', 'Konjiki no Gash Bell!!: Ougon no Chichi wo Motsu Otoko', 'Shin Megami Tensei Devil Children', 'ChäoS;HEAd', 'Detective Conan: Nazo no Suisei Kaijuu wo Oe!', 'Shin Megami Tensei Devil Children: Light &amp; Dark', 'Code Geass: Soubou no Oz Picture Drama', 'Dance in the Vampire Bund Recap', 'Meitantei Holmes: Mrs. Hudson Hitojichi Jiken no Maki / Dover Kaikyou no Daikuuchuusen no Maki', 'Persona 4 the Golden Animation: Thank you Mr. Accomplice', 'Seikimatsu Occult Gakuin Specials', 'Zettai Karen Children Recap', 'Blue Seed 2', 'Dakara Boku wa, H ga Dekinai. Recap', 'Shakugan no Shana: Shana &amp; Yuuji no Naze Nani Shana! Nandemo Shitsumon-bako!', 'L/R: Licensed by Royal', 'Tantei Opera Milky Holmes: Alternative', 'Active Raid: Kidou Kyoushuushitsu Dai Hachi Gakari 2nd', 'Babel Nisei (1973)', 'Higurashi no Naku Koro ni Kira', 'Midnight Eye: Gokuu', 'Sukeban Deka', 'Gakkou no Kaidan (OVA)', 'Mizuiro (2003)', 'Twilight Q', 'Yuugen Kaisha', 'Panty &amp; Stocking in Sanitarybox', 'Seikon no Qwaser: Jotei no Shouzou', 'Blue Dragon', 'Devilman', 'Rozen Maiden: Meitantei Kunkun - Duell Walzer', 'Under the Dog', 'Venus Versus Virus', 'Kagewani', 'Kagewani: Shou', 'Obake no Q-tarou (1985)', 'Saikin, Imouto no Yousu ga Chotto Okashiinda ga. OVA', 'Yami Shibai 2nd Season', 'Yuukan Club', 'Kochira Katsushikaku Kameari Kouenmae Hashutsujo', 'Lily to Kaeru to (Otouto)', 'Yonimo Osoroshii Grimm Douwa', 'Appleseed XIII', 'Harukanaru Toki no Naka de: Hachiyou Shou Specials', 'Hello Harinezumi: Satsui no Ryoubun', 'Mini Hama: Minimum Hamatora', 'Kyoto Animation: Megane-hen', 'Red Garden: Dead Girls', 'Sakura Taisen: New York', 'Silent Mobius: The Motion Picture', 'Arslan Senki (TV): Dakkan no Yaiba', 'HaruChika: Haruta to Chika wa Seishun suru', 'RahXephon Interlude: Her and Herself/Thatness and Thereness', 'Sanctuary', 'The SoulTaker: Tamashii-gari', '11eyes', 'Fabre-sensei wa Meitantei', 'Geobreeders: File-X Chibi Neko Dakkan', 'Gyakuten Saiban: Sono &quot;Shinjitsu&quot;, Igi Ari!', 'Gegege no Kitarou: Nippon Bakuretsu', 'Seikima II Humane Society: Jinrui Ai ni Michita Shakai', 'Shakugan no Shana: Naze Nani Shana! Nandemo Shitsumonbako! Special', 'AD Police', 'Ookamikakushi', 'Rail Wars!', 'Tantei Kageki Milky Holmes TD', 'Wangpai Yushi Di 0 Ji', 'Akuma-kun', 'Kuttsukiboshi', 'Popotan', 'Reporter Blues', 'Saikin, Imouto no Yousu ga Chotto Okashiinda ga.', 'Tenshi Kinryouku', 'Biohazard 4: Incubate', 'Dennou Coil Recaps', 'Duan Nao', 'Go! Go! Ackman', 'Otome Youkai Zakuro Picture Drama', 'Tezuka Osamu ga Kieta?! 20 Seiki Saigo no Kaijiken', 'Amefuri Kozou', 'Arve Rezzle: Kikaijikake no Yousei-tachi', 'Boukyaku no Senritsu', 'Harukanaru Toki no Naka de: Ajisai Yumegatari', 'Midnight Eye: Gokuu II', 'Oni', 'Tezuka Osamu no Don Dracula', 'Warau Hyouteki', 'Code Geass: Hangyaku no Lelouch - Kiseki no Birthday Picture Drama Flash Special', 'Gegege no Kitarou: Daikaijuu', 'Loups=Garous', 'Kyomu Senshi Miroku', 'Magical Canan', 'Soushin Shoujo Matoi', 'Survival', 'Harukanaru Toki no Naka de: Hachiyou Shou Recap', 'Kikou Keisatsu Metal Jack', 'Mamono Hunter Youko', 'Himiko-den', 'Kirara', 'Mouryou Senki Madara', 'Nekogami Yaoyorozu Specials', 'Teizokurei Daydream', 'Amnesia', 'Gegege no Kitarou: Youkai Tokkyuu! Maboroshi no Kisha', 'Jikuu Tantei Genshi-kun', 'Lupin tai Holmes', 'Cinderella Boy', 'Dororon Enma-kun', 'Izumo: Takeki Tsurugi no Senki', 'Kataku', 'Nurarihyon no Mago Recaps', 'Obake no Q-tarou', 'Chocolat no Mahou', 'Gegege no Kitarou (1968 Movie)', 'Moyashimon CGI Anime', 'Isuca: Gokuraku', 'Kaze no Tairiku', 'Makai Toshi Shinjuku', 'Meiou Project Zeorymer', 'Psychic Academy', 'Wild Adapter', 'Badaui Jeonseol Jangbogo', 'Digimon Savers 3D: Digital World Kiki Ippatsu!', 'Mini Hama: Minimum Hamatora Movies', 'Short Peace Opening', 'Taifuu no Noruda', 'Wind: A Breath of Heart OVA', 'Bakuen Campus Guardress', 'Burn Up Scramble', 'Gegege no Kitarou: Chisougan', 'Itsuka Tenma no Kuro Usagi Picture Drama', 'Mad★Bull 34', 'Tiger &amp; Bunny Recaps', 'Wild 7', 'Darkside Blues', 'Kyokugen Dasshutsu Adv: Zennin Shibou Desu Prologue', 'Soul Eater NOT!', 'DRAMAtical Murder', 'Hipira-kun', 'Monster High: Kowa-ike Girls', 'Asagiri no Miko', 'Chuumon no Ooi Ryouriten (1991)', 'Gregory Horror Show: The Bloody Karte', 'Maou Dante', 'Gegege no Kitarou (1985 Movie)', 'Goulart Knights: Evoked the Beginning White', 'Tattoon Master', 'Memory', 'Norageki!', 'Animation!', 'Gasshin Sentai Mechander Robo', 'Holy Knight', 'Narutaru: Mukuro Naru Hoshi Tama Taru Ko', 'Otohime Connection', 'Bokurano Recap', 'Jiu Se Lu', 'Tantei Team KZ Jiken Note', '11eyes: Momoiro Genmutan', 'Aquarian Age: Sign for Evolution', 'Ark', 'Assemble Insert', 'Hashi no Mukou', 'Shisha no Sho', 'Urban Square: Kouhaku no Tsuigeki', 'Yakumo Tatsu', 'Yami Shibai 3rd Season', 'Youma', 'Attraction', 'Burn Up!', 'Doujouji', 'Kaze no Matasaburou (Movie)', 'DRAMAtical Murder OVA: Data_xx_Transitory', 'Gakkou no Kaidan Recaps', 'Persona 2: Another Self', 'Chivas 1-2-3', 'Haitai Nanafa 2nd Season', 'I: Wish You Were Here', 'Gekkou no Pierce: Yumemi to Gin no Bara no Kishidan', 'Shingeki no Bahamut: Genesis Recap', 'Kishin Houkou Demonbane (TV) Specials', 'Hengen Taima Yakou Karura Mau! Nara Onryou Emaki', 'Chuumon no Ooi Ryouriten', 'Haitai Nanafa', 'Seoul-yeok', 'Chiisana Obake Acchi, Kocchi, Socchi', 'Isuca', 'Saint Luminous Jogakuin', 'Eikyuu Kazoku', 'First Squad: The Moment of Truth', 'Kyoukai no Rinne', 'Youkai Watch: Best 10', 'Detective Conan vs. Wooo', 'Hajimari no Boukensha-tachi: Legend of Crystania', 'Nessa no Haou Gandalla', 'Lime-iro Senkitan', 'Wind: A Breath of Heart (TV)', 'Alexander Senki Movie', 'Bannou Yasai Ninninman', 'Gaist Crusher', 'Garo: Guren no Tsuki Special', 'Genocyber', 'Yonimo Osoroshii Nihon Mukashibanashi', 'Kashou no Tsuki: Aki Kyougen', 'Legend of Crystania OVA', 'Taboo Tattoo', 'Tooryanse', 'Buddha Saitan', 'Byulbyul Iyagi', 'Kikumana', 'Musaigen no Phantom World: Limitless Phantom World', 'Ra/Radio Noise*Planet', 'Saint Beast: Seijuu Kourin-hen', 'Naikaku Kenryoku Hanzai Kyousei Torishimarikan Zaizen Joutarou', 'Sono Kinisasete yo: My My Mai', 'Defend Love', 'Ninja &amp; Soldier', 'Osiris no Tenbin', 'Shijin no Shougai', 'Teito Monogatari', 'Yuugen Kaisha: Jiken File 00 - Hajimari wa Ayashiku mo Hanayaka ni', 'Shuten Douji', 'Angel Cop', 'Deimos no Hanayome: Ran no Kumikyoku', 'Shihaisha no Tasogare', 'Active Raid: Kidou Kyoushuushitsu Dai Hachi Gakari', 'Bounty Hunter: The Hard', 'DušaN', 'Hipira-kun ONA', 'Techno Police 21C', 'Sekai Kei Sekai Ron', 'The Epic Of ZektBach', 'Si Ling Bianma: Zhi Shijie Caozong Zhe', 'Ninja Mono', 'Kiitarou Shounen no Youkai Enikki', 'Bloodivores', 'Garo: Guren no Tsuki', 'Psycho Diver: Mashou Bosatsu', 'Koroshiya 1 The Animation: Episode 0', 'Seirei Tsukai', 'Down Load: Namu Amida Butsu wa Ai no Uta', 'Flying Witch Petit', 'Meisou! Underworld', 'Malice@Doll', 'Babel Nisei (2001)', 'Goulart Knights: Evoked the Beginning Black', 'Houkago no Tinker Bell', 'X Densha de Ikou', 'Lime-iro Ryuukitan X', 'Loups=Garous Pilot', 'Sekiei Ayakashi Mangatan', 'Chaos Dragon: Sekiryuu Seneki', 'Chikotan', 'Futari wa Milky Holmes', 'Chuumon no Ooi Ryouriten (1993)', 'Battle Royal High School', 'Satsujin Kippu wa Heart-iro', 'Alexander Senki', 'Kataribe Shoujo Honoka', 'Ninja Ryuukenden', 'Taneyamagahara no Yoru', 'Cosmo Police Justy', 'Mayoiga', 'Saiki Kusuo no Ψ-nan', 'Sword Gai', 'Antique Heart', 'Kyoufu Shinbun (2014)', 'Makaryuudo Demon Hunter', 'Okitegami Kyouko no Bibouroku x Monogatari', 'Mugen Shinshi: Bouken Katsugeki-hen', 'Galerians: Rion', 'Christmas', 'Kyoufu no Bio Ningen Saishuu Kyoushi', 'Ugokie Kori no Tatehiki', 'Wild 7 Another Bouryaku Unga', 'Ankoku Shindenshou Takegami', 'Murder', 'Yuureisen', 'Koroshiya-san: The Hired Gun', 'Yakusai Kochou', 'Barom One', 'Nakoruru: Ano Hito kara no Okurimono', 'Tokyo Juushouden', 'Digital Juice', 'Midori no Neko', 'Timing', 'Neon The Animation', 'Obake no Dokurou', 'Angel&#039;s Feather', 'With You: Mitsumeteitai', 'Nekketsu Tantei Jimusho', 'Virus: Virus Buster Serge', 'Worku', 'Fushigi no Umi no Nadia: Original Movie', 'Tokyo Juushouden: Fuuma Gogyou Denshou', 'Tokyo Babylon: Vision', 'Sengoku Choujuu Giga', 'Tokyo Vice', 'Loups=Garous Picture Drama', 'Glasslip', 'Tabi', 'Zekkyou Gakkyuu', 'Zonmi-chan: Meat Pie of the Dead', 'Zekkyou Gakkyuu: Tensei', 'Inferno Cop: Fact Files', 'Onigiri', 'Yami no Shihosha Judge', 'Answer', 'Soul Reviver', 'Digital Devil Story: Megami Tensei', 'Genma Taisen: Shinwa Zenya no Shou', 'Meitantei Gordon', 'Seijuuki Cyguard', 'Shinpi no Hou', 'Kurayami Santa', 'Litchi DE Hikari Club', 'Yami no Purple Eye', 'Makai Tenshou', 'Fight!!', 'Ryokunohara Meikyuu', 'Yellow', 'Chainsaw Maid', 'Sin: The Movie', 'Saishuu Shiken Kujira', 'One: Kagayaku Kisetsu e', 'Columbos', 'Nisou no Kuzu', 'Sin in the Rain', 'Urmă (Zanzou)', 'Agukaru', 'Tekkon Kinkreet Pilot', 'Kizuoibito', 'Tanjou: Debut', 'Ashiaraiyashiki no Juunin-tachi.', 'Ojousama Sousamou', 'Kaidan', 'Legend of Duo', 'Hand Soap', 'Kenju Giga', 'Shoujouji no Tanuki-bayashi Ban Danemon', 'Yoru no Hi', 'The Chocolate Panic Picture Show', 'De:vadasy', 'Chagama Ondo', 'Nouryou Anime: Denkyuu Ika Matsuri', 'Shuranosuke Zanmaken: Shikamamon no Otoko', 'Anomalies', 'Lost Utopia', 'Hinomaru Hatanosuke: Bakemonoyashiki no Maki', 'Kakari', 'Great Rabbit', 'Sushi Police', 'Yokoo&#039;s 3 Animation Films', 'Vampire Sensou', 'Kindan no Mokushiroku: Crystal Triangle', 'Issunboushi no Shusse', 'Kodomo no Kaitei no Koto', 'Ai', 'Ankoku Shinwa', 'Bloody Night', 'Dark Cat', 'Red Colored Bridge', 'Pupa', 'Dead Girl Trailer', 'Born by Myself', 'Vampire Holmes', 'Agukaru: Play with Ibaraki-hen', 'Agukaru: Play with Ibaraki-hen Episode 0', 'Akuma Tou no Prince: Mitsume ga Tooru', 'Akuma-kun (Movie)', 'Akuma-kun: Youkoso Akuma Land e!!', 'Aloha! Youkai Watch: Rakuen Hawaii de Geragerapou!!', 'Aries: Shinwa no Seizakyuu', 'Bokutachi no Peace River', 'Byulbyul Iyagi 2', 'Chang', 'Chibikko Kaijuu Yadamon', 'Chou Kousoku Galvion', 'Chuuhai Lemon: Love 30s - Ame ni Nurete mo', 'City Hunter: Ryou no Propose', 'Daruma-chan', 'Doctor Mambo &amp; Kaitou Jibako: Uchuu yori Ai wo Komete!!', 'Dororonpa!', 'Edokko Boy: Gatten Tasuke', 'Esper Mami Special: My Angel Mami-chan', 'Fujiko Fujio A no Mumako', 'Gakkou no Kowai Uwasa Shin: Hanako-san ga Kita!!', 'Gaza: Changing the World', 'Gegege no Kitarou: Gekitotsu!! Ijigen Youkai no Daihanran', 'Gegege no Kitarou: Jigoku-hen', 'Gegege no Kitarou: Kitarou no Yuurei Densha', 'Gegege no Kitarou: Kitarou Tanjou-hen', 'Gegege no Kitarou: Obake Nighter', 'Gegege no Kitarou: Saikyou Youkai Gundan! Nippon Jouriku!!', 'Gegege no Kitarou: Youkai Daisensou', 'Gegege no Kitarou: Youkai Japan Rally 3D', 'Ginga Hyouryuu Vifam: Chicago Super Police 13', 'GJ8 Man', 'Hayou no Ken: Shikkoku no Mashou', 'Heibai Wushang', 'Heisei Policemen!!', 'Hello Kitty: Ringo no Mori no Mystery', 'High School Mystery: Gakuen Nanafushigi', 'Hipira-kun Special', 'Honto ni Atta Gakkou Kaidan', 'Hyoutan', 'Jidou Bungaku Library', 'Jingi', 'Kacchikenee!', 'Kagaku Bouken-tai Tansar 5', 'Kagee Aesop Monogatari', 'Kagee Grimm Douwa', 'Kagee Mukashibanashi', 'Kagerou Daze: In a Day&#039;s', 'Kaijuu Sakaba Kanpai!', 'Kaitou Lupin: 813 no Nazo', 'Kappa Kawatarou', 'Kappa no Sanpei', 'Kero Kero Keroppi no Bikkuri! Obakeyashiki', 'KiyaKiya', 'Kochira Katsushikaku Kameari Kouenmae Hashutsujo: Hashire! Ryoutsu-shiki Chinchin Densha', 'Kochira Katsushikaku Kameari Kouenmae Hashutsujo: Maguro no Notta Keikan', 'Kochira Katsushikaku Kameari Kouenmae Hashutsujo: Mezase! Kameari Superstar!! Ryoutsu-shiki Aidoru h', 'Kochira Katsushikaku Kameari Kouenmae Hashutsujo: Ryou-san no Sushi Kuinee! - Choujyou Maguro Taiket', 'Kochira Katsushikaku Kameari Kouenmae Hashutsujo: Ryou-san to Chyuuken Rakkii Monogatari - Kameari D', 'Kochira Katsushikaku Kameari Kouenmae Hashutsujo: Ryoutsu no Asakusa Rinyuuaru Daisakusen!! - Aa, Om', 'Kochira Katsushikaku Kameari Kouenmae Hashutsujo: Ryoutsu vs. Nakimushi Aidoru!? Nihon Ikkai Dai-Sug', 'Kochira Katsushikaku Kameari Kouenmae Hashutsujo: Shiiron Tankentai! Sumidagawa no Chikai - Omoide n', 'Kochira Katsushikaku Kameari Kouenmae Hashutsujo: The Final - Ryoutsu Kakichi Saigo no Hi', 'Kochira Katsushikaku Kameari Kouenmae Hashutsujo: Washi to Ore!? - Bokura wa Asakusa Shounen Tanteid', 'Kokoroya', 'Kujakuou: Sengoku Tensei', 'Kyoushitsu wa Obake ga Ippai/Boku wa Yuusha da zo', 'L/R: Licensed by Royal Special', 'Luo Xiao Hei Zhan Ji', 'Machi Ichiban no Kechinbou', 'Megumi to Taiyou II: Kajuu Gummi Tweet Mystery - Kieta Sapphire Roman no Nazo', 'Meisaku World', 'Meitantei Hangyodon: Kaitou Ruzu Arawaruno-kan', 'Meitantei Rascal', 'Mikeneko Holmes no Yuurei Joushu', 'Nazotoki-hime wa Meitantei♥', 'Nekketsu Jinmen Inu: Life Is Movie', 'Neo Faust', 'Nihon no Otogibanashi', 'Nonki na Tou-san Ryuuguu Mairi', 'Norakuro-kun', 'Obake Nagaya', 'Obake no Q-Tarou: Susume! 1/100 Daisakusen', 'Onbu Obake', 'Oni Keibu Anpan', 'Ooedo Torimonochou: Nezumi Kozou', 'Ore no Sora Keiji-hen', 'Osiris no Tenbin: Season 2', 'Paradise', 'Peeping Life x Kaijuu Sakaba Kaiji: Kaijuu-tachi ga Iru Tokoro', 'Private Eye Dol', 'Qui Shui Yi Yun', 'Robocar Poli 2', 'Ryuuichi Manga Gekijou Onbu Obake', 'Sabu to Ichi Torimono Hikae', 'Seibu Tetsudou Ekiin Tako-chan', 'Sekai Meisaku Douwa Series', 'Shaolin Wuzang', 'Shiguang Guiyu', 'Shin Obake no Q-tarou', 'Shiritsu Tantai: Toki Shouzou Trouble Note - Hard &amp; Loose', 'Slippy Dandy', 'Survivor', 'Takarajima (Movie)', 'Tantei Opera Milky Holmes Movie: Gyakushuu no Milky Holmes', 'Tantei Shounen Kageman', 'The Collected Animations of ICAF (2001-2006)', 'The Midnight★Animal', 'The War of Great Monsters', 'Tiger &amp; Bunny: Too Many Cooks Spoil the Broth', 'Tobidase! Bacchiri', 'Toshishun', 'Touma Kishinden Oni', 'Toute wa Sono Kotae', 'Uchuu Icchokusen', 'Ushiro no Hyakutarou', 'Usogui', 'Video Ehonkan Sekai Meisaku Douwa', 'Wake up!! Tamala', 'Wanpaku Tanteidan', 'Wu Geng Ji', 'Yahabe', 'Yakushiji Ryouko no Kaiki Jikenbo: Hamachou, Voice &amp; Fiction', 'Yattokame Tanteidan', 'Youkaiden Nekome Kozou', 'Yumemakura Baku Twilight Gekijou', 'Zhongguo Jingqi Xiansheng', 'Ziggy: Soreyuke! R&amp;R Band', 'Itadaki! Seieki♥', 'Koakuma Kanojo The Animation', 'Kyonyuu Fantasy', 'Tentacle and Witches', 'Himekishi Lilia', 'Taimanin Asagi', 'Sex Pistols', 'Demon Busters: Ecchi na Ecchi na Demon Taiji The Animation', 'Pandra The Animation: Shiroki Yokubou Kuro no Kibou', 'Uchuu Kaizoku Sara', 'Alignment You! You! The Animation', 'Bible Black Gaiden', 'Brandish', 'Koutetsu no Majo Annerose', 'Aku no Onna Kanbu: Full Moon Night', 'Shinkyoku no Grimoire The Animation', 'Koihime', 'A Kite', 'Zoku Koihime', 'Ikusa Otome Valkyrie G', 'Mahou Shoujo Ai', 'Shion', 'Ikusa Otome Valkyrie 2', 'Megachu!', 'Hachishaku Hachiwa Keraku Meguri: Igyou Kaikitan The Animation', 'Shin Ringetsu', 'Vampire', 'Mahou Shoujo Elena', 'Elf Hime Nina', 'Inyouchuu The Animation', 'Taimanin Yukikaze', 'Secret Journey', 'Makai Tenshi Djibril 3', 'Oni-Tensei', 'Mahou Shoujo Ai San: The Anime', 'Taimanin Asagi Special', 'Gosenzo San&#039;e', 'Inyouchuu Shoku Special', 'Tokumu Sousakan Rei &amp; Fuko', 'Inyouchuu Etsu', 'Gakuen Nanafushigi', 'Koushoku Ichidai Otoko', 'Dragon Pink', 'Mouryou no Nie', 'Soukou Kijo Iris Special', 'Inma Youjo', 'Luv Wave', 'Koukai Benjo The Animation', 'Inyouchuu Etsu Special', 'Taimanin Asagi 2', 'Gedou Gakuen', 'Yoru ga Kuru!', 'Black Gate: Kanin no Gakuen', 'Yuuwaku Countdown', 'Tokyo Requiem', 'Haitoku no Shoujo', 'Seijuuden: Twin Dolls', 'Megami Kyouju', 'Kamyla', 'Mugen no Kyoukai', 'Shoujo Senki Brain Jacker', 'Fujimi 2-choume Koukyougakudan', 'Nonomura Byouin no Hitobito', 'Buta Himesama', 'Gloria: Kindan no Ketsuzoku', 'Injuu Seisen XX', 'Bondage Game: Shinsou no Reijoutachi - Shinsou no Doreitachi', 'Mozu no Nie', 'Bondage Game: Shinsou no Reijoutachi', 'Kimera', 'Kyuukyoku no Sex Adventure Kamasutra']\n"
     ]
    }
   ],
   "source": [
    "relevant_anime = get_relevant_anime(\"Death Note\", df)\n",
    "print(relevant_anime)"
   ]
  },
  {
   "cell_type": "code",
   "execution_count": 47,
   "id": "41b57316-fbcc-43f1-935f-2a645406e7da",
   "metadata": {},
   "outputs": [],
   "source": [
    "from sklearn.metrics import precision_score, recall_score, f1_score\n",
    "\n",
    "def evaluate_recommendations(df, test_users, top_n=10):\n",
    "  \"\"\"\n",
    "  Evaluates the recommendation system using precision, recall, and F1-score.\n",
    "\n",
    "  Args:\n",
    "    df: DataFrame containing anime data.\n",
    "    test_users: List of anime names to use for testing.\n",
    "    top_n: Number of recommendations to consider.\n",
    "\n",
    "  Returns:\n",
    "    Tuple containing precision, recall, and F1-score.\n",
    "  \"\"\"\n",
    "\n",
    "  all_recommended = []\n",
    "  all_relevant = []\n",
    "\n",
    "  for anime_name in test_users: # Iterate directly over the list of anime names\n",
    "    recommended = recommend_anime(anime_name, df, top_n=top_n)\n",
    "    relevant = get_relevant_anime(anime_name, df) # Use the main DataFrame 'df'\n",
    "\n",
    "    all_recommended.extend(recommended)\n",
    "    all_relevant.extend(relevant)\n",
    "\n",
    "  # Convert to binary relevance (1 if recommended and relevant, 0 otherwise)\n",
    "  y_true = [1 if anime in all_relevant else 0 for anime in all_recommended]\n",
    "  y_pred = [1] * len(all_recommended)  # All recommended are considered positive predictions\n",
    "\n",
    "  precision = precision_score(y_true, y_pred)\n",
    "  recall = recall_score(y_true, y_pred)\n",
    "  f1 = f1_score(y_true, y_pred)\n",
    "\n",
    "  return precision, recall, f1 # Return all three metrics\n"
   ]
  },
  {
   "cell_type": "code",
   "execution_count": 48,
   "id": "2a1fb24c-fbee-4971-8c64-fbfb68d7825f",
   "metadata": {},
   "outputs": [],
   "source": [
    "def get_relevant_anime(anime_name, df):\n",
    "    # Handle potential cases where the anime name isn't found\n",
    "    matching_rows = df[df['name'] == anime_name]\n",
    "    if matching_rows.empty:\n",
    "        print(f\"Warning: Anime '{anime_name}' not found in the DataFrame.\")\n",
    "        return []  # Return an empty list if no match\n",
    "\n",
    "    genres = matching_rows['genre'].iloc[0]\n",
    "    # Ensure genres is a list for iteration, handling potential float values\n",
    "    if not isinstance(genres, list):\n",
    "        genres = [genres]\n",
    "    relevant = df[df['genre'].apply(lambda x: any(item in x for item in genres) if isinstance(x, list) else False)]['name'].tolist()\n",
    "    return relevant"
   ]
  },
  {
   "cell_type": "code",
   "execution_count": 50,
   "id": "d8bbeffe-4703-4a0e-9dcb-eedd04d70c9f",
   "metadata": {},
   "outputs": [
    {
     "name": "stdout",
     "output_type": "stream",
     "text": [
      "Precision: 0.95\n",
      "Recall: 1.0\n",
      "F1-score: 0.9743589743589743\n"
     ]
    }
   ],
   "source": [
    "# Defining the list of anime names to use for testing\n",
    "test_users = [\"Death Note\", \"One Piece\"]  # Replace with your actual test anime\n",
    "\n",
    "# Call the evaluation function to calculate the metrics\n",
    "precision, recall, f1 = evaluate_recommendations(df, test_users, top_n=10) \n",
    "\n",
    "# Analyze the performance metrics\n",
    "print(\"Precision:\", precision)\n",
    "print(\"Recall:\", recall)\n",
    "print(\"F1-score:\", f1)\n"
   ]
  },
  {
   "cell_type": "code",
   "execution_count": null,
   "id": "3cd7304c-2772-4f81-b89d-d01333075139",
   "metadata": {},
   "outputs": [],
   "source": [
    "#Interpreting the results"
   ]
  },
  {
   "cell_type": "markdown",
   "id": "c4fec786-ba93-4aa5-bc5d-04620a12eb26",
   "metadata": {},
   "source": [
    "\n",
    "Precision:\n",
    "\n",
    "Indicates the proportion of correctly recommended anime out of all anime recommended.\n",
    " \n",
    "- High precision means most recommendations are relevant.\n",
    " \n",
    "- Low precision suggests many irrelevant recommendations.\n",
    "\n",
    "Recall:\n",
    "\n",
    "Represents the proportion of relevant anime that were successfully recommended.\n",
    "\n",
    "- High recall means most relevant anime were captured.\n",
    "    \n",
    "- Low recall indicates many relevant anime were missed.\n",
    "\n",
    "F1-score:\n",
    "\n",
    "A balanced metric combining precision and recall.\n",
    "\n",
    "- High F1-score signifies a good balance between precision and recall.\n",
    "    \n",
    "- Low F1-score suggests room for improvement in either precision or recall.\n",
    "\n"
   ]
  },
  {
   "cell_type": "code",
   "execution_count": null,
   "id": "ac5fa018-5ff8-4fac-91f4-eb1dba98ca6b",
   "metadata": {},
   "outputs": [],
   "source": [
    "# Identifying areas of improvement"
   ]
  },
  {
   "cell_type": "markdown",
   "id": "64cc301f-18ea-4c6b-a667-aac734234f6d",
   "metadata": {},
   "source": [
    "\n",
    "1. Data Quality:\n",
    "\n",
    "- Explore ways to handle missing data more effectively (beyond simple imputation).\n",
    "\n",
    "- Consider incorporating additional features like user reviews or ratings.\n",
    "\n",
    "- Address potential biases in the dataset (e.g., overrepresentation of popular anime).\n",
    "\n",
    "2. Similarity Metric:\n",
    "\n",
    "- Experiment with different similarity measures (e.g., Euclidean distance, Pearson correlation).\n",
    "\n",
    "- Fine-tune the similarity threshold to balance precision and recall.\n",
    "\n",
    "3. Recommendation Algorithm:\n",
    "\n",
    "- Explore more advanced recommendation techniques (e.g., collaborative filtering, matrix factorization).\n",
    "\n",
    "- Consider incorporating user preferences or demographics.\n",
    "\n",
    "4. Evaluation Methodology:\n",
    "\n",
    "- Use a more diverse set of test users to ensure generalizability.\n",
    "\n",
    "- Explore alternative evaluation metrics (e.g., NDCG, MAP) to capture ranking quality.\n",
    "\n",
    "5. User Interface:\n",
    "\n",
    "- Design an intuitive interface to present recommendations and gather user feedback.\n",
    "\n",
    "- Allow users to customize their preferences and provide explicit ratings.\n",
    "\n"
   ]
  },
  {
   "cell_type": "markdown",
   "id": "0b529294-6d63-49a1-a4b5-043dd1321e71",
   "metadata": {},
   "source": [
    "# Interview Questions:\n"
   ]
  },
  {
   "cell_type": "markdown",
   "id": "2e696799-c1a1-4192-9052-afb4b671ddd6",
   "metadata": {},
   "source": [
    "# 1.Can you explain the difference between user-based and item-based collaborative filtering?"
   ]
  },
  {
   "cell_type": "markdown",
   "id": "9d406487-c2fc-4911-af36-5af52ff3e556",
   "metadata": {},
   "source": [
    "User-Based vs. Item-Based Collaborative Filtering\n",
    "\n",
    "**User-Based Collaborative Filtering (UBCF):**\n",
    "\n",
    "- Focus: Finds users with similar tastes to the target user.\n",
    "    \n",
    "- Process:\n",
    "\n",
    "    1. Identify users who have rated items similarly to the target user.\n",
    "\n",
    "    2. Predict the target user's rating for an unrated item based on the ratings of similar users.\n",
    "\n",
    "- Strengths:\n",
    "\n",
    "    - Intuitive and easy to explain.\n",
    "        \n",
    "    - Can capture complex preferences based on user behavior.\n",
    "        \n",
    "- Weaknesses:\n",
    "\n",
    "    - Suffers from the \"cold start\" problem (difficulty recommending for new users with limited history).\n",
    "                                             \n",
    "    - Can be computationally expensive for large user bases.\n",
    "                                      \n",
    "    - Sensitive to changes in user preferences over time.\n",
    "\n",
    "**Item-Based Collaborative Filtering (IBCF):**\n",
    "\n",
    "- Focus: Finds items that are similar to those the target user has liked.\n",
    "        \n",
    "- Process:\n",
    "\n",
    "    1. Calculate similarity between items based on how they are co-rated by users.\n",
    "        \n",
    "    2. Predict the target user's rating for an unrated item based on their ratings of similar items.\n",
    "\n",
    "- Strengths:\n",
    "\n",
    "    - Less susceptible to the \"cold start\" problem for new users.\n",
    "    \n",
    "    - More computationally efficient than UBCF, especially for large datasets.\n",
    "    \n",
    "    - Item similarities tend to be more stable than user preferences.\n",
    "    \n",
    "- Weaknesses:\n",
    "\n",
    "    - May not capture the full complexity of user preferences.\n",
    "    \n",
    "    - Can struggle with recommending niche or unpopular items.\n",
    "\n",
    "**Key Differences:**\n",
    "\n",
    "| Feature | User-Based CF | Item-Based CF |\n",
    "\n",
    "|---|---|---|\n",
    "\n",
    "| Basis of Similarity | User ratings on items | Item co-ratings by users |\n",
    "\n",
    "| Focus | Finding similar users | Finding similar items |\n",
    "\n",
    "| Computation | More expensive for large user bases | More efficient for large datasets |\n",
    "\n",
    "| Cold Start | More sensitive to new users | Less sensitive to new users |\n",
    "\n",
    "| Preference Dynamics | Sensitive to changes in user preferences | More robust to preference shifts |\n",
    "\n",
    "**Choice of Method:**\n",
    "\n",
    "The best choice depends on the specific dataset and application:\n",
    "\n",
    "- UBCF might be preferred when user preferences are complex and the user base is relatively small.\n",
    "\n",
    "- IBCF is often more suitable for large datasets and when item similarities are more stable.\n",
    "\n",
    "In practice, hybrid approaches combining both UBCF and IBCF can be very effective.\n",
    "\n",
    "\n"
   ]
  },
  {
   "cell_type": "markdown",
   "id": "490b0a6a-19c3-4b7c-9b63-fd23eeb4ebe7",
   "metadata": {},
   "source": [
    "# 2.What is collaborative filtering, and how does it work?"
   ]
  },
  {
   "cell_type": "markdown",
   "id": "b4e5ef3c-9107-47ca-9a88-60a34ddfade9",
   "metadata": {},
   "source": [
    "Collaborative Filtering: A Recommendation Technique\n",
    "\n",
    "Collaborative filtering (CF) is a powerful recommendation technique that leverages the collective behavior of users to predict items a particular user might like. It works on the principle that users who have agreed in the past (e.g., by liking or rating similar items) are likely to agree in the future.\n",
    "\n",
    "**Key Concepts:**\n",
    "\n",
    "- **User-Item Interactions:** CF relies on a dataset of user-item interactions, such as ratings, purchases, or clicks. This data captures the preferences of users for different items.\n",
    "    \n",
    "- **Similarity:** CF algorithms compute similarity scores between users or items based on their interaction patterns.\n",
    "    \n",
    "- **Prediction:** Using these similarity scores, CF predicts the likelihood of a user liking or interacting with an item they haven't encountered before.\n",
    "\n",
    "**How It Works (General Steps):**\n",
    "\n",
    "1. **Data Collection:** Gather user-item interaction data (e.g., ratings, purchases, clicks).\n",
    "    \n",
    "2. **Similarity Calculation:** Calculate similarity scores between users (user-based CF) or items (item-based CF).\n",
    "    \n",
    "3. **Prediction Generation:** For a given user, predict their preference for unrated items based on the preferences of similar users or based on their own ratings of similar items.\n",
    "    \n",
    "4. **Recommendation:** Present the top-predicted items to the user as recommendations.\n",
    "\n",
    "**Types of Collaborative Filtering:**\n",
    "\n",
    "- **Memory-Based (Neighborhood-Based):** These methods directly use the observed ratings in the user-item interaction matrix to compute similarity and make predictions.\n",
    "                                                             \n",
    "    - **User-Based CF:** Finds users similar to the target user and recommends items they liked.\n",
    "                                                             \n",
    "    - **Item-Based CF:** Finds items similar to those the target user liked and recommends those.\n",
    "    \n",
    "- **Model-Based:** These methods build a model of user preferences and item characteristics from the interaction data. Examples include matrix factorization, latent factor models, and deep learning approaches.\n",
    "\n",
    "**Advantages:**\n",
    "\n",
    "- **Personalization:** Provides tailored recommendations based on individual preferences.\n",
    "\n",
    "- **Scalability:** Can handle large datasets with millions of users and items.\n",
    "\n",
    "- **Serendipity:** Can uncover unexpected and relevant recommendations.\n",
    "\n",
    "**Challenges:**\n",
    "\n",
    "- **Cold Start:** Difficulty recommending for new users or items with limited interaction data.\n",
    "    \n",
    "- **Data Sparsity:** Many user-item interactions are missing, leading to incomplete preference information.\n",
    "    \n",
    "- **Scalability:** Computational complexity can become a bottleneck for very large datasets.\n",
    "\n",
    "**Applications:**\n",
    "\n",
    "Collaborative filtering is widely used in various domains, including:\n",
    "\n",
    "- **E-commerce:** Product recommendations (Amazon, Netflix).\n",
    "    \n",
    "- **Music Streaming:** Song and playlist recommendations (Spotify, Apple Music).\n",
    "    \n",
    "- **News and Content:** Personalized content feeds (Facebook, Twitter).\n",
    "    \n",
    "- **Social Networks:** Friend and connection suggestions (LinkedIn, Facebook).\n",
    "\n"
   ]
  }
 ],
 "metadata": {
  "kernelspec": {
   "display_name": "Python 3 (ipykernel)",
   "language": "python",
   "name": "python3"
  },
  "language_info": {
   "codemirror_mode": {
    "name": "ipython",
    "version": 3
   },
   "file_extension": ".py",
   "mimetype": "text/x-python",
   "name": "python",
   "nbconvert_exporter": "python",
   "pygments_lexer": "ipython3",
   "version": "3.11.7"
  }
 },
 "nbformat": 4,
 "nbformat_minor": 5
}
