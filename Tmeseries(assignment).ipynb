{
 "cells": [
  {
   "cell_type": "markdown",
   "id": "d1e93448-ad43-4f78-9ca4-f0ce56ae4884",
   "metadata": {},
   "source": [
    "# Timeseries"
   ]
  },
  {
   "cell_type": "markdown",
   "id": "484339e2-2bf5-419e-8cf8-6dd456b889ab",
   "metadata": {},
   "source": [
    "# FORECASTING EXCHANGE RATES USING TIME SERIES ANALYSIS"
   ]
  },
  {
   "cell_type": "markdown",
   "id": "b782662f-d0f4-4ed7-bf72-c936f404be02",
   "metadata": {},
   "source": [
    "Objective:\n",
    "\n",
    "Leverage ARIMA and Exponential Smoothing techniques to forecast future exchange rates based on historical data provided in the exchange_rate.csv dataset. \n",
    "\n",
    "Dataset:\n",
    "\n",
    "The dataset contains historical exchange rate with each column representing a different currency rate over time. The first column indicates the date, and second column represent exchange rates USD to Australian Dollar.\n",
    "\n",
    "Part 1: Data Preparation and Exploration\n",
    "\n",
    "1.\tData Loading: Load the exchange_rate.csv dataset and parse the date column appropriately.\n",
    "\n",
    "2.\tInitial Exploration: Plot the time series for currency to understand their trends, seasonality, and any anomalies.\n",
    "                                             \n",
    "3.\tData Preprocessing: Handle any missing values or anomalies identified during the exploration phase.\n",
    "                                             \n",
    "Part 2: Model Building - ARIMA\n",
    "                                             \n",
    "1.\tParameter Selection for ARIMA: Utilize ACF and PACF plots to estimate initial parameters (p, d, q) for the ARIMA model for one or more currency time series.\n",
    "                                             \n",
    "2.\tModel Fitting: Fit the ARIMA model with the selected parameters to the preprocessed time series.\n",
    "                                             \n",
    "3.\tDiagnostics: Analyze the residuals to ensure there are no patterns that might indicate model inadequacies.\n",
    "                                             \n",
    "4.\tForecasting: Perform out-of-sample forecasting and visualize the predicted values against the actual values.\n",
    "                                             \n",
    "Part 3: Model Building - Exponential Smoothing\n",
    "                                             \n",
    "1.\tModel Selection: Depending on the time series characteristics, choose an appropriate Exponential Smoothing model (Simple, Holt’s Linear, or Holt-Winters).\n",
    "\n",
    "2.\tParameter Optimization: Use techniques such as grid search or AIC to find the optimal parameters for the smoothing levels and components.\n",
    "\n",
    "3.\tModel Fitting and Forecasting: Fit the chosen Exponential Smoothing model and forecast future values. Compare these forecasts visually with the actual data.\n",
    "    \n",
    "Part 4: Evaluation and Comparison\n",
    "\n",
    "1.\tCompute Error Metrics: Use metrics such as MAE, RMSE, and MAPE to evaluate the forecasts from both models.\n",
    "\n",
    "2.\tModel Comparison: Discuss the performance, advantages, and limitations of each model based on the observed results and error metrics.\n",
    "\n",
    "3.\tConclusion: Summarize the findings and provide insights on which model(s) yielded the best performance for forecasting exchange rates in this dataset.\n",
    "\n",
    "Deliverables:\n",
    "\n",
    "•\tInclude visualizations and explanations for the choices and findings at each step.\n",
    "    \n",
    "•\tWell-commented Python code that used to conduct the analysis and build the models.\n",
    "    \n",
    "Assessment Criteria:\n",
    "\n",
    "•\tAccuracy and completeness of the data preparation and exploration steps.\n",
    "    \n",
    "•\tJustification for model selection and parameter tuning decisions.\n",
    "    \n",
    "•\tClarity and depth of the analysis in the diagnostics and model evaluation stages.\n",
    "    \n",
    "This assignment offers a hands-on experience with real-world data, applying sophisticated time series forecasting methods to predict future currency exchange rates.\n",
    "\n"
   ]
  },
  {
   "cell_type": "markdown",
   "id": "7ddc81a5-8495-41f9-b0a8-4bd1abcfea49",
   "metadata": {},
   "source": [
    "# Part 1: Data Preparation and Exploration"
   ]
  },
  {
   "cell_type": "code",
   "execution_count": 1,
   "id": "d9b29352-fbd3-4c6a-9ae6-7e5be4c28532",
   "metadata": {},
   "outputs": [
    {
     "data": {
      "text/html": [
       "<div>\n",
       "<style scoped>\n",
       "    .dataframe tbody tr th:only-of-type {\n",
       "        vertical-align: middle;\n",
       "    }\n",
       "\n",
       "    .dataframe tbody tr th {\n",
       "        vertical-align: top;\n",
       "    }\n",
       "\n",
       "    .dataframe thead th {\n",
       "        text-align: right;\n",
       "    }\n",
       "</style>\n",
       "<table border=\"1\" class=\"dataframe\">\n",
       "  <thead>\n",
       "    <tr style=\"text-align: right;\">\n",
       "      <th></th>\n",
       "      <th>date</th>\n",
       "      <th>Ex_rate</th>\n",
       "    </tr>\n",
       "  </thead>\n",
       "  <tbody>\n",
       "    <tr>\n",
       "      <th>0</th>\n",
       "      <td>01-01-1990 00:00</td>\n",
       "      <td>0.785500</td>\n",
       "    </tr>\n",
       "    <tr>\n",
       "      <th>1</th>\n",
       "      <td>02-01-1990 00:00</td>\n",
       "      <td>0.781800</td>\n",
       "    </tr>\n",
       "    <tr>\n",
       "      <th>2</th>\n",
       "      <td>03-01-1990 00:00</td>\n",
       "      <td>0.786700</td>\n",
       "    </tr>\n",
       "    <tr>\n",
       "      <th>3</th>\n",
       "      <td>04-01-1990 00:00</td>\n",
       "      <td>0.786000</td>\n",
       "    </tr>\n",
       "    <tr>\n",
       "      <th>4</th>\n",
       "      <td>05-01-1990 00:00</td>\n",
       "      <td>0.784900</td>\n",
       "    </tr>\n",
       "    <tr>\n",
       "      <th>...</th>\n",
       "      <td>...</td>\n",
       "      <td>...</td>\n",
       "    </tr>\n",
       "    <tr>\n",
       "      <th>7583</th>\n",
       "      <td>06-10-2010 00:00</td>\n",
       "      <td>0.718494</td>\n",
       "    </tr>\n",
       "    <tr>\n",
       "      <th>7584</th>\n",
       "      <td>07-10-2010 00:00</td>\n",
       "      <td>0.721839</td>\n",
       "    </tr>\n",
       "    <tr>\n",
       "      <th>7585</th>\n",
       "      <td>08-10-2010 00:00</td>\n",
       "      <td>0.723197</td>\n",
       "    </tr>\n",
       "    <tr>\n",
       "      <th>7586</th>\n",
       "      <td>09-10-2010 00:00</td>\n",
       "      <td>0.720825</td>\n",
       "    </tr>\n",
       "    <tr>\n",
       "      <th>7587</th>\n",
       "      <td>10-10-2010 00:00</td>\n",
       "      <td>0.720825</td>\n",
       "    </tr>\n",
       "  </tbody>\n",
       "</table>\n",
       "<p>7588 rows × 2 columns</p>\n",
       "</div>"
      ],
      "text/plain": [
       "                  date   Ex_rate\n",
       "0     01-01-1990 00:00  0.785500\n",
       "1     02-01-1990 00:00  0.781800\n",
       "2     03-01-1990 00:00  0.786700\n",
       "3     04-01-1990 00:00  0.786000\n",
       "4     05-01-1990 00:00  0.784900\n",
       "...                ...       ...\n",
       "7583  06-10-2010 00:00  0.718494\n",
       "7584  07-10-2010 00:00  0.721839\n",
       "7585  08-10-2010 00:00  0.723197\n",
       "7586  09-10-2010 00:00  0.720825\n",
       "7587  10-10-2010 00:00  0.720825\n",
       "\n",
       "[7588 rows x 2 columns]"
      ]
     },
     "execution_count": 1,
     "metadata": {},
     "output_type": "execute_result"
    }
   ],
   "source": [
    "import pandas as pd\n",
    "rates=pd.read_csv(\"C:\\DS assignments\\exchange_rate.csv\")\n",
    "rates"
   ]
  },
  {
   "cell_type": "code",
   "execution_count": 2,
   "id": "856500e8-bf1e-473d-9989-62cab437ada8",
   "metadata": {},
   "outputs": [
    {
     "data": {
      "text/html": [
       "<div>\n",
       "<style scoped>\n",
       "    .dataframe tbody tr th:only-of-type {\n",
       "        vertical-align: middle;\n",
       "    }\n",
       "\n",
       "    .dataframe tbody tr th {\n",
       "        vertical-align: top;\n",
       "    }\n",
       "\n",
       "    .dataframe thead th {\n",
       "        text-align: right;\n",
       "    }\n",
       "</style>\n",
       "<table border=\"1\" class=\"dataframe\">\n",
       "  <thead>\n",
       "    <tr style=\"text-align: right;\">\n",
       "      <th></th>\n",
       "      <th>date</th>\n",
       "      <th>Ex_rate</th>\n",
       "      <th>Month</th>\n",
       "    </tr>\n",
       "  </thead>\n",
       "  <tbody>\n",
       "    <tr>\n",
       "      <th>0</th>\n",
       "      <td>01-01-1990 00:00</td>\n",
       "      <td>0.785500</td>\n",
       "      <td>1</td>\n",
       "    </tr>\n",
       "    <tr>\n",
       "      <th>1</th>\n",
       "      <td>02-01-1990 00:00</td>\n",
       "      <td>0.781800</td>\n",
       "      <td>1</td>\n",
       "    </tr>\n",
       "    <tr>\n",
       "      <th>2</th>\n",
       "      <td>03-01-1990 00:00</td>\n",
       "      <td>0.786700</td>\n",
       "      <td>1</td>\n",
       "    </tr>\n",
       "    <tr>\n",
       "      <th>3</th>\n",
       "      <td>04-01-1990 00:00</td>\n",
       "      <td>0.786000</td>\n",
       "      <td>1</td>\n",
       "    </tr>\n",
       "    <tr>\n",
       "      <th>4</th>\n",
       "      <td>05-01-1990 00:00</td>\n",
       "      <td>0.784900</td>\n",
       "      <td>1</td>\n",
       "    </tr>\n",
       "    <tr>\n",
       "      <th>...</th>\n",
       "      <td>...</td>\n",
       "      <td>...</td>\n",
       "      <td>...</td>\n",
       "    </tr>\n",
       "    <tr>\n",
       "      <th>7583</th>\n",
       "      <td>06-10-2010 00:00</td>\n",
       "      <td>0.718494</td>\n",
       "      <td>10</td>\n",
       "    </tr>\n",
       "    <tr>\n",
       "      <th>7584</th>\n",
       "      <td>07-10-2010 00:00</td>\n",
       "      <td>0.721839</td>\n",
       "      <td>10</td>\n",
       "    </tr>\n",
       "    <tr>\n",
       "      <th>7585</th>\n",
       "      <td>08-10-2010 00:00</td>\n",
       "      <td>0.723197</td>\n",
       "      <td>10</td>\n",
       "    </tr>\n",
       "    <tr>\n",
       "      <th>7586</th>\n",
       "      <td>09-10-2010 00:00</td>\n",
       "      <td>0.720825</td>\n",
       "      <td>10</td>\n",
       "    </tr>\n",
       "    <tr>\n",
       "      <th>7587</th>\n",
       "      <td>10-10-2010 00:00</td>\n",
       "      <td>0.720825</td>\n",
       "      <td>10</td>\n",
       "    </tr>\n",
       "  </tbody>\n",
       "</table>\n",
       "<p>7588 rows × 3 columns</p>\n",
       "</div>"
      ],
      "text/plain": [
       "                  date   Ex_rate  Month\n",
       "0     01-01-1990 00:00  0.785500      1\n",
       "1     02-01-1990 00:00  0.781800      1\n",
       "2     03-01-1990 00:00  0.786700      1\n",
       "3     04-01-1990 00:00  0.786000      1\n",
       "4     05-01-1990 00:00  0.784900      1\n",
       "...                ...       ...    ...\n",
       "7583  06-10-2010 00:00  0.718494     10\n",
       "7584  07-10-2010 00:00  0.721839     10\n",
       "7585  08-10-2010 00:00  0.723197     10\n",
       "7586  09-10-2010 00:00  0.720825     10\n",
       "7587  10-10-2010 00:00  0.720825     10\n",
       "\n",
       "[7588 rows x 3 columns]"
      ]
     },
     "execution_count": 2,
     "metadata": {},
     "output_type": "execute_result"
    }
   ],
   "source": [
    "import pandas as pd\n",
    "rates=pd.read_csv(\"C:\\DS assignments\\exchange_rate.csv\")\n",
    "rates['Month'] = pd.to_datetime(rates['date'], format='%d-%m-%Y %H:%M').dt.month # Specify the correct format for the date column\n",
    "rates"
   ]
  },
  {
   "cell_type": "code",
   "execution_count": 3,
   "id": "e0aaa591-3278-48bf-ac41-f467338ba13f",
   "metadata": {},
   "outputs": [
    {
     "data": {
      "text/html": [
       "<div>\n",
       "<style scoped>\n",
       "    .dataframe tbody tr th:only-of-type {\n",
       "        vertical-align: middle;\n",
       "    }\n",
       "\n",
       "    .dataframe tbody tr th {\n",
       "        vertical-align: top;\n",
       "    }\n",
       "\n",
       "    .dataframe thead th {\n",
       "        text-align: right;\n",
       "    }\n",
       "</style>\n",
       "<table border=\"1\" class=\"dataframe\">\n",
       "  <thead>\n",
       "    <tr style=\"text-align: right;\">\n",
       "      <th></th>\n",
       "      <th>date</th>\n",
       "      <th>Ex_rate</th>\n",
       "      <th>Month</th>\n",
       "      <th>Year</th>\n",
       "    </tr>\n",
       "  </thead>\n",
       "  <tbody>\n",
       "    <tr>\n",
       "      <th>0</th>\n",
       "      <td>01-01-1990 00:00</td>\n",
       "      <td>0.785500</td>\n",
       "      <td>1</td>\n",
       "      <td>1990</td>\n",
       "    </tr>\n",
       "    <tr>\n",
       "      <th>1</th>\n",
       "      <td>02-01-1990 00:00</td>\n",
       "      <td>0.781800</td>\n",
       "      <td>1</td>\n",
       "      <td>1990</td>\n",
       "    </tr>\n",
       "    <tr>\n",
       "      <th>2</th>\n",
       "      <td>03-01-1990 00:00</td>\n",
       "      <td>0.786700</td>\n",
       "      <td>1</td>\n",
       "      <td>1990</td>\n",
       "    </tr>\n",
       "    <tr>\n",
       "      <th>3</th>\n",
       "      <td>04-01-1990 00:00</td>\n",
       "      <td>0.786000</td>\n",
       "      <td>1</td>\n",
       "      <td>1990</td>\n",
       "    </tr>\n",
       "    <tr>\n",
       "      <th>4</th>\n",
       "      <td>05-01-1990 00:00</td>\n",
       "      <td>0.784900</td>\n",
       "      <td>1</td>\n",
       "      <td>1990</td>\n",
       "    </tr>\n",
       "    <tr>\n",
       "      <th>...</th>\n",
       "      <td>...</td>\n",
       "      <td>...</td>\n",
       "      <td>...</td>\n",
       "      <td>...</td>\n",
       "    </tr>\n",
       "    <tr>\n",
       "      <th>7583</th>\n",
       "      <td>06-10-2010 00:00</td>\n",
       "      <td>0.718494</td>\n",
       "      <td>10</td>\n",
       "      <td>2010</td>\n",
       "    </tr>\n",
       "    <tr>\n",
       "      <th>7584</th>\n",
       "      <td>07-10-2010 00:00</td>\n",
       "      <td>0.721839</td>\n",
       "      <td>10</td>\n",
       "      <td>2010</td>\n",
       "    </tr>\n",
       "    <tr>\n",
       "      <th>7585</th>\n",
       "      <td>08-10-2010 00:00</td>\n",
       "      <td>0.723197</td>\n",
       "      <td>10</td>\n",
       "      <td>2010</td>\n",
       "    </tr>\n",
       "    <tr>\n",
       "      <th>7586</th>\n",
       "      <td>09-10-2010 00:00</td>\n",
       "      <td>0.720825</td>\n",
       "      <td>10</td>\n",
       "      <td>2010</td>\n",
       "    </tr>\n",
       "    <tr>\n",
       "      <th>7587</th>\n",
       "      <td>10-10-2010 00:00</td>\n",
       "      <td>0.720825</td>\n",
       "      <td>10</td>\n",
       "      <td>2010</td>\n",
       "    </tr>\n",
       "  </tbody>\n",
       "</table>\n",
       "<p>7588 rows × 4 columns</p>\n",
       "</div>"
      ],
      "text/plain": [
       "                  date   Ex_rate  Month  Year\n",
       "0     01-01-1990 00:00  0.785500      1  1990\n",
       "1     02-01-1990 00:00  0.781800      1  1990\n",
       "2     03-01-1990 00:00  0.786700      1  1990\n",
       "3     04-01-1990 00:00  0.786000      1  1990\n",
       "4     05-01-1990 00:00  0.784900      1  1990\n",
       "...                ...       ...    ...   ...\n",
       "7583  06-10-2010 00:00  0.718494     10  2010\n",
       "7584  07-10-2010 00:00  0.721839     10  2010\n",
       "7585  08-10-2010 00:00  0.723197     10  2010\n",
       "7586  09-10-2010 00:00  0.720825     10  2010\n",
       "7587  10-10-2010 00:00  0.720825     10  2010\n",
       "\n",
       "[7588 rows x 4 columns]"
      ]
     },
     "execution_count": 3,
     "metadata": {},
     "output_type": "execute_result"
    }
   ],
   "source": [
    "rates['Year'] = pd.to_datetime(rates['date'], format='%d-%m-%Y %H:%M').dt.year\n",
    "rates\n"
   ]
  },
  {
   "cell_type": "code",
   "execution_count": 37,
   "id": "eecc91b3-3add-4751-a23e-8d65d58fcaff",
   "metadata": {},
   "outputs": [
    {
     "data": {
      "text/plain": [
       "count    7588.000000\n",
       "mean        0.776974\n",
       "std         0.136620\n",
       "min         0.483297\n",
       "25%         0.701422\n",
       "50%         0.761377\n",
       "75%         0.873477\n",
       "max         1.102536\n",
       "Name: Ex_rate, dtype: float64"
      ]
     },
     "execution_count": 37,
     "metadata": {},
     "output_type": "execute_result"
    }
   ],
   "source": [
    "rates[\"Ex_rate\"].describe()"
   ]
  },
  {
   "cell_type": "markdown",
   "id": "1d3a7586-f603-42cf-ac0d-e322ecb98a96",
   "metadata": {},
   "source": [
    "# heatmap"
   ]
  },
  {
   "cell_type": "code",
   "execution_count": 4,
   "id": "6a25c89f-d103-4a5c-8ce9-b2e4edf11715",
   "metadata": {},
   "outputs": [
    {
     "data": {
      "text/plain": [
       "<Axes: xlabel='Month', ylabel='Year'>"
      ]
     },
     "execution_count": 4,
     "metadata": {},
     "output_type": "execute_result"
    },
    {
     "data": {
      "image/png": "[encoded data removed]",
      "text/plain": [
       "<Figure size 1000x600 with 2 Axes>"
      ]
     },
     "metadata": {},
     "output_type": "display_data"
    }
   ],
   "source": [
    "heatmap_y_month = pd.pivot_table(data=rates,values=\"Ex_rate\",index=\"Year\",columns=\"Month\",fill_value=0)\n",
    "heatmap_y_month\n",
    "import matplotlib.pyplot as plt\n",
    "import seaborn as sns\n",
    "plt.figure(figsize=(10,6))\n",
    "sns.heatmap(heatmap_y_month,annot=True,fmt=\"g\")"
   ]
  },
  {
   "cell_type": "markdown",
   "id": "2f3256d4-fc19-45ef-a247-4f7eb6292c65",
   "metadata": {},
   "source": [
    "# Boxplot for month wise"
   ]
  },
  {
   "cell_type": "code",
   "execution_count": 5,
   "id": "9247fa6d-477c-46d4-af47-c1fe65ac25b6",
   "metadata": {},
   "outputs": [
    {
     "data": {
      "text/plain": [
       "<Axes: xlabel='Month', ylabel='Ex_rate'>"
      ]
     },
     "execution_count": 5,
     "metadata": {},
     "output_type": "execute_result"
    },
    {
     "data": {
      "image/png": "[encoded data removed]",
      "text/plain": [
       "<Figure size 1200x800 with 1 Axes>"
      ]
     },
     "metadata": {},
     "output_type": "display_data"
    }
   ],
   "source": [
    "# Boxplot for every month\n",
    "plt.figure(figsize=(12,8))\n",
    "sns.boxplot(x=\"Month\",y=\"Ex_rate\",data=rates)\n"
   ]
  },
  {
   "cell_type": "markdown",
   "id": "4b0d9134-cac0-4909-b019-ff44b5ebd080",
   "metadata": {},
   "source": [
    "# -insights"
   ]
  },
  {
   "cell_type": "markdown",
   "id": "d0c2a111-00be-45fe-83aa-f6fea6ab9bef",
   "metadata": {},
   "source": [
    "- in month of jan ,feb and sep outliers are present\n",
    "- that means in that months rates going high or low\n",
    "- in month of may rates are low\n",
    "-in month of nov rates are high "
   ]
  },
  {
   "cell_type": "markdown",
   "id": "9a5e8d2e-9324-464c-9f27-57243a992aaf",
   "metadata": {},
   "source": [
    "# boxplot for year wise"
   ]
  },
  {
   "cell_type": "code",
   "execution_count": 6,
   "id": "71a3e5e0-a495-4b75-83db-73c619dca25d",
   "metadata": {},
   "outputs": [
    {
     "data": {
      "text/plain": [
       "<Axes: xlabel='Year', ylabel='Ex_rate'>"
      ]
     },
     "execution_count": 6,
     "metadata": {},
     "output_type": "execute_result"
    },
    {
     "data": {
      "image/png": "[encoded data removed]",
      "text/plain": [
       "<Figure size 1200x800 with 1 Axes>"
      ]
     },
     "metadata": {},
     "output_type": "display_data"
    }
   ],
   "source": [
    "# Boxplot for every year\n",
    "plt.figure(figsize=(12,8))\n",
    "sns.boxplot(x=\"Year\",y=\"Ex_rate\",data=rates)\n"
   ]
  },
  {
   "cell_type": "markdown",
   "id": "cc43748b-d6d9-438d-91cd-e3910bbcf5ff",
   "metadata": {},
   "source": [
    "# -insights"
   ]
  },
  {
   "cell_type": "markdown",
   "id": "4086efc1-4696-4be4-8177-672305dcdb09",
   "metadata": {},
   "source": [
    "- year 1990,1991,93,94,96,98,2004,2006,2007 have outliers\n",
    "- in the year of 2006 rates are very high\n",
    "- in the year of 1997 rates are very low"
   ]
  },
  {
   "cell_type": "markdown",
   "id": "ce599d70-8f93-423e-8ba2-785411d130e6",
   "metadata": {},
   "source": [
    "# Line plot"
   ]
  },
  {
   "cell_type": "code",
   "execution_count": 7,
   "id": "b493ab9c-192d-4c42-9774-68900098e568",
   "metadata": {},
   "outputs": [
    {
     "name": "stderr",
     "output_type": "stream",
     "text": [
      "C:\\Users\\Abhinay\\anaconda\\Lib\\site-packages\\seaborn\\_oldcore.py:1119: FutureWarning: use_inf_as_na option is deprecated and will be removed in a future version. Convert inf values to NaN before operating instead.\n",
      "  with pd.option_context('mode.use_inf_as_na', True):\n",
      "C:\\Users\\Abhinay\\anaconda\\Lib\\site-packages\\seaborn\\_oldcore.py:1119: FutureWarning: use_inf_as_na option is deprecated and will be removed in a future version. Convert inf values to NaN before operating instead.\n",
      "  with pd.option_context('mode.use_inf_as_na', True):\n"
     ]
    },
    {
     "data": {
      "text/plain": [
       "<Axes: xlabel='Year', ylabel='Ex_rate'>"
      ]
     },
     "execution_count": 7,
     "metadata": {},
     "output_type": "execute_result"
    },
    {
     "data": {
      "image/png": "[encoded data removed]",
      "text/plain": [
       "<Figure size 1200x300 with 1 Axes>"
      ]
     },
     "metadata": {},
     "output_type": "display_data"
    }
   ],
   "source": [
    "# line plot for every year\n",
    "plt.figure(figsize=(12,3))\n",
    "sns.lineplot(x=\"Year\",y=\"Ex_rate\",data=rates)\n"
   ]
  },
  {
   "cell_type": "markdown",
   "id": "9f6bb965-c170-4e9c-8946-e7863ccb947f",
   "metadata": {},
   "source": [
    "# ACF"
   ]
  },
  {
   "cell_type": "code",
   "execution_count": 8,
   "id": "24dc6f72-92a9-4337-a14a-8927be985c73",
   "metadata": {},
   "outputs": [
    {
     "data": {
      "text/plain": [
       "<Figure size 1200x600 with 0 Axes>"
      ]
     },
     "metadata": {},
     "output_type": "display_data"
    },
    {
     "data": {
      "image/png": "[encoded data removed]",
      "text/plain": [
       "<Figure size 640x480 with 1 Axes>"
      ]
     },
     "metadata": {},
     "output_type": "display_data"
    }
   ],
   "source": [
    "#make a autocorrelation(ACF) plot\n",
    "\n",
    "from statsmodels.graphics.tsaplots import plot_acf\n",
    "# Assuming 'Ex_rate' is the time series data you want to analyze\n",
    "plt.figure(figsize=(12, 6))\n",
    "plot_acf(rates['Ex_rate'], lags=200)  # Adjust 'lags' as needed\n",
    "plt.xlabel('Lag')\n",
    "plt.ylabel('Autocorrelation')\n",
    "plt.title('Autocorrelation Function (ACF)')\n",
    "plt.show()"
   ]
  },
  {
   "cell_type": "markdown",
   "id": "03cb63d7-aff9-477b-8d13-d1e55ad05bfe",
   "metadata": {},
   "source": [
    "# Part 2: Model Building - ARIMA"
   ]
  },
  {
   "cell_type": "code",
   "execution_count": 9,
   "id": "0b00c402-a6c8-4aa6-8391-3c2855890ef4",
   "metadata": {},
   "outputs": [
    {
     "data": {
      "text/html": [
       "<div>\n",
       "<style scoped>\n",
       "    .dataframe tbody tr th:only-of-type {\n",
       "        vertical-align: middle;\n",
       "    }\n",
       "\n",
       "    .dataframe tbody tr th {\n",
       "        vertical-align: top;\n",
       "    }\n",
       "\n",
       "    .dataframe thead th {\n",
       "        text-align: right;\n",
       "    }\n",
       "</style>\n",
       "<table border=\"1\" class=\"dataframe\">\n",
       "  <thead>\n",
       "    <tr style=\"text-align: right;\">\n",
       "      <th></th>\n",
       "      <th>date</th>\n",
       "      <th>Ex_rate</th>\n",
       "      <th>Month</th>\n",
       "      <th>Year</th>\n",
       "      <th>1</th>\n",
       "      <th>2</th>\n",
       "      <th>3</th>\n",
       "      <th>4</th>\n",
       "      <th>5</th>\n",
       "      <th>6</th>\n",
       "      <th>7</th>\n",
       "      <th>8</th>\n",
       "      <th>9</th>\n",
       "      <th>10</th>\n",
       "      <th>11</th>\n",
       "      <th>12</th>\n",
       "      <th>t</th>\n",
       "      <th>t_squared</th>\n",
       "      <th>Log_Ex_rate</th>\n",
       "    </tr>\n",
       "  </thead>\n",
       "  <tbody>\n",
       "    <tr>\n",
       "      <th>0</th>\n",
       "      <td>01-01-1990 00:00</td>\n",
       "      <td>0.785500</td>\n",
       "      <td>1</td>\n",
       "      <td>1990</td>\n",
       "      <td>True</td>\n",
       "      <td>False</td>\n",
       "      <td>False</td>\n",
       "      <td>False</td>\n",
       "      <td>False</td>\n",
       "      <td>False</td>\n",
       "      <td>False</td>\n",
       "      <td>False</td>\n",
       "      <td>False</td>\n",
       "      <td>False</td>\n",
       "      <td>False</td>\n",
       "      <td>False</td>\n",
       "      <td>1</td>\n",
       "      <td>1</td>\n",
       "      <td>-0.241435</td>\n",
       "    </tr>\n",
       "    <tr>\n",
       "      <th>1</th>\n",
       "      <td>02-01-1990 00:00</td>\n",
       "      <td>0.781800</td>\n",
       "      <td>1</td>\n",
       "      <td>1990</td>\n",
       "      <td>True</td>\n",
       "      <td>False</td>\n",
       "      <td>False</td>\n",
       "      <td>False</td>\n",
       "      <td>False</td>\n",
       "      <td>False</td>\n",
       "      <td>False</td>\n",
       "      <td>False</td>\n",
       "      <td>False</td>\n",
       "      <td>False</td>\n",
       "      <td>False</td>\n",
       "      <td>False</td>\n",
       "      <td>2</td>\n",
       "      <td>4</td>\n",
       "      <td>-0.246156</td>\n",
       "    </tr>\n",
       "    <tr>\n",
       "      <th>2</th>\n",
       "      <td>03-01-1990 00:00</td>\n",
       "      <td>0.786700</td>\n",
       "      <td>1</td>\n",
       "      <td>1990</td>\n",
       "      <td>True</td>\n",
       "      <td>False</td>\n",
       "      <td>False</td>\n",
       "      <td>False</td>\n",
       "      <td>False</td>\n",
       "      <td>False</td>\n",
       "      <td>False</td>\n",
       "      <td>False</td>\n",
       "      <td>False</td>\n",
       "      <td>False</td>\n",
       "      <td>False</td>\n",
       "      <td>False</td>\n",
       "      <td>3</td>\n",
       "      <td>9</td>\n",
       "      <td>-0.239908</td>\n",
       "    </tr>\n",
       "    <tr>\n",
       "      <th>3</th>\n",
       "      <td>04-01-1990 00:00</td>\n",
       "      <td>0.786000</td>\n",
       "      <td>1</td>\n",
       "      <td>1990</td>\n",
       "      <td>True</td>\n",
       "      <td>False</td>\n",
       "      <td>False</td>\n",
       "      <td>False</td>\n",
       "      <td>False</td>\n",
       "      <td>False</td>\n",
       "      <td>False</td>\n",
       "      <td>False</td>\n",
       "      <td>False</td>\n",
       "      <td>False</td>\n",
       "      <td>False</td>\n",
       "      <td>False</td>\n",
       "      <td>4</td>\n",
       "      <td>16</td>\n",
       "      <td>-0.240798</td>\n",
       "    </tr>\n",
       "    <tr>\n",
       "      <th>4</th>\n",
       "      <td>05-01-1990 00:00</td>\n",
       "      <td>0.784900</td>\n",
       "      <td>1</td>\n",
       "      <td>1990</td>\n",
       "      <td>True</td>\n",
       "      <td>False</td>\n",
       "      <td>False</td>\n",
       "      <td>False</td>\n",
       "      <td>False</td>\n",
       "      <td>False</td>\n",
       "      <td>False</td>\n",
       "      <td>False</td>\n",
       "      <td>False</td>\n",
       "      <td>False</td>\n",
       "      <td>False</td>\n",
       "      <td>False</td>\n",
       "      <td>5</td>\n",
       "      <td>25</td>\n",
       "      <td>-0.242199</td>\n",
       "    </tr>\n",
       "    <tr>\n",
       "      <th>...</th>\n",
       "      <td>...</td>\n",
       "      <td>...</td>\n",
       "      <td>...</td>\n",
       "      <td>...</td>\n",
       "      <td>...</td>\n",
       "      <td>...</td>\n",
       "      <td>...</td>\n",
       "      <td>...</td>\n",
       "      <td>...</td>\n",
       "      <td>...</td>\n",
       "      <td>...</td>\n",
       "      <td>...</td>\n",
       "      <td>...</td>\n",
       "      <td>...</td>\n",
       "      <td>...</td>\n",
       "      <td>...</td>\n",
       "      <td>...</td>\n",
       "      <td>...</td>\n",
       "      <td>...</td>\n",
       "    </tr>\n",
       "    <tr>\n",
       "      <th>7583</th>\n",
       "      <td>06-10-2010 00:00</td>\n",
       "      <td>0.718494</td>\n",
       "      <td>10</td>\n",
       "      <td>2010</td>\n",
       "      <td>False</td>\n",
       "      <td>False</td>\n",
       "      <td>False</td>\n",
       "      <td>False</td>\n",
       "      <td>False</td>\n",
       "      <td>False</td>\n",
       "      <td>False</td>\n",
       "      <td>False</td>\n",
       "      <td>False</td>\n",
       "      <td>True</td>\n",
       "      <td>False</td>\n",
       "      <td>False</td>\n",
       "      <td>7584</td>\n",
       "      <td>57517056</td>\n",
       "      <td>-0.330598</td>\n",
       "    </tr>\n",
       "    <tr>\n",
       "      <th>7584</th>\n",
       "      <td>07-10-2010 00:00</td>\n",
       "      <td>0.721839</td>\n",
       "      <td>10</td>\n",
       "      <td>2010</td>\n",
       "      <td>False</td>\n",
       "      <td>False</td>\n",
       "      <td>False</td>\n",
       "      <td>False</td>\n",
       "      <td>False</td>\n",
       "      <td>False</td>\n",
       "      <td>False</td>\n",
       "      <td>False</td>\n",
       "      <td>False</td>\n",
       "      <td>True</td>\n",
       "      <td>False</td>\n",
       "      <td>False</td>\n",
       "      <td>7585</td>\n",
       "      <td>57532225</td>\n",
       "      <td>-0.325953</td>\n",
       "    </tr>\n",
       "    <tr>\n",
       "      <th>7585</th>\n",
       "      <td>08-10-2010 00:00</td>\n",
       "      <td>0.723197</td>\n",
       "      <td>10</td>\n",
       "      <td>2010</td>\n",
       "      <td>False</td>\n",
       "      <td>False</td>\n",
       "      <td>False</td>\n",
       "      <td>False</td>\n",
       "      <td>False</td>\n",
       "      <td>False</td>\n",
       "      <td>False</td>\n",
       "      <td>False</td>\n",
       "      <td>False</td>\n",
       "      <td>True</td>\n",
       "      <td>False</td>\n",
       "      <td>False</td>\n",
       "      <td>7586</td>\n",
       "      <td>57547396</td>\n",
       "      <td>-0.324074</td>\n",
       "    </tr>\n",
       "    <tr>\n",
       "      <th>7586</th>\n",
       "      <td>09-10-2010 00:00</td>\n",
       "      <td>0.720825</td>\n",
       "      <td>10</td>\n",
       "      <td>2010</td>\n",
       "      <td>False</td>\n",
       "      <td>False</td>\n",
       "      <td>False</td>\n",
       "      <td>False</td>\n",
       "      <td>False</td>\n",
       "      <td>False</td>\n",
       "      <td>False</td>\n",
       "      <td>False</td>\n",
       "      <td>False</td>\n",
       "      <td>True</td>\n",
       "      <td>False</td>\n",
       "      <td>False</td>\n",
       "      <td>7587</td>\n",
       "      <td>57562569</td>\n",
       "      <td>-0.327359</td>\n",
       "    </tr>\n",
       "    <tr>\n",
       "      <th>7587</th>\n",
       "      <td>10-10-2010 00:00</td>\n",
       "      <td>0.720825</td>\n",
       "      <td>10</td>\n",
       "      <td>2010</td>\n",
       "      <td>False</td>\n",
       "      <td>False</td>\n",
       "      <td>False</td>\n",
       "      <td>False</td>\n",
       "      <td>False</td>\n",
       "      <td>False</td>\n",
       "      <td>False</td>\n",
       "      <td>False</td>\n",
       "      <td>False</td>\n",
       "      <td>True</td>\n",
       "      <td>False</td>\n",
       "      <td>False</td>\n",
       "      <td>7588</td>\n",
       "      <td>57577744</td>\n",
       "      <td>-0.327359</td>\n",
       "    </tr>\n",
       "  </tbody>\n",
       "</table>\n",
       "<p>7588 rows × 19 columns</p>\n",
       "</div>"
      ],
      "text/plain": [
       "                  date   Ex_rate  Month  Year      1      2      3      4  \\\n",
       "0     01-01-1990 00:00  0.785500      1  1990   True  False  False  False   \n",
       "1     02-01-1990 00:00  0.781800      1  1990   True  False  False  False   \n",
       "2     03-01-1990 00:00  0.786700      1  1990   True  False  False  False   \n",
       "3     04-01-1990 00:00  0.786000      1  1990   True  False  False  False   \n",
       "4     05-01-1990 00:00  0.784900      1  1990   True  False  False  False   \n",
       "...                ...       ...    ...   ...    ...    ...    ...    ...   \n",
       "7583  06-10-2010 00:00  0.718494     10  2010  False  False  False  False   \n",
       "7584  07-10-2010 00:00  0.721839     10  2010  False  False  False  False   \n",
       "7585  08-10-2010 00:00  0.723197     10  2010  False  False  False  False   \n",
       "7586  09-10-2010 00:00  0.720825     10  2010  False  False  False  False   \n",
       "7587  10-10-2010 00:00  0.720825     10  2010  False  False  False  False   \n",
       "\n",
       "          5      6      7      8      9     10     11     12     t  t_squared  \\\n",
       "0     False  False  False  False  False  False  False  False     1          1   \n",
       "1     False  False  False  False  False  False  False  False     2          4   \n",
       "2     False  False  False  False  False  False  False  False     3          9   \n",
       "3     False  False  False  False  False  False  False  False     4         16   \n",
       "4     False  False  False  False  False  False  False  False     5         25   \n",
       "...     ...    ...    ...    ...    ...    ...    ...    ...   ...        ...   \n",
       "7583  False  False  False  False  False   True  False  False  7584   57517056   \n",
       "7584  False  False  False  False  False   True  False  False  7585   57532225   \n",
       "7585  False  False  False  False  False   True  False  False  7586   57547396   \n",
       "7586  False  False  False  False  False   True  False  False  7587   57562569   \n",
       "7587  False  False  False  False  False   True  False  False  7588   57577744   \n",
       "\n",
       "      Log_Ex_rate  \n",
       "0       -0.241435  \n",
       "1       -0.246156  \n",
       "2       -0.239908  \n",
       "3       -0.240798  \n",
       "4       -0.242199  \n",
       "...           ...  \n",
       "7583    -0.330598  \n",
       "7584    -0.325953  \n",
       "7585    -0.324074  \n",
       "7586    -0.327359  \n",
       "7587    -0.327359  \n",
       "\n",
       "[7588 rows x 19 columns]"
      ]
     },
     "execution_count": 9,
     "metadata": {},
     "output_type": "execute_result"
    }
   ],
   "source": [
    "import numpy as np\n",
    "import pandas as pd\n",
    "Month_Dummies = pd.DataFrame(pd.get_dummies(rates['Month']))\n",
    "rates1= pd.concat([rates,Month_Dummies],axis = 1)\n",
    "rates1[\"t\"] = np.arange(1,7589)\n",
    "rates1[\"t_squared\"] = rates1[\"t\"]*rates1[\"t\"]\n",
    "rates1[\"Log_Ex_rate\"] = np.log(rates1[\"Ex_rate\"])\n",
    "rates1"
   ]
  },
  {
   "cell_type": "markdown",
   "id": "cf9292c9-6b85-4910-b57e-5788262f728d",
   "metadata": {},
   "source": [
    "# moving average"
   ]
  },
  {
   "cell_type": "code",
   "execution_count": 10,
   "id": "888623d1-f61e-4c5d-95f9-6e15f1719ce7",
   "metadata": {},
   "outputs": [
    {
     "data": {
      "text/plain": [
       "<matplotlib.legend.Legend at 0x23f37929110>"
      ]
     },
     "execution_count": 10,
     "metadata": {},
     "output_type": "execute_result"
    },
    {
     "data": {
      "image/png": "[encoded data removed]",
      "text/plain": [
       "<Figure size 640x480 with 1 Axes>"
      ]
     },
     "metadata": {},
     "output_type": "display_data"
    }
   ],
   "source": [
    "# moving average\n",
    "rates.Ex_rate.plot(label=\"org\")\n",
    "for i in range(2,10,2):\n",
    "    rates[\"Ex_rate\"].rolling(i).mean().plot(label=str(i))\n",
    "plt.legend(loc=3)"
   ]
  },
  {
   "cell_type": "code",
   "execution_count": 11,
   "id": "c053b424-37de-4fd9-aca9-5fcf31e962b5",
   "metadata": {},
   "outputs": [
    {
     "data": {
      "text/plain": [
       "<Axes: >"
      ]
     },
     "execution_count": 11,
     "metadata": {},
     "output_type": "execute_result"
    },
    {
     "data": {
      "image/png": "[encoded data removed]",
      "text/plain": [
       "<Figure size 640x480 with 1 Axes>"
      ]
     },
     "metadata": {},
     "output_type": "display_data"
    }
   ],
   "source": [
    "rates.Ex_rate.plot()"
   ]
  },
  {
   "cell_type": "markdown",
   "id": "9d0bbc4c-03f5-492b-9478-f428d025af79",
   "metadata": {},
   "source": [
    "# Part 3: Model Building - Exponential Smoothing"
   ]
  },
  {
   "cell_type": "code",
   "execution_count": 12,
   "id": "db304297-1f73-4115-8ad9-bf6452bab6c5",
   "metadata": {},
   "outputs": [],
   "source": [
    "# Splitting data\n",
    "\n",
    "Train = rates1.head(7000)\n",
    "Test = rates1.tail(588)\n"
   ]
  },
  {
   "cell_type": "code",
   "execution_count": 13,
   "id": "417970d9-cd55-4833-a8de-9746c74b328b",
   "metadata": {},
   "outputs": [],
   "source": [
    "import statsmodels.formula.api as smf\n",
    "import numpy as np\n"
   ]
  },
  {
   "cell_type": "markdown",
   "id": "83717f7b-9f34-4d11-93dd-a5bd2bf53036",
   "metadata": {},
   "source": [
    "# Build Model & RMSE Value"
   ]
  },
  {
   "cell_type": "markdown",
   "id": "41d8bc12-6758-49de-aeb0-cc83b79e04a9",
   "metadata": {},
   "source": [
    "# Linear model"
   ]
  },
  {
   "cell_type": "code",
   "execution_count": 14,
   "id": "bc0d669a-0ead-4e2e-b2b3-e68916612458",
   "metadata": {},
   "outputs": [
    {
     "data": {
      "text/plain": [
       "0.2027525387121618"
      ]
     },
     "execution_count": 14,
     "metadata": {},
     "output_type": "execute_result"
    }
   ],
   "source": [
    "# linear model\n",
    "linear_model = smf.ols('Ex_rate~t',data=Train).fit()\n",
    "pred_linear = pd.Series(linear_model.predict(pd.DataFrame(Test['t'])))\n",
    "rmse_linear = np.sqrt(np.mean((np.array(Test['Ex_rate'])-np.array(pred_linear))**2))\n",
    "rmse_linear"
   ]
  },
  {
   "cell_type": "markdown",
   "id": "73e228c4-8eed-4493-8294-faa92176fde4",
   "metadata": {},
   "source": [
    "# Exponential model"
   ]
  },
  {
   "cell_type": "code",
   "execution_count": 15,
   "id": "bbd4f0e5-86aa-4719-91d3-38ad08ca902d",
   "metadata": {},
   "outputs": [
    {
     "data": {
      "text/plain": [
       "0.19565877547541646"
      ]
     },
     "execution_count": 15,
     "metadata": {},
     "output_type": "execute_result"
    }
   ],
   "source": [
    "#Exponential\n",
    "Exp = smf.ols('Log_Ex_rate~t',data=Train).fit()\n",
    "pred_Exp = pd.Series(Exp.predict(pd.DataFrame(Test['t'])))\n",
    "rmse_Exp = np.sqrt(np.mean((np.array(Test['Ex_rate'])-np.array(np.exp(pred_Exp)))**2))\n",
    "rmse_Exp\n"
   ]
  },
  {
   "cell_type": "markdown",
   "id": "e75ea286-f18f-4f4b-b4d8-a91c097f3006",
   "metadata": {},
   "source": [
    "# quadratic model"
   ]
  },
  {
   "cell_type": "code",
   "execution_count": 16,
   "id": "14534597-b2a4-4784-a76c-02a695f0d049",
   "metadata": {},
   "outputs": [
    {
     "data": {
      "text/plain": [
       "0.3668921351679299"
      ]
     },
     "execution_count": 16,
     "metadata": {},
     "output_type": "execute_result"
    }
   ],
   "source": [
    "# Quadratic\n",
    "Quad = smf.ols('Ex_rate~t+t_squared',data=Train).fit()\n",
    "pred_Quad = pd.Series(Quad.predict(Test[[\"t\",\"t_squared\"]]))\n",
    "rmse_Quad = np.sqrt(np.mean((np.array(Test['Ex_rate'])-np.array(pred_Quad))**2))\n",
    "rmse_Quad\n"
   ]
  },
  {
   "cell_type": "markdown",
   "id": "954de2ec-cbd8-45ca-a50d-74606584f0b2",
   "metadata": {},
   "source": [
    "# additive sesonality model"
   ]
  },
  {
   "cell_type": "code",
   "execution_count": 17,
   "id": "66f1cc59-3d22-41bf-a2a6-a7d079c0d950",
   "metadata": {},
   "outputs": [
    {
     "data": {
      "text/plain": [
       "0.04679424078163514"
      ]
     },
     "execution_count": 17,
     "metadata": {},
     "output_type": "execute_result"
    }
   ],
   "source": [
    "# additive seasonlity\n",
    "add_sea = smf.ols('Ex_rate ~ C(Month)', data=Train).fit()  # Assuming you have a 'Month' column\n",
    "pred_add_sea = pd.Series(add_sea.predict(Test[['Month']]))\n",
    "rmse_add_sea = np.sqrt(np.mean((np.array(Test['Ex_rate']) - np.array(pred_add_sea)) ** 2))\n",
    "rmse_add_sea"
   ]
  },
  {
   "cell_type": "markdown",
   "id": "f5108d1d-649f-4e85-8b0e-05c2d8bad5af",
   "metadata": {},
   "source": [
    "# Additive Seasonality Quadratic model"
   ]
  },
  {
   "cell_type": "code",
   "execution_count": 18,
   "id": "fadbd3f3-f599-42b0-a609-b34d0f1aa6c6",
   "metadata": {},
   "outputs": [
    {
     "data": {
      "text/plain": [
       "0.3675071724970842"
      ]
     },
     "execution_count": 18,
     "metadata": {},
     "output_type": "execute_result"
    }
   ],
   "source": [
    "# Additive Seasonality Quadratic\n",
    "add_sea_Quad = smf.ols('Ex_rate ~ t+t_squared+C(Month)', data=Train).fit()\n",
    "pred_add_sea_quad = pd.Series(add_sea_Quad.predict(Test[['t', 't_squared', 'Month']]))\n",
    "rmse_add_sea_quad = np.sqrt(np.mean((np.array(Test['Ex_rate']) - np.array(pred_add_sea_quad)) ** 2))\n",
    "rmse_add_sea_quad\n"
   ]
  },
  {
   "cell_type": "markdown",
   "id": "08b59296-fa04-4f75-a975-ba2ff57d27f6",
   "metadata": {},
   "source": [
    "# Multiplicative Seasonality model"
   ]
  },
  {
   "cell_type": "code",
   "execution_count": 19,
   "id": "d95169ad-e589-4581-ab49-6d0c51c5862c",
   "metadata": {},
   "outputs": [
    {
     "data": {
      "text/plain": [
       "0.036096436164084686"
      ]
     },
     "execution_count": 19,
     "metadata": {},
     "output_type": "execute_result"
    }
   ],
   "source": [
    "# Multiplicative Seasonality\n",
    "Mul_sea = smf.ols('Log_Ex_rate~C(Month)',data = Train).fit()\n",
    "pred_Mult_sea = pd.Series(Mul_sea.predict(Test))\n",
    "rmse_Mult_sea = np.sqrt(np.mean((np.array(Test['Ex_rate'])-np.array(np.exp(pred_Mult_sea)))**2))\n",
    "rmse_Mult_sea\n"
   ]
  },
  {
   "cell_type": "markdown",
   "id": "a4bd9358-2097-4ffe-a09e-10de58f92b50",
   "metadata": {},
   "source": [
    "# Multiplicative Additive Seasonality model"
   ]
  },
  {
   "cell_type": "code",
   "execution_count": null,
   "id": "e1f0c98b-1a44-48ee-9a5d-32fd2b7dbb9e",
   "metadata": {},
   "outputs": [],
   "source": [
    "# Multiplicative Additive Seasonality\n",
    "Mul_Add_sea = smf.ols('Log_Ex_rate~t+C(Month)',data = Train).fit()\n",
    "pred_Mult_add_sea = pd.Series(Mul_Add_sea.predict(Test))\n",
    "rmse_Mult_add_sea = np.sqrt(np.mean((np.array(Test['Ex_rate'])-np.array(np.exp(pred_Mult_add_sea)))**2))\n",
    "rmse_Mult_add_sea\n"
   ]
  },
  {
   "cell_type": "markdown",
   "id": "72150bb6-001e-4978-a7cf-90239936b07c",
   "metadata": {},
   "source": [
    "# Part 4: Evaluation and Comparison"
   ]
  },
  {
   "cell_type": "markdown",
   "id": "1bd9ff55-c0ab-4db9-9103-a13ce69cadd4",
   "metadata": {},
   "source": [
    "# TESTING"
   ]
  },
  {
   "cell_type": "code",
   "execution_count": 21,
   "id": "1367d924-6320-46e5-b0d7-afa4d1195c84",
   "metadata": {},
   "outputs": [
    {
     "data": {
      "text/html": [
       "<div>\n",
       "<style scoped>\n",
       "    .dataframe tbody tr th:only-of-type {\n",
       "        vertical-align: middle;\n",
       "    }\n",
       "\n",
       "    .dataframe tbody tr th {\n",
       "        vertical-align: top;\n",
       "    }\n",
       "\n",
       "    .dataframe thead th {\n",
       "        text-align: right;\n",
       "    }\n",
       "</style>\n",
       "<table border=\"1\" class=\"dataframe\">\n",
       "  <thead>\n",
       "    <tr style=\"text-align: right;\">\n",
       "      <th></th>\n",
       "      <th>MODEL</th>\n",
       "      <th>RMSE_Values</th>\n",
       "    </tr>\n",
       "  </thead>\n",
       "  <tbody>\n",
       "    <tr>\n",
       "      <th>5</th>\n",
       "      <td>rmse_Mult_sea</td>\n",
       "      <td>0.036096</td>\n",
       "    </tr>\n",
       "    <tr>\n",
       "      <th>3</th>\n",
       "      <td>rmse_add_sea</td>\n",
       "      <td>0.046794</td>\n",
       "    </tr>\n",
       "    <tr>\n",
       "      <th>1</th>\n",
       "      <td>rmse_Exp</td>\n",
       "      <td>0.195659</td>\n",
       "    </tr>\n",
       "    <tr>\n",
       "      <th>6</th>\n",
       "      <td>rmse_Mult_add_sea</td>\n",
       "      <td>0.195685</td>\n",
       "    </tr>\n",
       "    <tr>\n",
       "      <th>0</th>\n",
       "      <td>rmse_linear</td>\n",
       "      <td>0.202753</td>\n",
       "    </tr>\n",
       "    <tr>\n",
       "      <th>2</th>\n",
       "      <td>rmse_Quad</td>\n",
       "      <td>0.366892</td>\n",
       "    </tr>\n",
       "    <tr>\n",
       "      <th>4</th>\n",
       "      <td>rmse_add_sea_quad</td>\n",
       "      <td>0.367507</td>\n",
       "    </tr>\n",
       "  </tbody>\n",
       "</table>\n",
       "</div>"
      ],
      "text/plain": [
       "               MODEL  RMSE_Values\n",
       "5      rmse_Mult_sea     0.036096\n",
       "3       rmse_add_sea     0.046794\n",
       "1           rmse_Exp     0.195659\n",
       "6  rmse_Mult_add_sea     0.195685\n",
       "0        rmse_linear     0.202753\n",
       "2          rmse_Quad     0.366892\n",
       "4  rmse_add_sea_quad     0.367507"
      ]
     },
     "execution_count": 21,
     "metadata": {},
     "output_type": "execute_result"
    }
   ],
   "source": [
    "#Compare the results\n",
    "data = {\"MODEL\":pd.Series([\"rmse_linear\",\"rmse_Exp\",\"rmse_Quad\",\"rmse_add_sea\",\"rmse_add_sea_quad\",\"rmse_Mult_sea\",\"rmse_Mult_add_sea\"]),\"RMSE_Values\":pd.Series([rmse_linear,rmse_Exp,rmse_Quad,rmse_add_sea,rmse_add_sea_quad,rmse_Mult_sea,rmse_Mult_add_sea])}\n",
    "type(data)\n",
    "table_rmse=pd.DataFrame(data)\n",
    "table_rmse.sort_values(['RMSE_Values'])\n"
   ]
  },
  {
   "cell_type": "markdown",
   "id": "e1e38457-af51-4fb6-b86d-9b3415ede232",
   "metadata": {},
   "source": [
    "# PREDICT WITH NEW DATA"
   ]
  },
  {
   "cell_type": "code",
   "execution_count": 22,
   "id": "98f19d2c-d5fa-492f-b406-be088d5f9f84",
   "metadata": {},
   "outputs": [
    {
     "data": {
      "text/plain": [
       "array([7889, 7890, 7891, 7892, 7893, 7894, 7895, 7896, 7897, 7898, 7899,\n",
       "       7900, 7901, 7902, 7903, 7904, 7905, 7906, 7907, 7908, 7909, 7910])"
      ]
     },
     "execution_count": 22,
     "metadata": {},
     "output_type": "execute_result"
    }
   ],
   "source": [
    "t = np.arange(7889,7911)\n",
    "t"
   ]
  },
  {
   "cell_type": "code",
   "execution_count": 23,
   "id": "6b2e8464-a2de-4459-b743-23d94ebbe078",
   "metadata": {},
   "outputs": [
    {
     "data": {
      "text/plain": [
       "array([62236321, 62252100, 62267881, 62283664, 62299449, 62315236,\n",
       "       62331025, 62346816, 62362609, 62378404, 62394201, 62410000,\n",
       "       62425801, 62441604, 62457409, 62473216, 62489025, 62504836,\n",
       "       62520649, 62536464, 62552281, 62568100])"
      ]
     },
     "execution_count": 23,
     "metadata": {},
     "output_type": "execute_result"
    }
   ],
   "source": [
    "t_squared=np.array(t*t)\n",
    "t_squared"
   ]
  },
  {
   "cell_type": "code",
   "execution_count": 24,
   "id": "c3d62d94-6d48-43fc-a9e3-f4e98499c9c3",
   "metadata": {},
   "outputs": [
    {
     "data": {
      "text/html": [
       "<div>\n",
       "<style scoped>\n",
       "    .dataframe tbody tr th:only-of-type {\n",
       "        vertical-align: middle;\n",
       "    }\n",
       "\n",
       "    .dataframe tbody tr th {\n",
       "        vertical-align: top;\n",
       "    }\n",
       "\n",
       "    .dataframe thead th {\n",
       "        text-align: right;\n",
       "    }\n",
       "</style>\n",
       "<table border=\"1\" class=\"dataframe\">\n",
       "  <thead>\n",
       "    <tr style=\"text-align: right;\">\n",
       "      <th></th>\n",
       "      <th>date</th>\n",
       "    </tr>\n",
       "  </thead>\n",
       "  <tbody>\n",
       "    <tr>\n",
       "      <th>0</th>\n",
       "      <td>11-10-2010</td>\n",
       "    </tr>\n",
       "    <tr>\n",
       "      <th>1</th>\n",
       "      <td>12-10-2010</td>\n",
       "    </tr>\n",
       "    <tr>\n",
       "      <th>2</th>\n",
       "      <td>13-10-2010</td>\n",
       "    </tr>\n",
       "    <tr>\n",
       "      <th>3</th>\n",
       "      <td>14-10-2010</td>\n",
       "    </tr>\n",
       "    <tr>\n",
       "      <th>4</th>\n",
       "      <td>15-10-2010</td>\n",
       "    </tr>\n",
       "    <tr>\n",
       "      <th>5</th>\n",
       "      <td>16-10-2010</td>\n",
       "    </tr>\n",
       "    <tr>\n",
       "      <th>6</th>\n",
       "      <td>17-10-2010</td>\n",
       "    </tr>\n",
       "    <tr>\n",
       "      <th>7</th>\n",
       "      <td>18-10-2010</td>\n",
       "    </tr>\n",
       "    <tr>\n",
       "      <th>8</th>\n",
       "      <td>19-10-2010</td>\n",
       "    </tr>\n",
       "    <tr>\n",
       "      <th>9</th>\n",
       "      <td>20-10-2010</td>\n",
       "    </tr>\n",
       "    <tr>\n",
       "      <th>10</th>\n",
       "      <td>20-10-2010</td>\n",
       "    </tr>\n",
       "    <tr>\n",
       "      <th>11</th>\n",
       "      <td>21-10-2010</td>\n",
       "    </tr>\n",
       "    <tr>\n",
       "      <th>12</th>\n",
       "      <td>22-10-2010</td>\n",
       "    </tr>\n",
       "    <tr>\n",
       "      <th>13</th>\n",
       "      <td>23-10-2010</td>\n",
       "    </tr>\n",
       "    <tr>\n",
       "      <th>14</th>\n",
       "      <td>24-10-2010</td>\n",
       "    </tr>\n",
       "    <tr>\n",
       "      <th>15</th>\n",
       "      <td>25-10-2010</td>\n",
       "    </tr>\n",
       "    <tr>\n",
       "      <th>16</th>\n",
       "      <td>26-10-2010</td>\n",
       "    </tr>\n",
       "    <tr>\n",
       "      <th>17</th>\n",
       "      <td>27-10-2010</td>\n",
       "    </tr>\n",
       "    <tr>\n",
       "      <th>18</th>\n",
       "      <td>28-10-2010</td>\n",
       "    </tr>\n",
       "    <tr>\n",
       "      <th>19</th>\n",
       "      <td>29-10-2010</td>\n",
       "    </tr>\n",
       "    <tr>\n",
       "      <th>20</th>\n",
       "      <td>30-10-2010</td>\n",
       "    </tr>\n",
       "    <tr>\n",
       "      <th>21</th>\n",
       "      <td>31-10-2010</td>\n",
       "    </tr>\n",
       "  </tbody>\n",
       "</table>\n",
       "</div>"
      ],
      "text/plain": [
       "          date\n",
       "0   11-10-2010\n",
       "1   12-10-2010\n",
       "2   13-10-2010\n",
       "3   14-10-2010\n",
       "4   15-10-2010\n",
       "5   16-10-2010\n",
       "6   17-10-2010\n",
       "7   18-10-2010\n",
       "8   19-10-2010\n",
       "9   20-10-2010\n",
       "10  20-10-2010\n",
       "11  21-10-2010\n",
       "12  22-10-2010\n",
       "13  23-10-2010\n",
       "14  24-10-2010\n",
       "15  25-10-2010\n",
       "16  26-10-2010\n",
       "17  27-10-2010\n",
       "18  28-10-2010\n",
       "19  29-10-2010\n",
       "20  30-10-2010\n",
       "21  31-10-2010"
      ]
     },
     "execution_count": 24,
     "metadata": {},
     "output_type": "execute_result"
    }
   ],
   "source": [
    "date = pd.DataFrame({'date':['11-10-2010','12-10-2010','13-10-2010','14-10-2010','15-10-2010','16-10-2010','17-10-2010',\n",
    "                               '18-10-2010','19-10-2010','20-10-2010','20-10-2010','21-10-2010','22-10-2010',\n",
    "                               '23-10-2010','24-10-2010','25-10-2010','26-10-2010','27-10-2010','28-10-2010','29-10-2010','30-10-2010','31-10-2010']})\n",
    "date"
   ]
  },
  {
   "cell_type": "code",
   "execution_count": 25,
   "id": "d3fb571a-c2a1-4662-b413-98ad0aec295b",
   "metadata": {},
   "outputs": [
    {
     "data": {
      "text/html": [
       "<div>\n",
       "<style scoped>\n",
       "    .dataframe tbody tr th:only-of-type {\n",
       "        vertical-align: middle;\n",
       "    }\n",
       "\n",
       "    .dataframe tbody tr th {\n",
       "        vertical-align: top;\n",
       "    }\n",
       "\n",
       "    .dataframe thead th {\n",
       "        text-align: right;\n",
       "    }\n",
       "</style>\n",
       "<table border=\"1\" class=\"dataframe\">\n",
       "  <thead>\n",
       "    <tr style=\"text-align: right;\">\n",
       "      <th></th>\n",
       "      <th>t</th>\n",
       "      <th>t_squared</th>\n",
       "    </tr>\n",
       "  </thead>\n",
       "  <tbody>\n",
       "    <tr>\n",
       "      <th>0</th>\n",
       "      <td>7889</td>\n",
       "      <td>62236321</td>\n",
       "    </tr>\n",
       "    <tr>\n",
       "      <th>1</th>\n",
       "      <td>7890</td>\n",
       "      <td>62252100</td>\n",
       "    </tr>\n",
       "    <tr>\n",
       "      <th>2</th>\n",
       "      <td>7891</td>\n",
       "      <td>62267881</td>\n",
       "    </tr>\n",
       "    <tr>\n",
       "      <th>3</th>\n",
       "      <td>7892</td>\n",
       "      <td>62283664</td>\n",
       "    </tr>\n",
       "    <tr>\n",
       "      <th>4</th>\n",
       "      <td>7893</td>\n",
       "      <td>62299449</td>\n",
       "    </tr>\n",
       "    <tr>\n",
       "      <th>5</th>\n",
       "      <td>7894</td>\n",
       "      <td>62315236</td>\n",
       "    </tr>\n",
       "    <tr>\n",
       "      <th>6</th>\n",
       "      <td>7895</td>\n",
       "      <td>62331025</td>\n",
       "    </tr>\n",
       "    <tr>\n",
       "      <th>7</th>\n",
       "      <td>7896</td>\n",
       "      <td>62346816</td>\n",
       "    </tr>\n",
       "    <tr>\n",
       "      <th>8</th>\n",
       "      <td>7897</td>\n",
       "      <td>62362609</td>\n",
       "    </tr>\n",
       "    <tr>\n",
       "      <th>9</th>\n",
       "      <td>7898</td>\n",
       "      <td>62378404</td>\n",
       "    </tr>\n",
       "    <tr>\n",
       "      <th>10</th>\n",
       "      <td>7899</td>\n",
       "      <td>62394201</td>\n",
       "    </tr>\n",
       "    <tr>\n",
       "      <th>11</th>\n",
       "      <td>7900</td>\n",
       "      <td>62410000</td>\n",
       "    </tr>\n",
       "    <tr>\n",
       "      <th>12</th>\n",
       "      <td>7901</td>\n",
       "      <td>62425801</td>\n",
       "    </tr>\n",
       "    <tr>\n",
       "      <th>13</th>\n",
       "      <td>7902</td>\n",
       "      <td>62441604</td>\n",
       "    </tr>\n",
       "    <tr>\n",
       "      <th>14</th>\n",
       "      <td>7903</td>\n",
       "      <td>62457409</td>\n",
       "    </tr>\n",
       "    <tr>\n",
       "      <th>15</th>\n",
       "      <td>7904</td>\n",
       "      <td>62473216</td>\n",
       "    </tr>\n",
       "    <tr>\n",
       "      <th>16</th>\n",
       "      <td>7905</td>\n",
       "      <td>62489025</td>\n",
       "    </tr>\n",
       "    <tr>\n",
       "      <th>17</th>\n",
       "      <td>7906</td>\n",
       "      <td>62504836</td>\n",
       "    </tr>\n",
       "    <tr>\n",
       "      <th>18</th>\n",
       "      <td>7907</td>\n",
       "      <td>62520649</td>\n",
       "    </tr>\n",
       "    <tr>\n",
       "      <th>19</th>\n",
       "      <td>7908</td>\n",
       "      <td>62536464</td>\n",
       "    </tr>\n",
       "    <tr>\n",
       "      <th>20</th>\n",
       "      <td>7909</td>\n",
       "      <td>62552281</td>\n",
       "    </tr>\n",
       "    <tr>\n",
       "      <th>21</th>\n",
       "      <td>7910</td>\n",
       "      <td>62568100</td>\n",
       "    </tr>\n",
       "  </tbody>\n",
       "</table>\n",
       "</div>"
      ],
      "text/plain": [
       "       t  t_squared\n",
       "0   7889   62236321\n",
       "1   7890   62252100\n",
       "2   7891   62267881\n",
       "3   7892   62283664\n",
       "4   7893   62299449\n",
       "5   7894   62315236\n",
       "6   7895   62331025\n",
       "7   7896   62346816\n",
       "8   7897   62362609\n",
       "9   7898   62378404\n",
       "10  7899   62394201\n",
       "11  7900   62410000\n",
       "12  7901   62425801\n",
       "13  7902   62441604\n",
       "14  7903   62457409\n",
       "15  7904   62473216\n",
       "16  7905   62489025\n",
       "17  7906   62504836\n",
       "18  7907   62520649\n",
       "19  7908   62536464\n",
       "20  7909   62552281\n",
       "21  7910   62568100"
      ]
     },
     "execution_count": 25,
     "metadata": {},
     "output_type": "execute_result"
    }
   ],
   "source": [
    "df={'t':t,'t_squared':t_squared}\n",
    "df=pd.DataFrame(df)\n",
    "df"
   ]
  },
  {
   "cell_type": "code",
   "execution_count": 26,
   "id": "81084a72-4be9-4f1d-b0cb-4d9498c07ef2",
   "metadata": {},
   "outputs": [
    {
     "data": {
      "text/html": [
       "<div>\n",
       "<style scoped>\n",
       "    .dataframe tbody tr th:only-of-type {\n",
       "        vertical-align: middle;\n",
       "    }\n",
       "\n",
       "    .dataframe tbody tr th {\n",
       "        vertical-align: top;\n",
       "    }\n",
       "\n",
       "    .dataframe thead th {\n",
       "        text-align: right;\n",
       "    }\n",
       "</style>\n",
       "<table border=\"1\" class=\"dataframe\">\n",
       "  <thead>\n",
       "    <tr style=\"text-align: right;\">\n",
       "      <th></th>\n",
       "      <th>date</th>\n",
       "      <th>t</th>\n",
       "      <th>t_squared</th>\n",
       "    </tr>\n",
       "  </thead>\n",
       "  <tbody>\n",
       "    <tr>\n",
       "      <th>0</th>\n",
       "      <td>11-10-2010</td>\n",
       "      <td>7889</td>\n",
       "      <td>62236321</td>\n",
       "    </tr>\n",
       "    <tr>\n",
       "      <th>1</th>\n",
       "      <td>12-10-2010</td>\n",
       "      <td>7890</td>\n",
       "      <td>62252100</td>\n",
       "    </tr>\n",
       "    <tr>\n",
       "      <th>2</th>\n",
       "      <td>13-10-2010</td>\n",
       "      <td>7891</td>\n",
       "      <td>62267881</td>\n",
       "    </tr>\n",
       "    <tr>\n",
       "      <th>3</th>\n",
       "      <td>14-10-2010</td>\n",
       "      <td>7892</td>\n",
       "      <td>62283664</td>\n",
       "    </tr>\n",
       "    <tr>\n",
       "      <th>4</th>\n",
       "      <td>15-10-2010</td>\n",
       "      <td>7893</td>\n",
       "      <td>62299449</td>\n",
       "    </tr>\n",
       "    <tr>\n",
       "      <th>5</th>\n",
       "      <td>16-10-2010</td>\n",
       "      <td>7894</td>\n",
       "      <td>62315236</td>\n",
       "    </tr>\n",
       "    <tr>\n",
       "      <th>6</th>\n",
       "      <td>17-10-2010</td>\n",
       "      <td>7895</td>\n",
       "      <td>62331025</td>\n",
       "    </tr>\n",
       "    <tr>\n",
       "      <th>7</th>\n",
       "      <td>18-10-2010</td>\n",
       "      <td>7896</td>\n",
       "      <td>62346816</td>\n",
       "    </tr>\n",
       "    <tr>\n",
       "      <th>8</th>\n",
       "      <td>19-10-2010</td>\n",
       "      <td>7897</td>\n",
       "      <td>62362609</td>\n",
       "    </tr>\n",
       "    <tr>\n",
       "      <th>9</th>\n",
       "      <td>20-10-2010</td>\n",
       "      <td>7898</td>\n",
       "      <td>62378404</td>\n",
       "    </tr>\n",
       "    <tr>\n",
       "      <th>10</th>\n",
       "      <td>20-10-2010</td>\n",
       "      <td>7899</td>\n",
       "      <td>62394201</td>\n",
       "    </tr>\n",
       "    <tr>\n",
       "      <th>11</th>\n",
       "      <td>21-10-2010</td>\n",
       "      <td>7900</td>\n",
       "      <td>62410000</td>\n",
       "    </tr>\n",
       "    <tr>\n",
       "      <th>12</th>\n",
       "      <td>22-10-2010</td>\n",
       "      <td>7901</td>\n",
       "      <td>62425801</td>\n",
       "    </tr>\n",
       "    <tr>\n",
       "      <th>13</th>\n",
       "      <td>23-10-2010</td>\n",
       "      <td>7902</td>\n",
       "      <td>62441604</td>\n",
       "    </tr>\n",
       "    <tr>\n",
       "      <th>14</th>\n",
       "      <td>24-10-2010</td>\n",
       "      <td>7903</td>\n",
       "      <td>62457409</td>\n",
       "    </tr>\n",
       "    <tr>\n",
       "      <th>15</th>\n",
       "      <td>25-10-2010</td>\n",
       "      <td>7904</td>\n",
       "      <td>62473216</td>\n",
       "    </tr>\n",
       "    <tr>\n",
       "      <th>16</th>\n",
       "      <td>26-10-2010</td>\n",
       "      <td>7905</td>\n",
       "      <td>62489025</td>\n",
       "    </tr>\n",
       "    <tr>\n",
       "      <th>17</th>\n",
       "      <td>27-10-2010</td>\n",
       "      <td>7906</td>\n",
       "      <td>62504836</td>\n",
       "    </tr>\n",
       "    <tr>\n",
       "      <th>18</th>\n",
       "      <td>28-10-2010</td>\n",
       "      <td>7907</td>\n",
       "      <td>62520649</td>\n",
       "    </tr>\n",
       "    <tr>\n",
       "      <th>19</th>\n",
       "      <td>29-10-2010</td>\n",
       "      <td>7908</td>\n",
       "      <td>62536464</td>\n",
       "    </tr>\n",
       "    <tr>\n",
       "      <th>20</th>\n",
       "      <td>30-10-2010</td>\n",
       "      <td>7909</td>\n",
       "      <td>62552281</td>\n",
       "    </tr>\n",
       "    <tr>\n",
       "      <th>21</th>\n",
       "      <td>31-10-2010</td>\n",
       "      <td>7910</td>\n",
       "      <td>62568100</td>\n",
       "    </tr>\n",
       "  </tbody>\n",
       "</table>\n",
       "</div>"
      ],
      "text/plain": [
       "          date     t  t_squared\n",
       "0   11-10-2010  7889   62236321\n",
       "1   12-10-2010  7890   62252100\n",
       "2   13-10-2010  7891   62267881\n",
       "3   14-10-2010  7892   62283664\n",
       "4   15-10-2010  7893   62299449\n",
       "5   16-10-2010  7894   62315236\n",
       "6   17-10-2010  7895   62331025\n",
       "7   18-10-2010  7896   62346816\n",
       "8   19-10-2010  7897   62362609\n",
       "9   20-10-2010  7898   62378404\n",
       "10  20-10-2010  7899   62394201\n",
       "11  21-10-2010  7900   62410000\n",
       "12  22-10-2010  7901   62425801\n",
       "13  23-10-2010  7902   62441604\n",
       "14  24-10-2010  7903   62457409\n",
       "15  25-10-2010  7904   62473216\n",
       "16  26-10-2010  7905   62489025\n",
       "17  27-10-2010  7906   62504836\n",
       "18  28-10-2010  7907   62520649\n",
       "19  29-10-2010  7908   62536464\n",
       "20  30-10-2010  7909   62552281\n",
       "21  31-10-2010  7910   62568100"
      ]
     },
     "execution_count": 26,
     "metadata": {},
     "output_type": "execute_result"
    }
   ],
   "source": [
    "newdata = pd.concat([date,df],axis=1)\n",
    "newdata"
   ]
  },
  {
   "cell_type": "markdown",
   "id": "c1b2aa79-2b3a-464d-a734-f7d5a2fd5a85",
   "metadata": {},
   "source": [
    "# Build the model on entire dataset"
   ]
  },
  {
   "cell_type": "code",
   "execution_count": 33,
   "id": "dcee5639-4a6e-4b23-af06-b39aa76298bf",
   "metadata": {},
   "outputs": [],
   "source": [
    "model_full = smf.ols('Ex_rate~t',data=rates1).fit()\n"
   ]
  },
  {
   "cell_type": "code",
   "execution_count": 34,
   "id": "fff9cfd8-2746-46f8-aff5-3d2285015d03",
   "metadata": {},
   "outputs": [
    {
     "data": {
      "text/plain": [
       "0     0.903429\n",
       "1     0.903460\n",
       "2     0.903491\n",
       "3     0.903522\n",
       "4     0.903553\n",
       "5     0.903584\n",
       "6     0.903614\n",
       "7     0.903645\n",
       "8     0.903676\n",
       "9     0.903707\n",
       "10    0.903738\n",
       "11    0.903769\n",
       "12    0.903800\n",
       "13    0.903831\n",
       "14    0.903862\n",
       "15    0.903892\n",
       "16    0.903923\n",
       "17    0.903954\n",
       "18    0.903985\n",
       "19    0.904016\n",
       "20    0.904047\n",
       "21    0.904078\n",
       "dtype: float64"
      ]
     },
     "execution_count": 34,
     "metadata": {},
     "output_type": "execute_result"
    }
   ],
   "source": [
    "pred_new  = pd.Series(model_full.predict(newdata))\n",
    "pred_new"
   ]
  },
  {
   "cell_type": "code",
   "execution_count": 35,
   "id": "a4d5f220-a9e7-420d-8ecb-65e1d3a8cf6d",
   "metadata": {},
   "outputs": [
    {
     "data": {
      "text/html": [
       "<div>\n",
       "<style scoped>\n",
       "    .dataframe tbody tr th:only-of-type {\n",
       "        vertical-align: middle;\n",
       "    }\n",
       "\n",
       "    .dataframe tbody tr th {\n",
       "        vertical-align: top;\n",
       "    }\n",
       "\n",
       "    .dataframe thead th {\n",
       "        text-align: right;\n",
       "    }\n",
       "</style>\n",
       "<table border=\"1\" class=\"dataframe\">\n",
       "  <thead>\n",
       "    <tr style=\"text-align: right;\">\n",
       "      <th></th>\n",
       "      <th>date</th>\n",
       "      <th>t</th>\n",
       "      <th>t_squared</th>\n",
       "      <th>forecasted_passengers</th>\n",
       "    </tr>\n",
       "  </thead>\n",
       "  <tbody>\n",
       "    <tr>\n",
       "      <th>0</th>\n",
       "      <td>11-10-2010</td>\n",
       "      <td>7889</td>\n",
       "      <td>62236321</td>\n",
       "      <td>0.903429</td>\n",
       "    </tr>\n",
       "    <tr>\n",
       "      <th>1</th>\n",
       "      <td>12-10-2010</td>\n",
       "      <td>7890</td>\n",
       "      <td>62252100</td>\n",
       "      <td>0.903460</td>\n",
       "    </tr>\n",
       "    <tr>\n",
       "      <th>2</th>\n",
       "      <td>13-10-2010</td>\n",
       "      <td>7891</td>\n",
       "      <td>62267881</td>\n",
       "      <td>0.903491</td>\n",
       "    </tr>\n",
       "    <tr>\n",
       "      <th>3</th>\n",
       "      <td>14-10-2010</td>\n",
       "      <td>7892</td>\n",
       "      <td>62283664</td>\n",
       "      <td>0.903522</td>\n",
       "    </tr>\n",
       "    <tr>\n",
       "      <th>4</th>\n",
       "      <td>15-10-2010</td>\n",
       "      <td>7893</td>\n",
       "      <td>62299449</td>\n",
       "      <td>0.903553</td>\n",
       "    </tr>\n",
       "    <tr>\n",
       "      <th>5</th>\n",
       "      <td>16-10-2010</td>\n",
       "      <td>7894</td>\n",
       "      <td>62315236</td>\n",
       "      <td>0.903584</td>\n",
       "    </tr>\n",
       "    <tr>\n",
       "      <th>6</th>\n",
       "      <td>17-10-2010</td>\n",
       "      <td>7895</td>\n",
       "      <td>62331025</td>\n",
       "      <td>0.903614</td>\n",
       "    </tr>\n",
       "    <tr>\n",
       "      <th>7</th>\n",
       "      <td>18-10-2010</td>\n",
       "      <td>7896</td>\n",
       "      <td>62346816</td>\n",
       "      <td>0.903645</td>\n",
       "    </tr>\n",
       "    <tr>\n",
       "      <th>8</th>\n",
       "      <td>19-10-2010</td>\n",
       "      <td>7897</td>\n",
       "      <td>62362609</td>\n",
       "      <td>0.903676</td>\n",
       "    </tr>\n",
       "    <tr>\n",
       "      <th>9</th>\n",
       "      <td>20-10-2010</td>\n",
       "      <td>7898</td>\n",
       "      <td>62378404</td>\n",
       "      <td>0.903707</td>\n",
       "    </tr>\n",
       "    <tr>\n",
       "      <th>10</th>\n",
       "      <td>20-10-2010</td>\n",
       "      <td>7899</td>\n",
       "      <td>62394201</td>\n",
       "      <td>0.903738</td>\n",
       "    </tr>\n",
       "    <tr>\n",
       "      <th>11</th>\n",
       "      <td>21-10-2010</td>\n",
       "      <td>7900</td>\n",
       "      <td>62410000</td>\n",
       "      <td>0.903769</td>\n",
       "    </tr>\n",
       "    <tr>\n",
       "      <th>12</th>\n",
       "      <td>22-10-2010</td>\n",
       "      <td>7901</td>\n",
       "      <td>62425801</td>\n",
       "      <td>0.903800</td>\n",
       "    </tr>\n",
       "    <tr>\n",
       "      <th>13</th>\n",
       "      <td>23-10-2010</td>\n",
       "      <td>7902</td>\n",
       "      <td>62441604</td>\n",
       "      <td>0.903831</td>\n",
       "    </tr>\n",
       "    <tr>\n",
       "      <th>14</th>\n",
       "      <td>24-10-2010</td>\n",
       "      <td>7903</td>\n",
       "      <td>62457409</td>\n",
       "      <td>0.903862</td>\n",
       "    </tr>\n",
       "    <tr>\n",
       "      <th>15</th>\n",
       "      <td>25-10-2010</td>\n",
       "      <td>7904</td>\n",
       "      <td>62473216</td>\n",
       "      <td>0.903892</td>\n",
       "    </tr>\n",
       "    <tr>\n",
       "      <th>16</th>\n",
       "      <td>26-10-2010</td>\n",
       "      <td>7905</td>\n",
       "      <td>62489025</td>\n",
       "      <td>0.903923</td>\n",
       "    </tr>\n",
       "    <tr>\n",
       "      <th>17</th>\n",
       "      <td>27-10-2010</td>\n",
       "      <td>7906</td>\n",
       "      <td>62504836</td>\n",
       "      <td>0.903954</td>\n",
       "    </tr>\n",
       "    <tr>\n",
       "      <th>18</th>\n",
       "      <td>28-10-2010</td>\n",
       "      <td>7907</td>\n",
       "      <td>62520649</td>\n",
       "      <td>0.903985</td>\n",
       "    </tr>\n",
       "    <tr>\n",
       "      <th>19</th>\n",
       "      <td>29-10-2010</td>\n",
       "      <td>7908</td>\n",
       "      <td>62536464</td>\n",
       "      <td>0.904016</td>\n",
       "    </tr>\n",
       "    <tr>\n",
       "      <th>20</th>\n",
       "      <td>30-10-2010</td>\n",
       "      <td>7909</td>\n",
       "      <td>62552281</td>\n",
       "      <td>0.904047</td>\n",
       "    </tr>\n",
       "    <tr>\n",
       "      <th>21</th>\n",
       "      <td>31-10-2010</td>\n",
       "      <td>7910</td>\n",
       "      <td>62568100</td>\n",
       "      <td>0.904078</td>\n",
       "    </tr>\n",
       "  </tbody>\n",
       "</table>\n",
       "</div>"
      ],
      "text/plain": [
       "          date     t  t_squared  forecasted_passengers\n",
       "0   11-10-2010  7889   62236321               0.903429\n",
       "1   12-10-2010  7890   62252100               0.903460\n",
       "2   13-10-2010  7891   62267881               0.903491\n",
       "3   14-10-2010  7892   62283664               0.903522\n",
       "4   15-10-2010  7893   62299449               0.903553\n",
       "5   16-10-2010  7894   62315236               0.903584\n",
       "6   17-10-2010  7895   62331025               0.903614\n",
       "7   18-10-2010  7896   62346816               0.903645\n",
       "8   19-10-2010  7897   62362609               0.903676\n",
       "9   20-10-2010  7898   62378404               0.903707\n",
       "10  20-10-2010  7899   62394201               0.903738\n",
       "11  21-10-2010  7900   62410000               0.903769\n",
       "12  22-10-2010  7901   62425801               0.903800\n",
       "13  23-10-2010  7902   62441604               0.903831\n",
       "14  24-10-2010  7903   62457409               0.903862\n",
       "15  25-10-2010  7904   62473216               0.903892\n",
       "16  26-10-2010  7905   62489025               0.903923\n",
       "17  27-10-2010  7906   62504836               0.903954\n",
       "18  28-10-2010  7907   62520649               0.903985\n",
       "19  29-10-2010  7908   62536464               0.904016\n",
       "20  30-10-2010  7909   62552281               0.904047\n",
       "21  31-10-2010  7910   62568100               0.904078"
      ]
     },
     "execution_count": 35,
     "metadata": {},
     "output_type": "execute_result"
    }
   ],
   "source": [
    "newdata[\"forecasted_passengers\"]=pd.Series(pred_new)\n",
    "newdata"
   ]
  },
  {
   "cell_type": "markdown",
   "id": "3cc7bdb6-45a0-4470-9cf6-5abf016ce887",
   "metadata": {},
   "source": [
    "# observation"
   ]
  },
  {
   "cell_type": "markdown",
   "id": "507a52f8-5d92-47b9-8446-7867d757f902",
   "metadata": {},
   "source": [
    "Multiplicative Seasonality gives the best prediction of least RMSE of 0.036."
   ]
  },
  {
   "cell_type": "code",
   "execution_count": null,
   "id": "bb84cc26-e32b-4e9a-b247-89430b7b89aa",
   "metadata": {},
   "outputs": [],
   "source": []
  }
 ],
 "metadata": {
  "kernelspec": {
   "display_name": "Python 3 (ipykernel)",
   "language": "python",
   "name": "python3"
  },
  "language_info": {
   "codemirror_mode": {
    "name": "ipython",
    "version": 3
   },
   "file_extension": ".py",
   "mimetype": "text/x-python",
   "name": "python",
   "nbconvert_exporter": "python",
   "pygments_lexer": "ipython3",
   "version": "3.11.7"
  }
 },
 "nbformat": 4,
 "nbformat_minor": 5
}
