{
 "cells": [
  {
   "cell_type": "markdown",
   "id": "749d55ab-500e-415e-8447-3939b3fe45b4",
   "metadata": {},
   "source": [
    "# Background\n",
    "\n",
    "In quality control processes, especially when dealing with high-value items, destructive sampling is a necessary but costly method to ensure product quality. The test to determine whether an item meets the quality standards destroys the item, leading to the requirement of small sample sizes due to cost constraints.\n",
    "# Scenario\n",
    "\n",
    "A manufacturer of print-heads for personal computers is interested in estimating the mean durability of their print-heads in terms of the number of characters printed before failure. To assess this, the manufacturer conducts a study on a small sample of print-heads due to the destructive nature of the testing process.\n",
    "# Data\n",
    "\n",
    "A total of 15 print-heads were randomly selected and tested until failure. The durability of each print-head (in millions of characters) was recorded as follows:\n",
    "1.13, 1.55, 1.43, 0.92, 1.25, 1.36, 1.32, 0.85, 1.07, 1.48, 1.20, 1.33, 1.18, 1.22, 1.29\n",
    "# assignment tasks\n",
    "ignment Tasks\n",
    "a. Build 99% Confidence Interval Using Sample Standard Deviation\n",
    "Assuming the sample is representative of the population, construct a 99% confidence interval for the mean number of characters printed before the print-head fails using the sample standard deviation. Explain the steps you take and the rationale behind using the t-distribution f\n",
    "\n",
    "or this task.\n",
    "b. Build 99% Confidence Interval Using Known Population Standard Deviation\n",
    "If it were known that the population standard deviation is 0.2 million characters, construct a 99% confidence interval for the mean number of characters printed before failure.\n",
    "\n"
   ]
  },
  {
   "cell_type": "markdown",
   "id": "73a7667a-f76b-44f9-beac-d66c56f19bb9",
   "metadata": {},
   "source": [
    "# To construct a 99% confidence interval for the mean number of characters printed before the print-head fails using the sample standard deviation, we'll follow these steps:\n",
    "#Calculate the sample mean(x_bar) and sample standard deviation.\n",
    "\n",
    "\n",
    "#determine the critical value (t) for a 99% confedence interval with (n-1) degrees of freedom (where n s the sample size).\n",
    "\n",
    "\n",
    "#calculate the margin of error (ME) using the formula ME=t*s/root_n.\n",
    "\n",
    "\n",
    "#construct the confedence interval using the formula (x_bar - ME , x_bar + ME).\n",
    "\n",
    "\n",
    "#The t-distribution is used because we're dealing with a small sample size (less than 30) and we're estimating the population mean using the sample mean and standard deviation. This distribution accounts for the increased uncertainty due to the smaller sample size."
   ]
  },
  {
   "cell_type": "markdown",
   "id": "73839ba3-9ee6-4700-a1c0-56da64880f9b",
   "metadata": {},
   "source": [
    "# a. Build 99% Confidence Interval Using Sample Standard Deviation."
   ]
  },
  {
   "cell_type": "code",
   "execution_count": 1,
   "id": "5f9225ea-5fe6-4120-adf3-4e9f1161bc5f",
   "metadata": {},
   "outputs": [
    {
     "name": "stdout",
     "output_type": "stream",
     "text": [
      "Sample Mean: 1.2386666666666666\n",
      "Sample Standard Deviation: 0.19316412956959936\n",
      "Degrees of Freedom: 14\n",
      "t-Score (99% confidence level): 2.97684273411266\n",
      "Margin of Error: 0.1484693282152996\n",
      "99% Confidence Interval: (1.090197338451367, 1.3871359948819662)\n"
     ]
    }
   ],
   "source": [
    "import numpy as np\n",
    "#given data\n",
    "data = np.array([1.13, 1.55, 1.43, 0.92, 1.25, 1.36, 1.32, 0.85, 1.07, 1.48, 1.20, 1.33, 1.18, 1.22, 1.29])\n",
    "# Sample size\n",
    "n = len(data)\n",
    "n\n",
    "sample_mean=np.mean(data)\n",
    "sample_mean\n",
    "#sample standard deviation\n",
    "sample_std = np.std(data,ddof=1)  # ddof=1 for sample standard deviation\n",
    "sample_std\n",
    "# Degrees of freedom\n",
    "degrees_of_freedom= n-1\n",
    "degrees_of_freedom\n",
    "# t-score for 99% confidence level and 14 degrees of freedom\n",
    "from scipy.stats import t\n",
    "t_score=t.ppf(0.995,degrees_of_freedom)\n",
    "t_score\n",
    "# Margin of error\n",
    "margin_of_error = t_score * (sample_std / np.sqrt(n))\n",
    "margin_of_error\n",
    "# Confidence interval\n",
    "lower_bound = sample_mean - margin_of_error\n",
    "upper_bound = sample_mean + margin_of_error\n",
    "lower_bound\n",
    "upper_bound\n",
    "\n",
    "print(\"Sample Mean:\", sample_mean)\n",
    "print(\"Sample Standard Deviation:\", sample_std)\n",
    "print(\"Degrees of Freedom:\", degrees_of_freedom)\n",
    "print(\"t-Score (99% confidence level):\", t_score)\n",
    "print(\"Margin of Error:\", margin_of_error)\n",
    "print(\"99% Confidence Interval:\", (lower_bound, upper_bound))\n"
   ]
  },
  {
   "cell_type": "markdown",
   "id": "a692d881-3042-4a10-8625-5c6bdaaaf77d",
   "metadata": {},
   "source": [
    "\n",
    "# b. Build 99% Confidence Interval Using Known Population Standard Deviation"
   ]
  },
  {
   "cell_type": "code",
   "execution_count": 2,
   "id": "079b2cf4-72f6-4d49-9dda-e64510bf2c20",
   "metadata": {},
   "outputs": [
    {
     "name": "stdout",
     "output_type": "stream",
     "text": [
      "Sample Mean: 1.2386666666666666\n",
      "Population Standard Deviation: 0.2\n",
      "Sample Size: 15\n",
      "Z-Score (99% confidence level): 2.5758293035489004\n",
      "Margin of Error: 0.13301525327090588\n",
      "99% Confidence Interval: (1.1056514133957607, 1.3716819199375725)\n"
     ]
    }
   ],
   "source": [
    "import numpy as np\n",
    "\n",
    "\n",
    "# Given data\n",
    "data = np.array([1.13, 1.55, 1.43, 0.92, 1.25, 1.36, 1.32, 0.85, 1.07, 1.48, 1.20, 1.33, 1.18, 1.22, 1.29])\n",
    "\n",
    "# Sample mean\n",
    "sample_mean = np.mean(data)\n",
    "sample_mean\n",
    "# Known population standard deviation\n",
    "\n",
    "population_std =0.2\n",
    "\n",
    "# Sample size\n",
    "n = len(data)\n",
    "from scipy.stats import norm\n",
    "# Z-score for 99% confidence level\n",
    "z_score = norm.ppf(0.995)\n",
    "z_score\n",
    "# Margin of error\n",
    "margin_of_error = z_score * (population_std / np.sqrt(n))\n",
    "margin_of_error\n",
    "# Confidence interval\n",
    "lower_bound = sample_mean - margin_of_error\n",
    "upper_bound = sample_mean + margin_of_error\n",
    "\n",
    "print(\"Sample Mean:\", sample_mean)\n",
    "print(\"Population Standard Deviation:\", population_std)\n",
    "print(\"Sample Size:\", n)\n",
    "print(\"Z-Score (99% confidence level):\", z_score)\n",
    "print(\"Margin of Error:\", margin_of_error)\n",
    "print(\"99% Confidence Interval:\", (lower_bound, upper_bound))\n"
   ]
  },
  {
   "cell_type": "markdown",
   "id": "eddc02a9-a294-4801-ad4c-36791ad95161",
   "metadata": {},
   "source": [
    "In this code, we calculate the sample mean, then use the known population standard deviation to determine the margin of error using the Z-score for a 99% confidence interval. Finally, we construct the confidence interval using the sample mean and the margin of error ."
   ]
  }
 ],
 "metadata": {
  "kernelspec": {
   "display_name": "Python 3 (ipykernel)",
   "language": "python",
   "name": "python3"
  },
  "language_info": {
   "codemirror_mode": {
    "name": "ipython",
    "version": 3
   },
   "file_extension": ".py",
   "mimetype": "text/x-python",
   "name": "python",
   "nbconvert_exporter": "python",
   "pygments_lexer": "ipython3",
   "version": "3.11.7"
  }
 },
 "nbformat": 4,
 "nbformat_minor": 5
}
