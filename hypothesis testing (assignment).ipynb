{
 "cells": [
  {
   "cell_type": "markdown",
   "id": "e9cb7d39-4a6e-447a-a888-e7eaef4debb4",
   "metadata": {},
   "source": [
    "# CHI-SQUARE TEST\n",
    "Association between Device Type and Customer Satisfaction\n",
    "\n",
    "Background:\n",
    "\n",
    "Mizzare Corporation has collected data on customer satisfaction levels for two types of smart home devices: Smart Thermostats and Smart Lights. They want to determine if there's a significant association between the type of device purchased and the customer's satisfaction level.\n",
    "\n",
    "Data Provided:\n",
    "The data is summarized in a contingency table showing the counts of customers in each satisfaction level for both types of devices:\n",
    "\n",
    "Satisfaction\tSmart Thermostat\tSmart Light\tTotal\n",
    "\n",
    "Very Satisfied\t50\t70\t120\n",
    "\n",
    "Satisfied\t80\t100\t180\n",
    "\n",
    "Neutral\t60\t90\t150\n",
    "\n",
    "Unsatisfied\t30\t50\t80\n",
    "\n",
    "Very Unsatisfied\t20\t50\t70\n",
    "\n",
    "Total\t240\t360\t600\n",
    "\n",
    "Objective:\n",
    "\n",
    "To use the Chi-Square test for independence to determine if there's a significant association between the type of smart home device purchased (Smart Thermostats vs. Smart Lights) and the customer satisfaction level.\n",
    "\n",
    "Assignment Tasks:\n",
    "\n",
    "1. State the Hypotheses:\n",
    "2. Compute the Chi-Square Statistic:\n",
    "3. Determine the Critical Value:\n",
    "Using the significance level (alpha) of 0.05 and the degrees of freedom (which is the number of categories minus 1)\n",
    "\n",
    "5. Make a Decision:\n",
    "\n",
    "Compare the Chi-Square statistic with the critical value to decide whether to reject the null hypothesis.\n",
    "\n",
    "Submission Guidelines:\n",
    "\n",
    "•\tProvide a detailed report of your analysis, including each step outlined in the assignment tasks in a python file.\n",
    "\n",
    "•\tInclude all calculations, the Chi-Square statistic, the critical value, and your conclusion.\n"
   ]
  },
  {
   "cell_type": "code",
   "execution_count": 5,
   "id": "9c3461f3-d776-4044-8de6-37442a8a5bba",
   "metadata": {},
   "outputs": [
    {
     "name": "stdout",
     "output_type": "stream",
     "text": [
      "Chi-Square Statistic: 5.638227513227513\n",
      "p_value: 0.22784371130697179\n",
      "degrees of freedom: 4\n",
      "expected: [[ 48.  72.]\n",
      " [ 72. 108.]\n",
      " [ 60.  90.]\n",
      " [ 32.  48.]\n",
      " [ 28.  42.]]\n"
     ]
    }
   ],
   "source": [
    "# hypothesis\n",
    "\n",
    "#Ho=The variables \"Device Type\" and \"Customer Satisfaction\" are independent.\n",
    "#H1=The variables \"Device Type\" and \"Customer Satisfaction\" are not independent.\n",
    "import numpy as np\n",
    "from scipy.stats import chi2_contingency\n",
    "\n",
    "observed = np.array([[50, 70],\n",
    "                     [80, 100],\n",
    "                     [60, 90],\n",
    "                     [30, 50],\n",
    "                     [20, 50]])\n",
    "alpha=0.05\n",
    "# Compute Chi-Square statistic\n",
    "chi2, p, dof, expected = chi2_contingency(observed)\n",
    "\n",
    "print(\"Chi-Square Statistic:\", chi2)\n",
    "print(\"p_value:\", p)\n",
    "print(\"degrees of freedom:\", dof)\n",
    "print(\"expected:\", expected)\n"
   ]
  },
  {
   "cell_type": "markdown",
   "id": "a7f19fc1-3f48-4584-a075-cecf68e0caf7",
   "metadata": {},
   "source": [
    "# by p_value calculation"
   ]
  },
  {
   "cell_type": "code",
   "execution_count": 6,
   "id": "d16b56a6-8a5f-42b3-9985-c03e1a0fcd9b",
   "metadata": {},
   "outputs": [
    {
     "name": "stdout",
     "output_type": "stream",
     "text": [
      "H1 rejected Ho accepted\n"
     ]
    }
   ],
   "source": [
    "\n",
    "if p < alpha:\n",
    "    print(\"Ho rejected H1 accepted\")\n",
    "else:\n",
    "    print(\"H1 rejected Ho accepted\")\n",
    "\n"
   ]
  },
  {
   "cell_type": "markdown",
   "id": "b0b27146-b404-48e7-9518-5eeee22fa47f",
   "metadata": {},
   "source": [
    "by Pvalue calculation we get .. Ho accepted so they are independent so it means (independent)."
   ]
  },
  {
   "cell_type": "markdown",
   "id": "cf82ced7-08b5-471f-9e2a-5d7ef8fa88d7",
   "metadata": {},
   "source": [
    "# with table value result\n"
   ]
  },
  {
   "cell_type": "code",
   "execution_count": 7,
   "id": "9a05b363-bda1-421b-99e0-e51470a93073",
   "metadata": {},
   "outputs": [
    {
     "name": "stdout",
     "output_type": "stream",
     "text": [
      "Critical Value: 9.487729036781154\n"
     ]
    }
   ],
   "source": [
    "\n",
    "from scipy.stats import chi2\n",
    "\n",
    "# Given significance level and degrees of freedom\n",
    "alpha = 0.05\n",
    "#with table value result\n",
    "\n",
    "# Determine critical value\n",
    "critical_value = chi2.ppf(1 - alpha, dof)\n",
    "print(\"Critical Value:\", critical_value)\n"
   ]
  },
  {
   "cell_type": "markdown",
   "id": "19198029-ed61-4507-aa73-ebac83ba8ca0",
   "metadata": {},
   "source": [
    "chi_square table value (or)critical value=9.4877.\n",
    "\n",
    "Chi-Square Statistic =5.6382.\n",
    "\n",
    "clearly chi calulated value falls under accepted region.\n",
    "\n",
    "soo Ho is accepted and H1 is rejected.\n",
    "\n",
    "Ho=The variables \"Device Type\" and \"Customer Satisfaction\" are independent.\n",
    "\n",
    "they are independent(no relationship ).\n",
    "\n",
    "we have a statistical evidence to prove that there is no relationship B/W them .\n",
    "\n",
    "and we faild to reject Ho(null hypothesis).\n"
   ]
  },
  {
   "cell_type": "markdown",
   "id": "d572b237-8b48-4587-a425-e9f58b4e5731",
   "metadata": {},
   "source": [
    "# HYPOTHESIS TESTING\n",
    "\n",
    "Background:\n",
    "\n",
    "Bombay hospitality Ltd. operates a franchise model for producing exotic Norwegian dinners throughout New England. The operating cost for a franchise in a week (W) is given by the equation W = $1,000 + $5X, where X represents the number of units produced in a week. Recent feedback from restaurant owners suggests that this cost model may no longer be accurate, as their observed weekly operating costs are higher.\n",
    "    \n",
    "Objective:\n",
    "\n",
    "To investigate the restaurant owners' claim about the increase in weekly operating costs using hypothesis testing.\n",
    "\n",
    "Data Provided:\n",
    "\n",
    "•\tThe theoretical weekly operating cost model: W = $1,000 + $5X\n",
    "\n",
    "•\tSample of 25 restaurants with a mean weekly cost of Rs. 3,050\n",
    "\n",
    "•\tNumber of units produced in a week (X) follows a normal distribution with a mean (μ) of 600 units and a standard deviation (σ) of 25 units\n",
    "\n",
    "Assignment Tasks:\n",
    "\n",
    "1. State the Hypotheses statement:\n",
    "\n",
    "2. Calculate the Test Statistic:\n",
    "\n",
    "Use the following formula to calculate the test statistic (t):\n",
    "\n",
    "where:\n",
    "\n",
    "•\tˉxˉ = sample mean weekly cost (Rs. 3,050)\n",
    "\n",
    "•\tμ = theoretical mean weekly cost according to the cost model (W = $1,000 + $5X for X = 600 units)\n",
    "\n",
    "•\tσ = 5*25 units\n",
    "\n",
    "•\tn = sample size (25 restaurants)\n",
    "\n",
    "3. Determine the Critical Value:\n",
    "\n",
    "Using the alpha level of 5% (α = 0.05), determine the critical value from the standard normal (Z) distribution table.\n",
    "\n",
    "4. Make a Decision:\n",
    "\n",
    "Compare the test statistic with the critical value to decide whether to reject the null hypothesis.\n",
    "\n",
    "5. Conclusion:\n",
    "\n",
    "Based on the decision in step 4, conclude whether there is strong evidence to support the restaurant owners' claim that the weekly operating costs are higher than the model suggests.\n",
    "\n",
    "Submission Guidelines:\n",
    "\n",
    "•\tPrepare python file detailing each step of your hypothesis testing process.\n",
    "    \n",
    "•\tInclude calculations for the test statistic and the critical value.\n",
    "    \n",
    "•\tProvide a clear conclusion based on your analysis.\n",
    "\n"
   ]
  },
  {
   "cell_type": "markdown",
   "id": "37102e6d-773d-447e-a124-0aa7ff57cf54",
   "metadata": {},
   "source": [
    "# by Test Statistic calculation :"
   ]
  },
  {
   "cell_type": "code",
   "execution_count": 11,
   "id": "ad326af7-9ed5-4a7b-affa-5cc5f8979154",
   "metadata": {},
   "outputs": [
    {
     "name": "stdout",
     "output_type": "stream",
     "text": [
      "test_statistic value: -38.0\n",
      "critical value: 1.7108820799094275\n",
      "Fail to reject the null hypothesis.\n",
      "There is not enough evidence to support the claim that the weekly operating costs are higher than the model suggests.\n"
     ]
    }
   ],
   "source": [
    "import numpy as np\n",
    "from scipy.stats import t\n",
    "\n",
    "# Given data\n",
    "sample_mean = 3050  # Rs.\n",
    "theoretical_mean = 1000 + 5 * 600  # Rs.\n",
    "standard_deviation = 5 * 25  # Rs.\n",
    "sample_size = 25\n",
    "alpha = 0.05\n",
    "\n",
    "# 1. State the Hypotheses statement:\n",
    "# Null Hypothesis (H0): The observed weekly operating costs are consistent with the theoretical model.\n",
    "# Alternative Hypothesis (H1): The observed weekly operating costs are higher than the theoretical model.\n",
    "\n",
    "# 2. Calculate the Test Statistic:\n",
    "# Using the formula: t = (sample_mean - theoretical_mean) / (standard_deviation / sqrt(sample_size))\n",
    "t_cal = (sample_mean - theoretical_mean) / (standard_deviation / np.sqrt(sample_size))\n",
    "print(\"test_statistic value:\",t_cal)\n",
    "# 3. Determine the Critical Value:\n",
    "# Degrees of freedom for a one-sample t-test: df = sample_size - 1\n",
    "df = sample_size - 1\n",
    "# Critical value from t-distribution\n",
    "critical_value = t.ppf(1 - alpha, df)\n",
    "print(\"critical value:\",critical_value)\n",
    "# 4. Make a Decision:\n",
    "# here t_cal value falls under accepted region so Ho accepted H1 rejected \n",
    "reject_null = t_cal > critical_value\n",
    "\n",
    "# 5. Conclusion:\n",
    "if reject_null:\n",
    "    print(\"Reject the null hypothesis.\")\n",
    "    print(\"There is strong evidence to support the restaurant owners' claim that the weekly operating costs are higher than the model suggests.\")\n",
    "else:\n",
    "    print(\"Fail to reject the null hypothesis.\")\n",
    "    print(\"There is not enough evidence to support the claim that the weekly operating costs are higher than the model suggests.\")\n"
   ]
  },
  {
   "cell_type": "markdown",
   "id": "19257a28-3224-4ce4-83e7-dff90942eb73",
   "metadata": {},
   "source": [
    "here t_cal value falls under accepted region so Ho accepted H1 rejected ."
   ]
  },
  {
   "cell_type": "markdown",
   "id": "c35aecee-85a6-4529-8817-e17197881f03",
   "metadata": {},
   "source": [
    "# by Pvalue calculation:"
   ]
  },
  {
   "cell_type": "code",
   "execution_count": 12,
   "id": "6c5d2d3c-56b3-446d-aeee-7a5db35e3a57",
   "metadata": {},
   "outputs": [
    {
     "name": "stdout",
     "output_type": "stream",
     "text": [
      "Pvalue: 1.0\n",
      "H1 is rejected and Ho is accepted\n"
     ]
    }
   ],
   "source": [
    "p_value=1-stats.norm.cdf(z_cal)\n",
    "print(\"Pvalue:\",p_value)\n",
    "if p_value<alpha:\n",
    "    print(\"Ho is rejected and H1 is accepted\")\n",
    "else:\n",
    "    print(\"H1 is rejected and Ho is accepted\")"
   ]
  },
  {
   "cell_type": "markdown",
   "id": "d5921717-4182-4908-a4a4-d8655f7db27a",
   "metadata": {},
   "source": [
    "# conclusion"
   ]
  },
  {
   "cell_type": "markdown",
   "id": "f71adf88-db89-48ca-be0e-a422a70982d5",
   "metadata": {},
   "source": [
    "Fail to reject the null hypothesis.\n",
    "There is not enough evidence to support the claim that the weekly operating costs are higher than the model suggests."
   ]
  }
 ],
 "metadata": {
  "kernelspec": {
   "display_name": "Python 3 (ipykernel)",
   "language": "python",
   "name": "python3"
  },
  "language_info": {
   "codemirror_mode": {
    "name": "ipython",
    "version": 3
   },
   "file_extension": ".py",
   "mimetype": "text/x-python",
   "name": "python",
   "nbconvert_exporter": "python",
   "pygments_lexer": "ipython3",
   "version": "3.11.7"
  }
 },
 "nbformat": 4,
 "nbformat_minor": 5
}
