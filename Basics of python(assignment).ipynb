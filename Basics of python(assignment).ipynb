{
 "cells": [
  {
   "cell_type": "markdown",
   "id": "80105397-24b9-49eb-945a-f7f526c5f5f9",
   "metadata": {},
   "source": [
    "# PYTHON PROGRAMMING ASSIGNMENT\n",
    "Coding Exercises\n",
    "Exercise 1: Prime Numbers\n",
    "Write a Python program that checks whether a given number is prime or not. A prime number is a natural number greater than 1 that has no positive divisors other than 1 and itself.\n",
    "\n",
    "Exercise 2: Product of Random Numbers\n",
    "\n",
    "\n",
    "Develop a Python program that generates two random numbers and asks the user to enter the product of these numbers. The program should then check if the user's answer is correct and display an appropriate message.\n",
    "\n",
    "Exercise 3: Squares of Even/Odd Numbers\n",
    "\n",
    "\n",
    "Create a Python script that prints the squares of all even or odd numbers within the range of 100 to 200. Choose either even or odd numbers and document your choice in the code.\n",
    "Exercise 4: Word counter\n",
    "\n",
    "\n",
    "write a program to count the number of words in a given text.\n",
    "example:\n",
    "input_text = \"This is a sample text. This text will be used to demonstrate the word counter.\"\n",
    "Expected output:\n",
    "'This': 2 \n",
    "\n",
    "'is': 1\n",
    "\n",
    "'a': 1\n",
    "\n",
    "'sample': 1\n",
    "\n",
    "'text.': 1\n",
    "\n",
    "Exercise 5: Check for Palindrome\n",
    "\n",
    "Write a Python function called is_palindrome that takes a string as input and returns True if the string is a palindrome, and False otherwise. A palindrome is a word, phrase, number, or other sequence of characters that reads the same forward and backward, ignoring spaces, punctuation, and capitalization.\n",
    "\n",
    "Example:\n",
    "\n",
    "Input: \"racecar\"\n",
    "\n",
    "Expected Output: True\n",
    "________________________________________\n",
    "Please complete the coding exercises and answer the theoretical questions. Submit your work in a single Python (.ipynb) file for the coding exercises.Ensure your code is well-commented to explain your logic and approach. Good luck!\n",
    "\n"
   ]
  },
  {
   "cell_type": "markdown",
   "id": "228a1c59-3b23-45b6-bd83-9928e8e43ca4",
   "metadata": {},
   "source": [
    "# Exercise 1: Prime Numbers"
   ]
  },
  {
   "cell_type": "code",
   "execution_count": 4,
   "id": "c639988b-f3c6-4aed-a56b-79e60a1ac199",
   "metadata": {},
   "outputs": [
    {
     "name": "stdin",
     "output_type": "stream",
     "text": [
      "Enter a number:  5\n"
     ]
    },
    {
     "name": "stdout",
     "output_type": "stream",
     "text": [
      "5 is a prime number.\n"
     ]
    }
   ],
   "source": [
    "\n",
    "# Write a Python program that checks whether a given number is prime or not. A prime number is a natural number greater than 1 that has no positive divisors other than 1 and itself.\n",
    "\n",
    "def is_prime(number):\n",
    "  \"\"\"\n",
    "  This function checks whether a given number is prime or not.\n",
    "\n",
    "  Args:\n",
    "    number: The number to be checked.\n",
    "\n",
    "  Returns:\n",
    "    True if the number is prime, False otherwise.\n",
    "  \"\"\"\n",
    "\n",
    "  if number <= 1:\n",
    "    return False\n",
    "\n",
    "  for divisor in range(2, int(number**0.5) + 1):\n",
    "    if number % divisor == 0:\n",
    "      return False\n",
    "\n",
    "  return True\n",
    "\n",
    "# Prompt the user for a number\n",
    "number = int(input(\"Enter a number: \"))\n",
    "\n",
    "# Check if the number is prime\n",
    "if is_prime(number):\n",
    "  print(f\"{number} is a prime number.\")\n",
    "else:\n",
    "  print(f\"{number} is not a prime number.\")\n"
   ]
  },
  {
   "cell_type": "markdown",
   "id": "cd134613-6a0b-420a-b019-d9f03dbd278a",
   "metadata": {},
   "source": [
    "# Exercise 2: Product of Random Numbers"
   ]
  },
  {
   "cell_type": "code",
   "execution_count": 5,
   "id": "1b60d34e-34f9-4a58-93d2-3cfc20637b21",
   "metadata": {},
   "outputs": [
    {
     "name": "stdin",
     "output_type": "stream",
     "text": [
      "What is the product of 2 and 8?  16\n"
     ]
    },
    {
     "name": "stdout",
     "output_type": "stream",
     "text": [
      "Congratulations! Your answer is correct.\n"
     ]
    }
   ],
   "source": [
    "\n",
    "# Develop a Python program that generates two random numbers and asks the user to enter the product of these numbers. The program should then check if the user's answer is correct and display an appropriate message.\n",
    "\n",
    "import random\n",
    "\n",
    "# Generate two random numbers\n",
    "num1 = random.randint(1, 10)\n",
    "num2 = random.randint(1, 10)\n",
    "\n",
    "# Ask the user for the product of the two numbers\n",
    "product = int(input(f\"What is the product of {num1} and {num2}? \"))\n",
    "\n",
    "# Check if the user's answer is correct\n",
    "if product == num1 * num2:\n",
    "  print(\"Congratulations! Your answer is correct.\")\n",
    "else:\n",
    "  print(f\"Sorry, your answer is incorrect. The correct answer is {num1 * num2}.\")\n"
   ]
  },
  {
   "cell_type": "markdown",
   "id": "cad841cc-e3f3-4802-8c93-fec8c6e22275",
   "metadata": {},
   "source": [
    "# Exercise 3: Squares of Even/Odd Numbers"
   ]
  },
  {
   "cell_type": "code",
   "execution_count": 6,
   "id": "bdd937c6-5fa1-480d-9041-e03d7dc89ca6",
   "metadata": {},
   "outputs": [
    {
     "name": "stdout",
     "output_type": "stream",
     "text": [
      "Squares of even numbers between 100 and 200:\n",
      "10000\n",
      "10404\n",
      "10816\n",
      "11236\n",
      "11664\n",
      "12100\n",
      "12544\n",
      "12996\n",
      "13456\n",
      "13924\n",
      "14400\n",
      "14884\n",
      "15376\n",
      "15876\n",
      "16384\n",
      "16900\n",
      "17424\n",
      "17956\n",
      "18496\n",
      "19044\n",
      "19600\n",
      "20164\n",
      "20736\n",
      "21316\n",
      "21904\n",
      "22500\n",
      "23104\n",
      "23716\n",
      "24336\n",
      "24964\n",
      "25600\n",
      "26244\n",
      "26896\n",
      "27556\n",
      "28224\n",
      "28900\n",
      "29584\n",
      "30276\n",
      "30976\n",
      "31684\n",
      "32400\n",
      "33124\n",
      "33856\n",
      "34596\n",
      "35344\n",
      "36100\n",
      "36864\n",
      "37636\n",
      "38416\n",
      "39204\n",
      "40000\n"
     ]
    }
   ],
   "source": [
    "\n",
    "# Create a Python script that prints the squares of all even or odd numbers within the range of 100 to 200. Choose either even or odd numbers and document your choice in the code.\n",
    "\n",
    "# Print squares of even numbers between 100 and 200\n",
    "print(\"Squares of even numbers between 100 and 200:\")\n",
    "for i in range(100, 201, 2):\n",
    "  print(i**2)\n",
    "\n",
    "# Print squares of odd numbers between 100 and 200\n",
    "#print(\"Squares of odd numbers between 100 and 200:\")\n",
    "#for i in range(101, 201, 2):\n",
    "#  print(i**2)\n"
   ]
  },
  {
   "cell_type": "code",
   "execution_count": 8,
   "id": "3d100628-25ba-4904-9199-1954ad87ac27",
   "metadata": {},
   "outputs": [
    {
     "name": "stdout",
     "output_type": "stream",
     "text": [
      "Squares of odd numbers between 100 and 200:\n",
      "10201\n",
      "10609\n",
      "11025\n",
      "11449\n",
      "11881\n",
      "12321\n",
      "12769\n",
      "13225\n",
      "13689\n",
      "14161\n",
      "14641\n",
      "15129\n",
      "15625\n",
      "16129\n",
      "16641\n",
      "17161\n",
      "17689\n",
      "18225\n",
      "18769\n",
      "19321\n",
      "19881\n",
      "20449\n",
      "21025\n",
      "21609\n",
      "22201\n",
      "22801\n",
      "23409\n",
      "24025\n",
      "24649\n",
      "25281\n",
      "25921\n",
      "26569\n",
      "27225\n",
      "27889\n",
      "28561\n",
      "29241\n",
      "29929\n",
      "30625\n",
      "31329\n",
      "32041\n",
      "32761\n",
      "33489\n",
      "34225\n",
      "34969\n",
      "35721\n",
      "36481\n",
      "37249\n",
      "38025\n",
      "38809\n",
      "39601\n"
     ]
    }
   ],
   "source": [
    "# Create a Python script that prints the squares of all even or odd numbers within the range of 100 to 200. Choose either even or odd numbers and document your choice in the code.\n",
    "\n",
    "# Print squares of even numbers between 100 and 200\n",
    "#print(\"Squares of even numbers between 100 and 200:\")\n",
    "#for i in range(100, 201, 2):\n",
    " # print(i**2)\n",
    "\n",
    "#Print squares of odd numbers between 100 and 200\n",
    "print(\"Squares of odd numbers between 100 and 200:\")\n",
    "for i in range(101, 201, 2):\n",
    "  print(i**2)"
   ]
  },
  {
   "cell_type": "markdown",
   "id": "3625f2fc-0d60-4314-be46-1556db130e25",
   "metadata": {},
   "source": [
    "# Exercise 4: Word counter"
   ]
  },
  {
   "cell_type": "code",
   "execution_count": 9,
   "id": "131a2c0b-e16b-437e-865f-a89500b131cf",
   "metadata": {},
   "outputs": [
    {
     "name": "stdout",
     "output_type": "stream",
     "text": [
      "'This': 2\n",
      "'is': 1\n",
      "'a': 1\n",
      "'sample': 1\n",
      "'text.': 1\n",
      "'text': 1\n",
      "'will': 1\n",
      "'be': 1\n",
      "'used': 1\n",
      "'to': 1\n",
      "'demonstrate': 1\n",
      "'the': 1\n",
      "'word': 1\n",
      "'counter.': 1\n"
     ]
    }
   ],
   "source": [
    "\n",
    "# write a program to count the number of words in a given text.\n",
    "# example:\n",
    "# input_text = \"This is a sample text. This text will be used to demonstrate the word counter.\"\n",
    "# Expected output:\n",
    "# 'This': 2 \n",
    "# 'is': 1\n",
    "# 'a': 1\n",
    "# 'sample': 1\n",
    "# 'text.': 1\n",
    "\n",
    "input_text = \"This is a sample text. This text will be used to demonstrate the word counter.\"\n",
    "\n",
    "# Split the text into words\n",
    "words = input_text.split()\n",
    "\n",
    "# Count the number of occurrences of each word\n",
    "word_counts = {}\n",
    "for word in words:\n",
    "  if word in word_counts:\n",
    "    word_counts[word] += 1\n",
    "  else:\n",
    "    word_counts[word] = 1\n",
    "\n",
    "# Print the word counts\n",
    "for word, count in word_counts.items():\n",
    "  print(f\"'{word}': {count}\")\n"
   ]
  },
  {
   "cell_type": "markdown",
   "id": "c1eb90e2-0701-4e5b-bce9-589115f78847",
   "metadata": {},
   "source": [
    "# Exercise 5: Check for Palindrome"
   ]
  },
  {
   "cell_type": "code",
   "execution_count": 10,
   "id": "b73b7436-65b3-43ca-8a44-3a75d5ae57af",
   "metadata": {},
   "outputs": [
    {
     "name": "stdout",
     "output_type": "stream",
     "text": [
      "'racecar' is a palindrome.\n"
     ]
    }
   ],
   "source": [
    "\n",
    "# Write a Python function called is_palindrome that takes a string as input and returns True if the string is a palindrome, and False otherwise. A palindrome is a word, phrase, number, or other sequence of characters that reads the same forward and backward, ignoring spaces, punctuation, and capitalization.\n",
    "# Example:\n",
    "# Input: \"racecar\"\n",
    "# Expected Output: True\n",
    "\n",
    "def is_palindrome(string):\n",
    "  \"\"\"\n",
    "  This function checks whether a given string is a palindrome or not.\n",
    "\n",
    "  Args:\n",
    "    string: The string to be checked.\n",
    "\n",
    "  Returns:\n",
    "    True if the string is a palindrome, False otherwise.\n",
    "  \"\"\"\n",
    "\n",
    "  # Lowercase the string and remove spaces and punctuation\n",
    "  string = string.lower().replace(\" \", \"\").replace(\",\", \"\").replace(\".\", \"\")\n",
    "\n",
    "  # Check if the string is the same forwards and backwards\n",
    "  return string == string[::-1]\n",
    "\n",
    "# Test the function\n",
    "string = \"racecar\"\n",
    "if is_palindrome(string):\n",
    "  print(f\"'{string}' is a palindrome.\")\n",
    "else:\n",
    "  print(f\"'{string}' is not a palindrome.\")\n"
   ]
  },
  {
   "cell_type": "code",
   "execution_count": null,
   "id": "61587fb9-af04-48b3-9bdf-532c3d202776",
   "metadata": {},
   "outputs": [],
   "source": []
  }
 ],
 "metadata": {
  "kernelspec": {
   "display_name": "Python 3 (ipykernel)",
   "language": "python",
   "name": "python3"
  },
  "language_info": {
   "codemirror_mode": {
    "name": "ipython",
    "version": 3
   },
   "file_extension": ".py",
   "mimetype": "text/x-python",
   "name": "python",
   "nbconvert_exporter": "python",
   "pygments_lexer": "ipython3",
   "version": "3.11.7"
  }
 },
 "nbformat": 4,
 "nbformat_minor": 5
}
